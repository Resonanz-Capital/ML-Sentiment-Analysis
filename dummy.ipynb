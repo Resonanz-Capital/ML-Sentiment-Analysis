{
 "cells": [
  {
   "cell_type": "code",
   "execution_count": null,
   "id": "initial_id",
   "metadata": {
    "collapsed": true
   },
   "outputs": [],
   "source": []
  },
  {
   "cell_type": "code",
   "execution_count": 1,
   "outputs": [],
   "source": [
    "from utils import get_df\n",
    "\n",
    "df = get_df(fund_id=3)"
   ],
   "metadata": {
    "collapsed": false,
    "ExecuteTime": {
     "end_time": "2024-04-25T10:03:37.738223200Z",
     "start_time": "2024-04-25T10:03:34.790928700Z"
    }
   },
   "id": "b0e3debc68afb43a"
  },
  {
   "cell_type": "code",
   "execution_count": 9,
   "outputs": [
    {
     "name": "stdout",
     "output_type": "stream",
     "text": [
      "Tokens: ['AQR', 'Systematic', 'Total', 'Return', 'UCITS', 'Fund', 'March', '2023', 'Strategy', 'Overview', '•', 'Objective', ':', 'Achieve', 'a', 'long-term', 'net', 'return', 'of', 'cash', '+', '6', '%', 'per', 'annum', 'with', 'only', 'modest', 'strategic', 'exposure', 'to', 'equity', 'and', 'bond', 'markets', 'over', 'a', 'full', 'market', 'cycle', '•', 'Role', 'in', 'Portfolio', ':', 'Diversify', 'traditional', 'asset', 'allocations', 'across', 'macroeconomic', 'environments', 'whilst', 'targeting', 'a', 'moderate', 'level', 'of', 'portfolio', 'risk', '•', 'Sources', 'of', 'Return', ':', 'Risk-balanced', 'market', 'exposures', ',', 'multi-asset', 'trend', ',', 'and', 'market-neutral', 'stock', 'selection', 'Fund', 'Description', 'Global', ',', 'total', 'return', 'portfolio', 'with', 'exposures', 'to', 'three', 'diversifying', 'sub-strategies', ',', 'delivered', 'in', 'a', 'transparent', ',', 'liquid', 'vehicle', '.', 'The', 'Fund', 'takes', 'long', 'and', 'short', 'positions', 'and', 'seeks', 'to', 'deliver', 'low', 'long-term', 'correlation', 'to', 'traditional', 'asset', 'classes', '.', 'The', 'Fund', 'is', 'actively', 'managed', 'to', 'maintain', 'a', 'moderate', 'risk', 'level', 'and', 'to', 'preserve', 'balanced', 'risk', 'allocations', 'across', 'three', 'underlying', 'competencies', ':', 'Risk-Balanced', 'Market', 'Exposures', ',', 'Multi-Asset', 'Trend', 'and', 'Market-Neutral', 'Security', 'Selection', ',', 'deployed', 'across', 'multiple', 'asset', 'classes', 'and', 'regions', '.', 'As', 'the', 'three', 'components', 'seek', 'to', 'generate', 'returns', 'from', 'different', 'sources', 'and', 'tend', 'to', 'be', 'lowly', 'correlated', 'to', 'each', 'other', ',', 'they', 'produce', 'a', 'highly', 'diversified', 'portfolio', 'which', 'has', 'the', 'potential', 'to', 'deliver', 'high', 'risk-adjusted', 'returns', '.', 'Sub-Strategies', 'Risk-Balanced', 'Market', 'Exposures', '•', 'Balanced-risk', ',', 'long', 'exposures', 'to', 'stocks', ',', 'bonds', 'and', 'commodities', 'Multi-Asset', 'Trend', 'Market-', 'Risk-', 'Neutral', 'Balanced', '•', 'Long', 'and', 'short', 'exposures', 'driven', 'by', 'price', 'Stock', 'Market', 'and', 'fundamental', 'trend-following', 'signals', 'Selection', 'Exposures', 'across', 'multiple', 'time', 'horizons', 'and', 'asset', 'classes', 'Multi-Asset', 'Market-Neutral', 'Stock', 'Selection', 'Trend', '•', 'Long/short', 'positions', 'across', 'a', 'global', 'stock', 'universe', 'selected', 'through', 'a', 'bottom-up', ',', 'multi-factor', 'process', 'Source', ':', 'AQR', '.', 'Objectives', 'may', 'be', 'subject', 'to', 'change', 'and', 'there', 'is', 'no', 'guarantee', ',', 'express', 'or', 'implied', ',', 'that', 'long-term', 'return', 'and/or', 'volatility', 'targets', 'will', 'be', 'achieved', '.', 'Diversification', 'does', 'not', 'eliminate', 'the', 'risk', 'of', 'experiencing', 'investment', 'losses', '.', 'The', 'Fund', 'is', 'actively', 'managed', ',', 'which', 'means', 'that', 'the', 'investments', 'are', 'selected', 'at', 'the', 'discretion', 'of', 'AQR', '.', 'The', 'Fund', 'is', 'not', 'managed', 'in', 'reference', 'to', 'a', 'benchmark', '.', '1', 'For', 'Institutional', 'Investor', 'Use', 'Only', '.', 'AQR', 'Systematic', 'Total', 'Return', 'UCITS', 'Fund', 'Fund', 'Details', 'Investment', 'Manager', 'AQR', 'Capital', 'Management', ',', 'LLC', 'Fund', 'Assets', '$', '278m', 'Strategy', 'Assets', '$', '1,347m', 'Domicile', 'Luxembourg', 'Inception', 'Date', 'February', '1', ',', '2017', 'Dealing', 'Daily', 'Fees', '1.25', '%', 'management', 'fee', 'Institutional', 'Accumulation', '&', 'Share', 'Classes', 'Retail', 'Accumulation', 'Distribution', 'Currency', 'Denomination', 'EUR', ',', 'GBP', ',', 'USD', ',', 'CHF', ',', 'BRL', 'EUR', ',', 'GBP', ',', 'USD', ',', 'CHF', 'Minimum', 'Subscription', '100,000', '10,000', 'Administrative', 'and', 'Operating', 'Fees', '0.14', '%', '0.20', '%', 'Local', 'Tax', '0.01', '%', '0.05', '%', 'About', 'AQR', 'AQR', 'is', 'a', 'global', 'investment', 'management', 'firm', 'built', 'at', 'the', 'intersection', 'of', 'financial', 'theory', '1998', 'and', 'practical', 'application', '.', 'We', 'strive', 'to', 'deliver', 'superior', ',', 'long-term', 'results', 'for', 'our', 'clients', 'by', 'looking', 'past', 'market', 'noise', 'to', 'identify', 'and', 'isolate', 'what', 'matters', 'most', ',', 'and', 'by', 'Year', 'founded', '1998', 'developing', 'ideas', 'that', 'stand', 'up', 'to', 'rigorous', 'testing', '.', 'Our', 'focus', 'on', 'practical', 'insights', 'and', 'Year', 'Founded', 'analysis', 'has', 'made', 'us', 'leaders', 'in', 'alternative', 'and', 'traditional', 'strategies', 'since', '1998', '.', 'We', 'have', 'a', 'firmwide', 'commitment', 'to', 'responsible', 'investing', 'and', 'have', 'utilized', 'ESG-', 'related', 'alpha', 'signals', 'in', 'our', 'security', 'selection', 'models', 'since', 'the', 'firm', '’', 's', 'inception', '.', 'In', '~600', 'addition', 'to', 'their', 'use', 'across', '~80', '%', 'of', 'AQR', '’', 's', 'assets', 'under', 'management', ',', 'we', 'have', 'offered', 'dedicated', 'Sustainable', 'strategies', 'since', '2016', 'and', 'climate-aware', 'Employees', 'implementations', 'since', '2017', '.', 'W', 'e', 'have', 'published', 'widely', 'on', 'ESG-related', 'topics', '.', 'across', '6', 'global', 'offices', 'Alternative', 'Alternative', 'Broad', 'Range', 'Traditional', 'Equity', 'of', 'Investment', 'Total', 'Return', 'Absolute', 'Return', '~30', '$', '56.6bn', '$', '19.4', 'bn', '$', '20.5', 'bn', 'Solutions', 'Ph.D.s', 'and', '~15', 'professors', 'Diversified', 'EMEA', '&', 'Lat', 'Am', 'North', 'America', 'Asia', 'Pacific', 'Client', 'Base', '$', '24.5bn', '$', '58bn', '$', '15bn', '$', '97bn', 'Firmwide', 'AUM', 'Source', ':', 'AQR', '.', 'Fund', 'details', 'as', 'of', 'March', '31', ',', '2023', '.', 'Firmwide', 'AUM', 'and', 'employee', 'numbers', 'as', 'of', 'March', '31', ',', '2023', '.', 'AUM', 'data', 'includes', 'assets', 'managed', 'by', 'AQR', 'and', 'its', 'advisory', 'affiliates', '.', '4']\n"
     ]
    }
   ],
   "source": [
    "from extractor4 import extract_text_without_sections\n",
    "import nltk\n",
    "import wordninja\n",
    "# nltk.download('punkt')\n",
    "# nltk.download('words')\n",
    "# Example text\n",
    "texts = df.document_text\n",
    "# text = texts.iloc[2]\n",
    "# Tokenize the text\n",
    "text = extract_text_without_sections(\"report.pdf\", exclude_keywords=[\"Disclosure\", \"Disclaimer\"]) #\n",
    "tokens = nltk.word_tokenize(text)\n",
    "print(\"Tokens:\", tokens)\n"
   ],
   "metadata": {
    "collapsed": false,
    "ExecuteTime": {
     "end_time": "2024-04-25T10:07:45.999153Z",
     "start_time": "2024-04-25T10:07:44.818632300Z"
    }
   },
   "id": "5ec3bfb7d4d1d4c4"
  },
  {
   "cell_type": "code",
   "execution_count": 10,
   "outputs": [
    {
     "name": "stdout",
     "output_type": "stream",
     "text": [
      "Suspect words: ['AQR', 'UCITS', '2023', '•', ':', 'long-term', '+', '6', '%', 'annum', 'markets', '•', ':', 'allocations', 'macroeconomic', 'environments', 'targeting', '•', 'Sources', ':', 'Risk-balanced', 'exposures', ',', 'multi-asset', ',', 'market-neutral', ',', 'exposures', 'diversifying', 'sub-strategies', ',', 'delivered', ',', '.', 'takes', 'positions', 'seeks', 'long-term', '.', 'managed', 'allocations', 'competencies', ':', 'Risk-Balanced', 'Exposures', ',', 'Multi-Asset', 'Market-Neutral', ',', 'deployed', 'regions', '.', 'components', 'returns', 'sources', ',', 'has', 'risk-adjusted', 'returns', '.', 'Sub-Strategies', 'Risk-Balanced', 'Exposures', '•', 'Balanced-risk', ',', 'exposures', ',', 'bonds', 'commodities', 'Multi-Asset', 'Market-', 'Risk-', '•', 'exposures', 'trend-following', 'signals', 'Exposures', 'horizons', 'Multi-Asset', 'Market-Neutral', '•', 'Long/short', 'positions', 'bottom-up', ',', 'multi-factor', ':', 'AQR', '.', 'Objectives', ',', 'implied', ',', 'long-term', 'and/or', 'targets', 'achieved', '.', 'Diversification', 'experiencing', 'losses', '.', 'managed', ',', 'means', 'investments', 'AQR', '.', 'managed', 'benchmark', '.', '1', 'Institutional', '.', 'AQR', 'UCITS', 'Details', 'AQR', ',', 'LLC', '$', '278m', '$', '1,347m', 'Luxembourg', 'February', '1', ',', '2017', 'Fees', '1.25', '%', 'Institutional', '&', 'EUR', ',', 'GBP', ',', 'USD', ',', 'CHF', ',', 'BRL', 'EUR', ',', 'GBP', ',', 'USD', ',', 'CHF', '100,000', '10,000', 'Administrative', 'Fees', '0.14', '%', '0.20', '%', '0.01', '%', '0.05', '%', 'AQR', 'AQR', '1998', '.', ',', 'long-term', 'results', 'clients', 'matters', ',', 'founded', '1998', 'developing', 'ideas', '.', 'insights', 'Founded', 'has', 'leaders', 'strategies', '1998', '.', 'firmwide', 'investing', 'utilized', 'ESG-', 'signals', 'models', '’', '.', '~600', '~80', '%', 'AQR', '’', ',', 'offered', 'dedicated', 'strategies', '2016', 'climate-aware', 'Employees', 'implementations', '2017', '.', 'published', 'ESG-related', 'topics', '.', '6', 'offices', '~30', '$', '56.6bn', '$', '19.4', 'bn', '$', '20.5', 'bn', 'Solutions', 'Ph.D.s', '~15', 'professors', 'EMEA', '&', 'America', 'Asia', '$', '24.5bn', '$', '58bn', '$', '15bn', '$', '97bn', 'Firmwide', ':', 'AQR', '.', 'details', '31', ',', '2023', '.', 'Firmwide', 'numbers', '31', ',', '2023', '.', 'includes', 'managed', 'AQR', 'affiliates', '.', '4']\n"
     ]
    }
   ],
   "source": [
    "# Simple list of common English words for demo purposes, consider using a comprehensive dictionary or nltk.corpus.words\n",
    "common_words = set(nltk.corpus.words.words())\n",
    "\n",
    "def is_suspect(word):\n",
    "    # You might adjust the length threshold based on your specific needs\n",
    "    return len(word) > 12 or word.lower() not in common_words\n",
    "\n",
    "suspect_words = [word for word in tokens if is_suspect(word)]\n",
    "print(\"Suspect words:\", suspect_words)\n"
   ],
   "metadata": {
    "collapsed": false,
    "ExecuteTime": {
     "end_time": "2024-04-25T10:07:46.910324100Z",
     "start_time": "2024-04-25T10:07:46.852738900Z"
    }
   },
   "id": "b6a5c3f06f5fba33"
  },
  {
   "cell_type": "code",
   "execution_count": 11,
   "outputs": [
    {
     "name": "stdout",
     "output_type": "stream",
     "text": [
      "Words needing split: ['AQR', 'UCITS', 'long-term', 'Risk-balanced', 'multi-asset', 'market-neutral', 'sub-strategies', 'long-term', 'Risk-Balanced', 'Multi-Asset', 'Market-Neutral', 'risk-adjusted', 'Sub-Strategies', 'Risk-Balanced', 'Balanced-risk', 'Multi-Asset', 'trend-following', 'Multi-Asset', 'Market-Neutral', 'Long/short', 'bottom-up', 'multi-factor', 'AQR', 'long-term', 'and/or', 'AQR', 'AQR', 'UCITS', 'AQR', '278m', '1,347m', '1.25', 'CHF', 'BRL', 'CHF', '100,000', '10,000', '0.14', '0.20', '0.01', '0.05', 'AQR', 'AQR', 'long-term', 'firmwide', 'ESG-', 'AQR', 'climate-aware', 'ESG-related', '56.6bn', '19.4', '20.5', 'Ph.D.s', 'EMEA', '24.5bn', '58bn', '15bn', '97bn', 'Firmwide', 'AQR', 'Firmwide', 'AQR']\n",
      "Count of words needing split: 62\n"
     ]
    }
   ],
   "source": [
    "def needs_splitting(word):\n",
    "    split_words = wordninja.split(word)\n",
    "    return len(split_words) > 1\n",
    "\n",
    "words_needing_split = [word for word in suspect_words if needs_splitting(word)]\n",
    "print(\"Words needing split:\", words_needing_split)\n",
    "print(\"Count of words needing split:\", len(words_needing_split))"
   ],
   "metadata": {
    "collapsed": false,
    "ExecuteTime": {
     "end_time": "2024-04-25T10:07:47.461498300Z",
     "start_time": "2024-04-25T10:07:47.458477300Z"
    }
   },
   "id": "6b70cb89b17ad744"
  },
  {
   "cell_type": "code",
   "execution_count": null,
   "outputs": [],
   "source": [
    "\"\"\"\n",
    "Words needing split: ['AQR', 'besubject', 'tochange', 'andthere', 'isnoguarantee', 'orimplied', 'thatlong-term', 'and/or', 'willbe', 'noteliminate', 'therisk', 'ofexperiencing', 'isactively', 'areselected', 'atthediscretion', 'ofAQR', '.TheFund', 'isnotmanaged', 'inreference', 'toabenchmark', 'along-term', 'netreturn', 'ofcash', 'perannum', 'withonly', 'toequity', 'andbond', 'afullmarket', 'inPortfolio', 'amoderate', 'ofportfolio', 'ofReturn', 'Risk-balanced', 'selectionAQR', 'UCITS', 'tothree', 'sub-strategies', 'inatransparent', 'TheFund', 'andshort', 'andseeks', 'todeliver', 'lowlong-term', 'totraditional', 'TheFund', 'isactively', 'tomaintain', 'amoderate', 'risklevel', 'andtopreserve', 'riskallocations', 'Risk-Balanced', 'andMarket', 'andregions', 'Asthethree', 'togenerate', 'andtend', 'tobelowly', 'toeach', 'ahighly', 'hasthepotential', 'todeliver', 'risk-adjusted', 'Risk-Balanced', '•Long/short', 'processRisk-', 'TrendMarket', 'SelectionSub-Strategies', 'AQR', 'notpredict', 'oneyear', 'areannualised', '.Thepast', '.IfUSD', 'isnotyour', 'thereturns', 'ordecrease', 'forthemonth', '31,2023', 'isestimated', 'andsubject', 'tochange', '.Theinformation', 'inrelation', 'totheindex', 'forcontext', 'andillustration', 'only.Thefund', 'isanactively', 'UCITS', '.Itisnotmanaged', 'inreference', 'toabenchmark', 'isdefined', 'BofAML', '3-Month', 'T-BillIndex', '.Netperformance', 'iscalculated', '1.25', 'mgmt', 'feeperannum', 'anda0.15', 'perannum', 'iscalculated', 'theICEBofAML', 'U.S3-Month', 'T-BillIndex', 'astheriskfreerateofreturn', 'UCITS', '8.8', '0.9', '-16.9', '1.9', '-1.1', '2.3', '-16.6', '0.7', '19.6', '0.0', '30.1', '1.5', 'YTD', '-0.3', '1.1', '8.7', '2.5', '12.7', '0.9', 'Annualized', '2.4', '1.3', '11.4', '0.1', '04/2018', '-03/2019', '-12.5', '2.1', '04/2019', '-03/2020', '-12.4', '2.3', '04/2020', '-03/2021', '6.7', '0.1', '04/2021', '-03/2022', '23.6', '0.1', '04/2022', '-03/2023', '8.7', '2.5', 'AQR', 'UCITS', '2023AQR', 'UCITS', '2Sub-Strategy', 'QTD', 'YTD', 'Risk-Balanced', '1.0', '0.5', '0.5', '-2.4', '-2.0', '-2.0', '-3.1', '1.3', '1.3', '-4.4', '-0.2', '-0.2', 'TheFund', 'usederivatives', 'inanattempt', 'toreduce', 'orforinvestment', '.Itmay', 'bethattheuseofderivatives', 'notalways', 'andcause', 'unitprices', 'tofluctuate', 'inturnresult', 'inloss', 'totheFund', '.TheFund', 'isexposed', 'tothecurrency', 'canoccur', 'insuch', 'andmay', 'inyour', 'aloss.TheFund', 'intooneormore', 'withacounterparty', 'isariskthatthisparty', 'failtomake', 'itspayments', 'orbecome', 'inthefund', 'andyour', 'aloss.TheFund', 'toparticular', '.Afallinvalue', 'ofsuch', 'canresult', 'inaproportionately', 'losstotheFund', '.TheFund', 'inbonds', 'thevalue', 'ofwhich', 'ontheissuer', 'tomake', 'isalways', 'ariskthattheissuer', 'willfailtodosoandthismay', 'inyour', 'aloss.This', 'riskincreases', 'inbonds', 'notberecognised', 'orwhich', 'arerated', 'bymajor', 'orwhich', 'arebacked', 'bymore', 'asmortgages', 'inless', 'asemerging', 'caninvolve', 'welldeveloped', 'thelevel', 'ofgovernment', 'andmarket', 'beless', 'inmore', 'andcould', 'ofyour', 'inemerging', 'alsoincreases', 'theriskofsettlement', 'arerisks', 'withinvesting', 'thepossible', 'lossofprincipal', 'isnotaguarantee', 'offuture', 'TheFund', 'theperformance', 'oftheinvestment', 'oftheFund', '.Iftheinvestment', 'thevalue', 'ofyour', 'islikely', 'tobeadversely', 'inrelation', 'torisks', 'ingeneral', 'befound', 'inthe', 'RiskFactors', 'oftheprospectus', 'AQR', 'Annualized', '2023AQR', 'UCITS', 'AQR', 'AQR', '1,2012', 'toMarch', '31,2023', 'oftheAQR', 'notreflect', 'thededuction', 'ofinvestment', 'andother', 'isexcess', 'ofcash', 'istheICE', 'BofAML', 'U.S.3-Month', 'T-BillIndex', 'isfrom', 'withunique', 'andaccount', 'andmay', 'notbefullyrepresentative', 'ofother', 'thatAQR', 'ischosen', 'asitisthelongest', 'intheAQR', 'intheAppendix', 'issubject', 'tochange', 'and/or', 'asthose', 'inthiscomposite', 'butdonotmeet', 'thiscomposite', 'thiscomposite', 'andreside', 'inoneormore', 'areavailable', 'isnetofa', '1.25', 'feeperannum', '4.2', '0.1', '10.4', '0.1', '20.0', '0.0', '4.4', '0.1', '6.9', '0.3', '10.6', '0.9', '-16.2', '1.9', '-1.0', '2.3', '-14.7', '0.7', '19.6', '0.0', '27.5', '1.5', 'YTD', '-0.5', '1.1', '7.1', '2.5', 'Annl', '12.4', '0.9', 'Annl', '2.0', '1.4', 'Annl', '5.3', '0.9', 'Annualized', '5.5', '0.8', '9.4', '0.5January', 'Risk-Balanced', 'ExposuresMulti-Asset', 'Market-Neutral', 'SelectionAQR', 'AQR', 'asofMarch', '31,2023', '.Firmwide', 'andemployee', 'asofMarch', '31,2023', 'AQR', 'anditsadvisory', '.AQR', 'isaglobal', 'firmbuilt', 'attheintersection', 'offinancial', 'andpractical', '.Westrive', 'todeliver', 'long-term', 'forourclients', 'bylooking', 'toidentify', 'thatstand', 'uptorigorous', '.Ourfocus', 'onpractical', 'hasmade', 'usleaders', 'inalternative', 'andtraditional', 'Wehave', 'afirmwide', 'toresponsible', 'ESG', 'inoursecurity', 'thefirm', 'totheir', 'ofAQR', 'wehave', '.Wehave', 'onESG', 'AQR', 'Ph.D.s', '97bn', 'Firmwide', 'AUMBroad', 'SolutionsTraditional', '56.6bn', '19.4', 'bnAlternative', '20.5', 'BaseEMEA', 'LatAm', '24.5bnNorth', '58bn', '15bnAQR', 'UCITS', '4Fund', 'AQR', '278m', '1,347m', '1.25', 'ClassesInstitutional', 'DistributionRetail', 'CHF', 'BRL', 'CHF', '100,000', '10,000', '0.14', '0.20', '0.01', '0.05', 'TheGIPS', 'fortheSystematic', 'canbefound', 'intheback', 'hasbeen', 'toyousolely', 'forinformation', 'anddoes', 'notconstitute', 'anoffer', 'orsolicitation', 'ofanoffer', 'orany', 'orrecommendation', 'topurchase', 'orother', 'notbeconstrued', 'assuch', 'setforth', 'hasbeen', 'orderived', 'tobereliable', 'butitisnotnecessarily', 'all-inclusive', 'andisnot', 'astoitsaccuracy', 'andisnottoberegarded', 'asarepresentation', 'orwarranty', 'orimplied', 'astotheinformation', 'orcompleteness', 'norshould', 'theattached', 'asthebasis', 'ofanyinvestment', 'isintended', 'fortheuseoftheperson', 'towhom', 'ithasbeen', 'anditisnottobereproduced', 'orredistributed', 'toanyother', 'noteliminate', 'theriskofexperiencing', '.Theinvestment', 'andthemes', 'forinvestors', 'ontheir', 'andfinancial', 'intherate', 'ofacurrency', 'thevalue', 'orincome', 'ofaninvestment', '.Theinformation', 'isonly', 'ascurrent', 'asofthedate', 'andmay', 'besuperseded', 'bysubsequent', 'orforother', 'andgraphs', 'forillustrative', 'only.Theinformation', 'inthispresentation', 'hasbeen', 'and/or', 'AQR', 'northespeaker', 'theaccuracy', 'orcompleteness', 'ofsuch', 'taxorother', 'norisittoberelied', 'oninmaking', 'aninvestment', 'orother', '.Allperformance', 'thereinvestment', 'ofdividends', 'allother', 'ofrealized', 'andlosses', 'byAQR', 'LLC.There', 'isnoguarantee', 'astotheabove', 'notpredict', 'donotreflect', 'thededuction', 'ofinvestment', 'andother', 'aninvestor', '.Netperformance', 'isnetofa2', 'feeand20', 'feeperannum', '.AQR', 'to2.85', 'ofassets', 'andaregenerally', 'orquarterly', 'atthecommencement', 'ofthecalendar', 'orquarter', 'AQR', 'willperform', 'theservices', 'towhich', 'thefees', 'aregenerally', 'to20', 'ofnetrealized', 'ofanylosses', '.Inaddition', 'AQR', 'start-up', 'andregulatory', 'andmay', 'orwithdrawal', 'upto2', 'ongross', 'orwithdrawal', 'totheFund', 'andAQR', '2Aformore', 'onfees.Consultants', 'aretousethisdata', 'CFTC', 'NFA', 'ortheapplicable', 'areunmanaged', 'andarenotsubject', 'tofees', 'andexpenses', 'bemade', 'inanindex', 'TheMSCI', 'andmidcaprepresentation', '23Developed', '1,643constituents', 'theindex', 'ofthefreefloat-adjusted', 'ineach', 'isariskofsubstantial', 'andother', 'andrisktolerance', 'todetermine', 'iftheproposed', 'isappropriate', 'thatwhen', 'andother', 'onecould', 'thefull', 'oftheir', '.Itisalso', 'tolose', 'theinitial', 'orusing', '.Allfunds', 'tosuch', 'atrading', 'bepurely', 'riskcapital', 'thatUCITS', 'willnottrade', 'incommodities', 'isamarketing', 'totheProspectus', 'andKIID', 'formore', 'ongeneral', 'andfees.Investors', 'intheFund', 'theProspectus', 'andKIID', 'themost', 'areavailable', 'freeofcharge', 'andinyour', 'atAQR', 'UCITS', 'c/oHedgeServ', 'S.àr.l1stFloor', '5Avenue', 'L-1855', 'ofLuxembourg', 'theannual', 'andsemi', 'andarticles', 'inEnglish', 'toconsult', 'anindependent', 'forpersonal', 'andspecific', 'theinformation', 'intheProspectus', 'andtheKIID', 'islegally', '.Notallshare', 'areavailable', 'forinvestment', 'inallcountries', '.TheProspectus', 'aswellas', 'asummary', 'ofinvestor', 'areavailable', 'inEnglish', '.Therelevant', 'KIID', 'isavailable', 'inDanish', 'anddepending', 'thespecific', 'andPortuguese', 'areavailable', '//ucits', '.aqr.com/', 'Forfurther', 'therisks', 'ofinvesting', 'intheFund', 'totheRisk', 'andReward', 'oftheKIID', 'andthesection', 'theProspectus', 'bytheFund', 'willreduce', 'thereturn', 'onyour', 'bytheFund', 'becharged', 'ina', 'andexchange', 'ratefluctuations', 'toincrease', 'ordecrease', 'AQR', 'isentitled', 'toreceive', 'aperformance', 'feeinrelation', 'tocertain', 'oftheFund', 'totheprospectus', 'tocheck', 'ifa', 'feeischarged', 'onyour', 'andforfurther', 'oftheperformance', 'feecalculation', 'TheFund', 'isasub-fund', 'ofAQR', 'UCITS', 'aLuxembourg', 'UCITS', 'ofwhich', 'themanagement', 'isFundRock', 'S.A', 'isforinformational', 'anddoes', 'notconstitute', 'anoffer', 'orinvitation', 'tobuy', 'sellorotherwise', 'inanysecurity', '.Theinformation', 'isdirected', 'atpersons', 'orentities', 'inanyjurisdiction', 'orcountry', 'toinformation', 'anduseofsuch', 'isnotcontrary', 'tolocal', 'laworregulation', '.AQR', 'UCITS', 'isamarketing', 'intheEuropean', 'EEA', 'asaFinancial', 'intheUnited', '.Itisonly', 'forProfessional', 'forclients', 'intheUnited', 'Theinformation', 'setforth', 'hasbeen', 'andissued', 'byAQR', 'LLP', 'aUKlimited', 'itsoffice', 'atCharles', '5-11', 'SW1Y4LR', 'isauthorised', 'bytheUKFinancial', 'FCA', 'forclients', 'intheEEA', 'AQR', 'intheEuropean', 'isAQR', 'aGerman', 'beschränkter', 'Haftung', 'atMaximilianstrasse', '13,80539', 'bytheGerman', 'fürFinanzdienstleistungsaufsicht', 'BaFin', 'atMarie', '-Str.24-28', 'amMain', 'undGraurheindorfer', 'Str.108,53117', 'toprovide', 'theservices', 'ofinvestment', 'Anlageberatung', 'Anlagevermittlung', 'totheGerman', 'Wertpapierinstitutsgesetz', 'WpIG', '.TheComplaint', 'ofAQR', 'inthe', '//ucits', '.aqr.com/Legal', '-and-Regulatory', 'beused', 'inageneral', 'orgeneral', 'tooffer', 'orsellinterest', 'initsFunds', '.Assuch', 'beincluded', 'inany', 'orother', 'inany', 'orsimilar', 'orbroadcast', 'orradio', 'beused', 'inanyseminar', 'ormeeting', 'byanygeneral', 'orgeneral', 'AQR', 'AQR', 'isaConnecticut', 'theSecurities', 'theInvestment', 'Actof1940', '.AQR', 'andinvestment', 'ofinstruments', 'butnotlimited', 'anddebt', '.Forpurposes', 'offirm-wide', 'andfirm-wide', 'AQR', 'asentities', 'orunder', 'withAQR', '.TheFirm', 'iscomprised', 'ofAQR', 'anditsadvisory', 'AQR', 'Arbitrage', 'LLC.Prior', 'toJanuary', '1,2022', 'AQR', 'Arbitrage', 'wasformerly', 'asCNH', 'AQR', 'willmake', 'acomplete', 'listanddescription', 'ofallFirm', 'alistanddescription', 'oflimited', 'alistofbroad', 'forvaluing', 'GIPS', 'areavailable', 'GIPS', 'AQR', 'theGlobal', 'GIPS®', 'andhasprepared', 'andpresented', 'thisreport', 'withtheGIPS', '.AQR', 'hasbeen', 'fortheperiod', '1,1998', '.Theverification', 'areavailable', '.Afirmthatclaims', 'withtheGIPS', 'forcomplying', 'alltheapplicable', 'oftheGIPS', 'onwhether', 'thefirm', 'andprocedures', 'tocomposite', 'asthecalculation', 'anddistribution', 'ofperformance', 'theGIPS', 'andhave', 'onafirm‐wide', 'notensure', 'ofanyspecific', 'GIPS®isaregistered', 'ofCFA', 'notendorse', 'orpromote', 'thisorganization', 'nordoes', 'itwarrant', 'orquality', 'ofthecontent', 'thatfitacomposite', 'areadded', 'atthestart', 'ofthefirstfullcalendar', 'orafter', 'itisdeemed', 'thattheinvestment', 'bytheinvestment', 'fullyreflect', 'theintended', 'oftheportfolio', '.Acomposite', 'willexclude', 'thelast', 'fullcalendar', 'thattheassets', '.Thecomposite', 'willcontinue', 'toinclude', 'theperformance', 'forallperiods', 'totermination', '.Forperiods', '1,2010', '28,2015', 'AQR', 'asignificant', 'asanexternal', 'flowwithin', 'aportfolio', 'of50', 'isavailable', 'thattrade', 'and/or', 'asthose', 'inthiscomposite', 'butdonotmeet', 'areexcluded', 'thiscomposite', 'andreside', 'inoneormore', 'areavailable', 'Allportfolios', 'arevalued', 'intra-monthly', 'ormonthly', 'asdefined', 'byFirm', 'isused', 'intra-month', 'UCITS', 'arevalued', 'iscalculated', 'onadaily', 'offees', 'arecalculated', 'ofmanagement', 'andperformance', 'andcustodial', 'andnetoftransaction', '1,2010', 'toJanuary', '1,2010', 'offees', 'aregross', 'andperformance', 'andnetofadministrative', 'andtransaction', 'andthe', 'ofgross', 'andnetperformance', 'isavailable', 'Thedispersion', 'istheequal', 'ofaccounts', 'inacomposite', 'fortheentire', 'andiscalculated', 'isnotconsidered', 'forperiods', 'oneyear', 'orforperiods', 'acomposite', 'fiveor', 'forthefullperiod', 'annualized', 'ex-post', 'iscalculated', 'andis', '36monthly', 'arenotavailable', 'arecalculated', 'netofallwithholding', 'onforeign', 'forfixed', 'areincluded', '.AQR', 'oradvisory', 'aredescribed', 'inPart', '2AofitsForm', 'ADV.Inaddition', 'AQR', 'aredemption', 'upto2.00', 'ongross', 'becharged', 'aretousethisdata', 'withSEC', 'CFTC', 'andNFA', 'isnotanindication', 'offuture', '.AQR', 'UCITS', 'ofAmerica', 'MLUS3-Month', 'BillIndex', 'NetReturn', '1calculated', 'on1.25', 'feeperannum', 'NetReturn', '2calculated', 'on0.80', 'feeand16.00', 'feeperannum', 'AQR', 'theGlobal', 'GIPS®', 'andhasprepared', 'andpresented', 'thisreport', 'theGIPS', '.AQR', 'fortheperiod', '1,1998', '31,2021', '.Afirm', 'theGIPS', 'andprocedures', 'forcomplying', 'alloftheapplicable', 'oftheGIPS', 'thefirm', 'andprocedures', 'tocomposite', 'aswellasthecalculation', 'anddistribution', 'ofperformance', 'theGIPS', 'onafirm-wide', 'fortheperiods', 'itsinception', '31,2021', '.Theverification', 'andperformance', 'areavailable', 'inJanuary', 'andshort', 'andemerging', 'andemerging', 'andinterest', 'andcommodities', 'tothese', 'byholding', 'andderivatives', '.Theinvestment', 'ofthese', 'istoprovide', 'atotal', 'abalanced', 'riskallocation', 'tothree', 'sub-strategies', 'risk-balanced', '.Risk-balanced', 'toasset', 'orshort', 'onmacro', 'byprice', 'andfundamental', 'long/short', 'beta-neutral', 'inglobal', 'viaafundamentally', 'amoderate', 'ofex-ante', 'time.TheComposite', 'isdenominated', 'TheComposite', 'asfutures', 'andswaps', 'toobtain', 'tomarkets', 'andshort', 'intheStrategy', 'asthemargin', 'tohold', 'thecontract', 'isless', 'thenotional', 'oftheunderlier', '.Inaddition', 'theStrategy', '.Inboth', 'isemployed', 'toincrease', 'theoverall', 'oftheStrategy', 'tothedesired', 'level.Leverage', 'willvary', 'onmarket', 'riskenvironment', 'theStrategy', 'useshorting', 'tohedge', 'asexchange', 'intosecurity', 'TheComposite', 'istheICEBank', 'ofAmerica', 'MLUS3-Month', 'BillIndex', '.TheBenchmark', 'therateof', 'aninvestor', 'asingle', 'U.S.3-month', 'itforonemonth', 'androlling', 'itintoanewly', 'thebeginning', 'ofthenext', '.Theinvestments', 'intheComposite', 'intheBenchmark', '.Theindex', 'hasnotbeen', 'torepresent', 'anappropriate', 'tocompare', 'aninvestor', 'butrather', 'isdisclosed', 'toallow', 'forcomparison', 'oftheinvestor', 'tothatofacertain', 'well-known', 'andwidely', 'arenotcovered', 'bythereport', 'ofindependent', 'verifiers', 'netoffees', 'arecalculated', 'bydeducting', 'themaximum', 'oradvisory', 'feeAQR', '.AQR', 'forportfolios', 'theComposite', 'upto1.25', 'ofassets', 'orquarterly', 'atthecommencement', 'ofthecalendar', 'orquarter', 'AQR', 'willperform', 'theservices', 'towhich', 'thefees', 'totheimpact', 'ofperformance', 'fees.This', 'feeisapplicable', 'forAQR', '-AQR', 'andAQR', '-AQR', 'Premia', '.AsofDecember', '31,2021', 'theestimated', 'fortheaforementioned', 'intheComposite', '0.13', 'and0.12', 'perannum', 'isnotanindication', 'offuture', 'ID:364800AQR', 'UCITS', 'AQR', '1/1/2012', '–12/31/2021Disclosures', '3-Yr', 'StDev', '3-Yr', 'StDev', '5.55', '4.25', '3.96', '0.11', 'N/A', 'N/A', '63.03', '71,122.42', '11.73', '10.36', '9.11', '0.07', 'N/A', 'N/A', '91.29', '98,302.69', '21.48', '19.99', '17.24', '0.03', '5.53', '0.02', '102.18', '122,655.99', '5.72', '4.41', '4.10', '0.05', '7.08', '0.02', '197.68', '142,173.39', '8.25', '6.91', '6.21', '0.33', '7.43', '0.05', '492.96', '175,089.36', '11.96', '10.58', '9.30', '0.86', '7.39', '0.11', '2,590.90', '223,432.52', '-15.17', '-16.24', '-15.85', '1.87', '8.38', '0.20', '3,413.50', '193,554.78', '0.30', '-0.95', '-0.50', '2.28', '7.85', '0.20', '2,558.09', '185,575.93', '-13.65', '-14.74', '-14.35', '0.67', '7.65', '0.27', '1,761.80', '139,714.13', '21.11', '19.63', '20.16', '0.05', '10.40', '0.32', '1,540.41', '123,007.08']\n",
    "Count of words needing split: 1257\n",
    "\"\"\""
   ],
   "metadata": {
    "collapsed": false
   },
   "id": "5604119738f379fa"
  }
 ],
 "metadata": {
  "kernelspec": {
   "display_name": "Python 3",
   "language": "python",
   "name": "python3"
  },
  "language_info": {
   "codemirror_mode": {
    "name": "ipython",
    "version": 2
   },
   "file_extension": ".py",
   "mimetype": "text/x-python",
   "name": "python",
   "nbconvert_exporter": "python",
   "pygments_lexer": "ipython2",
   "version": "2.7.6"
  }
 },
 "nbformat": 4,
 "nbformat_minor": 5
}
