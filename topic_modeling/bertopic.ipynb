{
 "cells": [
  {
   "cell_type": "markdown",
   "source": [
    "Gather data from Azure Databricks"
   ],
   "metadata": {
    "collapsed": false
   },
   "id": "a5324c623b5d6717"
  },
  {
   "cell_type": "code",
   "execution_count": 2,
   "id": "initial_id",
   "metadata": {
    "collapsed": true,
    "ExecuteTime": {
     "end_time": "2024-05-17T15:30:04.663702300Z",
     "start_time": "2024-05-17T15:24:52.725054100Z"
    }
   },
   "outputs": [
    {
     "ename": "SystemError",
     "evalue": "<built-in function connect> returned a result with an exception set",
     "output_type": "error",
     "traceback": [
      "\u001B[1;31m---------------------------------------------------------------------------\u001B[0m",
      "\u001B[1;31mKeyboardInterrupt\u001B[0m                         Traceback (most recent call last)",
      "File \u001B[1;32m~\\AppData\\Local\\Programs\\Python\\Python311\\Lib\\hashlib.py:152\u001B[0m, in \u001B[0;36m__hash_new\u001B[1;34m(name, data, **kwargs)\u001B[0m\n\u001B[0;32m    149\u001B[0m     \u001B[38;5;28;01mreturn\u001B[39;00m __get_builtin_constructor(name)(data, \u001B[38;5;241m*\u001B[39m\u001B[38;5;241m*\u001B[39mkwargs)\n\u001B[1;32m--> 152\u001B[0m \u001B[38;5;28;01mdef\u001B[39;00m \u001B[38;5;21m__hash_new\u001B[39m(name, data\u001B[38;5;241m=\u001B[39m\u001B[38;5;124mb\u001B[39m\u001B[38;5;124m'\u001B[39m\u001B[38;5;124m'\u001B[39m, \u001B[38;5;241m*\u001B[39m\u001B[38;5;241m*\u001B[39mkwargs):\n\u001B[0;32m    153\u001B[0m \u001B[38;5;250m    \u001B[39m\u001B[38;5;124;03m\"\"\"new(name, data=b'') - Return a new hashing object using the named algorithm;\u001B[39;00m\n\u001B[0;32m    154\u001B[0m \u001B[38;5;124;03m    optionally initialized with data (which must be a bytes-like object).\u001B[39;00m\n\u001B[0;32m    155\u001B[0m \u001B[38;5;124;03m    \"\"\"\u001B[39;00m\n",
      "\u001B[1;31mKeyboardInterrupt\u001B[0m: ",
      "\nThe above exception was the direct cause of the following exception:\n",
      "\u001B[1;31mSystemError\u001B[0m                               Traceback (most recent call last)",
      "Cell \u001B[1;32mIn[2], line 4\u001B[0m\n\u001B[0;32m      1\u001B[0m \u001B[38;5;28;01mimport\u001B[39;00m \u001B[38;5;21;01mpandas\u001B[39;00m \u001B[38;5;28;01mas\u001B[39;00m \u001B[38;5;21;01mpd\u001B[39;00m\n\u001B[0;32m      2\u001B[0m \u001B[38;5;28;01mimport\u001B[39;00m \u001B[38;5;21;01mpyodbc\u001B[39;00m\n\u001B[1;32m----> 4\u001B[0m conn \u001B[38;5;241m=\u001B[39m \u001B[43mpyodbc\u001B[49m\u001B[38;5;241;43m.\u001B[39;49m\u001B[43mconnect\u001B[49m\u001B[43m(\u001B[49m\u001B[38;5;124;43m\"\u001B[39;49m\u001B[38;5;124;43mDSN=Azure Databricks\u001B[39;49m\u001B[38;5;124;43m\"\u001B[39;49m\u001B[43m,\u001B[49m\u001B[43m \u001B[49m\u001B[43mautocommit\u001B[49m\u001B[38;5;241;43m=\u001B[39;49m\u001B[38;5;28;43;01mTrue\u001B[39;49;00m\u001B[43m)\u001B[49m\n\u001B[0;32m      5\u001B[0m documents \u001B[38;5;241m=\u001B[39m conn\u001B[38;5;241m.\u001B[39mexecute(\u001B[38;5;124m\"\u001B[39m\u001B[38;5;124mselect fund_mf_id, document_mf_id, fund_name, document_type, document_text from fund_document_v3\u001B[39m\u001B[38;5;124m\"\u001B[39m)\u001B[38;5;241m.\u001B[39mfetchall()\n\u001B[0;32m      8\u001B[0m raw_docs \u001B[38;5;241m=\u001B[39m pd\u001B[38;5;241m.\u001B[39mDataFrame([\u001B[38;5;28mlist\u001B[39m(d) \u001B[38;5;28;01mfor\u001B[39;00m d \u001B[38;5;129;01min\u001B[39;00m documents],\n\u001B[0;32m      9\u001B[0m                     columns\u001B[38;5;241m=\u001B[39m[\u001B[38;5;124m'\u001B[39m\u001B[38;5;124mfund_mf_id\u001B[39m\u001B[38;5;124m'\u001B[39m, \u001B[38;5;124m'\u001B[39m\u001B[38;5;124mdocument_mf_id\u001B[39m\u001B[38;5;124m'\u001B[39m, \u001B[38;5;124m'\u001B[39m\u001B[38;5;124mfund_name\u001B[39m\u001B[38;5;124m'\u001B[39m, \u001B[38;5;124m'\u001B[39m\u001B[38;5;124mdocument_type\u001B[39m\u001B[38;5;124m'\u001B[39m, \u001B[38;5;124m'\u001B[39m\u001B[38;5;124mdocument_text\u001B[39m\u001B[38;5;124m'\u001B[39m])\n",
      "\u001B[1;31mSystemError\u001B[0m: <built-in function connect> returned a result with an exception set"
     ]
    }
   ],
   "source": [
    "import pandas as pd\n",
    "import pyodbc\n",
    "\n",
    "conn = pyodbc.connect(\"DSN=Azure Databricks\", autocommit=True)\n",
    "documents = conn.execute(\"select fund_mf_id, document_mf_id, fund_name, document_type, document_text from fund_document_v3\").fetchall()\n",
    "\n",
    "\n",
    "raw_docs = pd.DataFrame([list(d) for d in documents],\n",
    "                    columns=['fund_mf_id', 'document_mf_id', 'fund_name', 'document_type', 'document_text'])"
   ]
  },
  {
   "cell_type": "code",
   "execution_count": 2,
   "outputs": [
    {
     "data": {
      "text/plain": "   fund_mf_id  document_mf_id  \\\n0         370           87604   \n1         403           50362   \n2         248           87599   \n3         259           50442   \n4         414          114800   \n\n                                         fund_name  document_type  \\\n0               Voleon International Investors Ltd  fund_offering   \n1                Pelham Global Financials Fund Ltd  fund_offering   \n2                          The Winton Fund Limited  fund_offering   \n3                    Third Point Offshore Fund Ltd  fund_offering   \n4  Sino Vision - Greater China Market Neutral Fund  fund_offering   \n\n                                       document_text  \n0                                                     \n1  OFFERING MEMORANDUM\\ne\\n1 JANUARY 2018\\nm\\ni\\n...  \n2  PROSPECTUS\\nTHE WINTON FUND LIMITED\\n(the )\\n“...  \n3  HIGHLY CONFIDENTIAL & TRADE SECRET\\nCONFIDENTI...  \n4  PRIVATE OFFERING MEMORANDUM Copy No: _________...  ",
      "text/html": "<div>\n<style scoped>\n    .dataframe tbody tr th:only-of-type {\n        vertical-align: middle;\n    }\n\n    .dataframe tbody tr th {\n        vertical-align: top;\n    }\n\n    .dataframe thead th {\n        text-align: right;\n    }\n</style>\n<table border=\"1\" class=\"dataframe\">\n  <thead>\n    <tr style=\"text-align: right;\">\n      <th></th>\n      <th>fund_mf_id</th>\n      <th>document_mf_id</th>\n      <th>fund_name</th>\n      <th>document_type</th>\n      <th>document_text</th>\n    </tr>\n  </thead>\n  <tbody>\n    <tr>\n      <th>0</th>\n      <td>370</td>\n      <td>87604</td>\n      <td>Voleon International Investors Ltd</td>\n      <td>fund_offering</td>\n      <td></td>\n    </tr>\n    <tr>\n      <th>1</th>\n      <td>403</td>\n      <td>50362</td>\n      <td>Pelham Global Financials Fund Ltd</td>\n      <td>fund_offering</td>\n      <td>OFFERING MEMORANDUM\\ne\\n1 JANUARY 2018\\nm\\ni\\n...</td>\n    </tr>\n    <tr>\n      <th>2</th>\n      <td>248</td>\n      <td>87599</td>\n      <td>The Winton Fund Limited</td>\n      <td>fund_offering</td>\n      <td>PROSPECTUS\\nTHE WINTON FUND LIMITED\\n(the )\\n“...</td>\n    </tr>\n    <tr>\n      <th>3</th>\n      <td>259</td>\n      <td>50442</td>\n      <td>Third Point Offshore Fund Ltd</td>\n      <td>fund_offering</td>\n      <td>HIGHLY CONFIDENTIAL &amp; TRADE SECRET\\nCONFIDENTI...</td>\n    </tr>\n    <tr>\n      <th>4</th>\n      <td>414</td>\n      <td>114800</td>\n      <td>Sino Vision - Greater China Market Neutral Fund</td>\n      <td>fund_offering</td>\n      <td>PRIVATE OFFERING MEMORANDUM Copy No: _________...</td>\n    </tr>\n  </tbody>\n</table>\n</div>"
     },
     "execution_count": 2,
     "metadata": {},
     "output_type": "execute_result"
    }
   ],
   "source": [
    "raw_docs.head()"
   ],
   "metadata": {
    "collapsed": false,
    "ExecuteTime": {
     "end_time": "2024-05-16T12:29:35.741800400Z",
     "start_time": "2024-05-16T12:29:35.713613200Z"
    }
   },
   "id": "229bc20ab6711862"
  },
  {
   "cell_type": "code",
   "execution_count": 7,
   "outputs": [],
   "source": [
    "raw_docs = raw_docs[raw_docs['document_text'].str.len() > 0]"
   ],
   "metadata": {
    "collapsed": false,
    "ExecuteTime": {
     "end_time": "2024-05-16T12:34:48.522413300Z",
     "start_time": "2024-05-16T12:34:48.497847100Z"
    }
   },
   "id": "6145c1cf9a9094b"
  },
  {
   "cell_type": "markdown",
   "source": [
    "Text preprocessing"
   ],
   "metadata": {
    "collapsed": false
   },
   "id": "ede81ebcb518efff"
  },
  {
   "cell_type": "code",
   "execution_count": 10,
   "outputs": [
    {
     "name": "stderr",
     "output_type": "stream",
     "text": [
      "[nltk_data] Downloading package stopwords to\n",
      "[nltk_data]     C:\\Users\\viksu\\AppData\\Roaming\\nltk_data...\n",
      "[nltk_data]   Package stopwords is already up-to-date!\n",
      "[nltk_data] Downloading package punkt to\n",
      "[nltk_data]     C:\\Users\\viksu\\AppData\\Roaming\\nltk_data...\n",
      "[nltk_data]   Package punkt is already up-to-date!\n"
     ]
    }
   ],
   "source": [
    "import nltk\n",
    "from nltk.corpus import stopwords\n",
    "from nltk.tokenize import word_tokenize\n",
    "\n",
    "# Ensure NLTK data is downloaded\n",
    "nltk.download('stopwords')\n",
    "nltk.download('punkt')\n",
    "stop_words = set(stopwords.words('english'))\n",
    "\n",
    "def preprocess_text(text):\n",
    "    # Tokenize\n",
    "    words = word_tokenize(text.lower())\n",
    "    # Remove stop words\n",
    "    words = [word for word in words if word.isalnum() and word not in stop_words]\n",
    "    return ' '.join(words)\n",
    "\n",
    "preprocessed_docs = raw_docs['document_text'].apply(preprocess_text)"
   ],
   "metadata": {
    "collapsed": false,
    "ExecuteTime": {
     "end_time": "2024-05-16T12:47:57.457960700Z",
     "start_time": "2024-05-16T12:35:57.955948800Z"
    }
   },
   "id": "5b403c52aa9a1c0e"
  },
  {
   "cell_type": "markdown",
   "source": [
    "Topic modeling"
   ],
   "metadata": {
    "collapsed": false
   },
   "id": "ef4581a89986463"
  },
  {
   "cell_type": "code",
   "execution_count": 12,
   "outputs": [
    {
     "name": "stdout",
     "output_type": "stream",
     "text": [
      "    Topic  Count                                    Name  \\\n",
      "0      -1   2461           -1_fund_investment_may_master   \n",
      "1       0    238      0_performance_index_return_returns   \n",
      "2       1    176       1_subscriber_person_entity_please   \n",
      "3       2    152    2_credit_bluebay_performance_returns   \n",
      "4       3    112         3_icav_may_instruments_relevant   \n",
      "..    ...    ...                                     ...   \n",
      "93     92     11        92_common_acomf_partnership_fund   \n",
      "94     93     11       93_201910_street_state_subscriber   \n",
      "95     94     10  94_mudrick_kempner_davidson_distressed   \n",
      "96     95     10                      95_der_die_und_von   \n",
      "97     96     10     96_hudson_intermediate_bay_investor   \n",
      "\n",
      "                                       Representation  \\\n",
      "0   [fund, investment, may, master, shares, compan...   \n",
      "1   [performance, index, return, returns, msci, do...   \n",
      "2   [subscriber, person, entity, please, investor,...   \n",
      "3   [credit, bluebay, performance, returns, capita...   \n",
      "4   [icav, may, instruments, relevant, class, shar...   \n",
      "..                                                ...   \n",
      "93  [common, acomf, partnership, fund, shares, man...   \n",
      "94  [201910, street, state, subscriber, entity, if...   \n",
      "95  [mudrick, kempner, davidson, distressed, 527, ...   \n",
      "96  [der, die, und, von, subfonds, oder, des, werd...   \n",
      "97  [hudson, intermediate, bay, investor, fund, op...   \n",
      "\n",
      "                                  Representative_Docs  \n",
      "0   [saba capital offshore fund h b confidential o...  \n",
      "1   [investment professionals public distribution ...  \n",
      "2   [weiss partners cayman instructions relating s...  \n",
      "3   [octagon credit opportunities fund c ta g n c ...  \n",
      "4   [extract prospectus exclusively used offer dis...  \n",
      "..                                                ...  \n",
      "93  [copy confidential explanatory memorandum adap...  \n",
      "94  [fund investor transparency report february 29...  \n",
      "95  [davidson kempner distressed opportunities fun...  \n",
      "96  [ehp foundation international alternative fund...  \n",
      "97  [12 west hold overflow fund lp limited partner...  \n",
      "\n",
      "[98 rows x 5 columns]\n"
     ]
    }
   ],
   "source": [
    "from bertopic import BERTopic\n",
    "\n",
    "# Create a BERTopic model\n",
    "topic_model = BERTopic()\n",
    "\n",
    "# Fit the model on the documents\n",
    "topics, probabilities = topic_model.fit_transform(preprocessed_docs)\n",
    "# TODO: Bigrams\n",
    "# Display topics\n",
    "topics_info = topic_model.get_topic_info()\n",
    "print(topics_info)"
   ],
   "metadata": {
    "collapsed": false,
    "ExecuteTime": {
     "end_time": "2024-05-16T12:57:10.384612400Z",
     "start_time": "2024-05-16T12:50:47.434431600Z"
    }
   },
   "id": "c3d68e74d1443001"
  },
  {
   "cell_type": "markdown",
   "source": [
    "Evaluation"
   ],
   "metadata": {
    "collapsed": false
   },
   "id": "ac5833e927d23293"
  },
  {
   "cell_type": "code",
   "execution_count": 13,
   "outputs": [],
   "source": [
    "# export to csv\n",
    "topics_info.to_csv('topics_info.csv', index=False)"
   ],
   "metadata": {
    "collapsed": false,
    "ExecuteTime": {
     "end_time": "2024-05-16T13:02:07.226174100Z",
     "start_time": "2024-05-16T13:02:05.574672200Z"
    }
   },
   "id": "57f7b7c72a46977e"
  },
  {
   "cell_type": "code",
   "execution_count": null,
   "outputs": [],
   "source": [],
   "metadata": {
    "collapsed": false
   },
   "id": "75710f4cb8669871"
  }
 ],
 "metadata": {
  "kernelspec": {
   "display_name": "Python 3",
   "language": "python",
   "name": "python3"
  },
  "language_info": {
   "codemirror_mode": {
    "name": "ipython",
    "version": 2
   },
   "file_extension": ".py",
   "mimetype": "text/x-python",
   "name": "python",
   "nbconvert_exporter": "python",
   "pygments_lexer": "ipython2",
   "version": "2.7.6"
  }
 },
 "nbformat": 4,
 "nbformat_minor": 5
}
