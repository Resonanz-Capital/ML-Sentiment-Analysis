{
 "cells": [
  {
   "cell_type": "markdown",
   "source": [
    "Gather data from Azure Databricks"
   ],
   "metadata": {
    "collapsed": false
   },
   "id": "a5324c623b5d6717"
  },
  {
   "cell_type": "code",
   "execution_count": 3,
   "id": "initial_id",
   "metadata": {
    "collapsed": true,
    "ExecuteTime": {
     "end_time": "2024-05-17T16:21:13.575227200Z",
     "start_time": "2024-05-17T16:14:20.728637Z"
    }
   },
   "outputs": [],
   "source": [
    "import pandas as pd\n",
    "import pyodbc\n",
    "\n",
    "conn = pyodbc.connect(\"DSN=Azure Databricks\", autocommit=True)\n",
    "documents = conn.execute(\"select fund_mf_id, document_mf_id, fund_name, document_type, document_text from fund_document_v3\").fetchall()\n",
    "\n",
    "\n",
    "raw_docs = pd.DataFrame([list(d) for d in documents],\n",
    "                    columns=['fund_mf_id', 'document_mf_id', 'fund_name', 'document_type', 'document_text'])"
   ]
  },
  {
   "cell_type": "code",
   "execution_count": 4,
   "outputs": [
    {
     "data": {
      "text/plain": "   fund_mf_id  document_mf_id  \\\n0         370           87604   \n1         403           50362   \n2         248           87599   \n3         259           50442   \n4         414          114800   \n\n                                         fund_name  document_type  \\\n0               Voleon International Investors Ltd  fund_offering   \n1                Pelham Global Financials Fund Ltd  fund_offering   \n2                          The Winton Fund Limited  fund_offering   \n3                    Third Point Offshore Fund Ltd  fund_offering   \n4  Sino Vision - Greater China Market Neutral Fund  fund_offering   \n\n                                       document_text  \n0                                                     \n1  OFFERING MEMORANDUM\\ne\\n1 JANUARY 2018\\nm\\ni\\n...  \n2  PROSPECTUS\\nTHE WINTON FUND LIMITED\\n(the )\\n“...  \n3  HIGHLY CONFIDENTIAL & TRADE SECRET\\nCONFIDENTI...  \n4  PRIVATE OFFERING MEMORANDUM Copy No: _________...  ",
      "text/html": "<div>\n<style scoped>\n    .dataframe tbody tr th:only-of-type {\n        vertical-align: middle;\n    }\n\n    .dataframe tbody tr th {\n        vertical-align: top;\n    }\n\n    .dataframe thead th {\n        text-align: right;\n    }\n</style>\n<table border=\"1\" class=\"dataframe\">\n  <thead>\n    <tr style=\"text-align: right;\">\n      <th></th>\n      <th>fund_mf_id</th>\n      <th>document_mf_id</th>\n      <th>fund_name</th>\n      <th>document_type</th>\n      <th>document_text</th>\n    </tr>\n  </thead>\n  <tbody>\n    <tr>\n      <th>0</th>\n      <td>370</td>\n      <td>87604</td>\n      <td>Voleon International Investors Ltd</td>\n      <td>fund_offering</td>\n      <td></td>\n    </tr>\n    <tr>\n      <th>1</th>\n      <td>403</td>\n      <td>50362</td>\n      <td>Pelham Global Financials Fund Ltd</td>\n      <td>fund_offering</td>\n      <td>OFFERING MEMORANDUM\\ne\\n1 JANUARY 2018\\nm\\ni\\n...</td>\n    </tr>\n    <tr>\n      <th>2</th>\n      <td>248</td>\n      <td>87599</td>\n      <td>The Winton Fund Limited</td>\n      <td>fund_offering</td>\n      <td>PROSPECTUS\\nTHE WINTON FUND LIMITED\\n(the )\\n“...</td>\n    </tr>\n    <tr>\n      <th>3</th>\n      <td>259</td>\n      <td>50442</td>\n      <td>Third Point Offshore Fund Ltd</td>\n      <td>fund_offering</td>\n      <td>HIGHLY CONFIDENTIAL &amp; TRADE SECRET\\nCONFIDENTI...</td>\n    </tr>\n    <tr>\n      <th>4</th>\n      <td>414</td>\n      <td>114800</td>\n      <td>Sino Vision - Greater China Market Neutral Fund</td>\n      <td>fund_offering</td>\n      <td>PRIVATE OFFERING MEMORANDUM Copy No: _________...</td>\n    </tr>\n  </tbody>\n</table>\n</div>"
     },
     "execution_count": 4,
     "metadata": {},
     "output_type": "execute_result"
    }
   ],
   "source": [
    "raw_docs.head()"
   ],
   "metadata": {
    "collapsed": false,
    "ExecuteTime": {
     "end_time": "2024-05-17T16:21:13.658390500Z",
     "start_time": "2024-05-17T16:21:13.579227200Z"
    }
   },
   "id": "229bc20ab6711862"
  },
  {
   "cell_type": "code",
   "execution_count": 5,
   "outputs": [],
   "source": [
    "raw_docs = raw_docs[raw_docs['document_text'].str.len() > 0]"
   ],
   "metadata": {
    "collapsed": false,
    "ExecuteTime": {
     "end_time": "2024-05-17T16:21:13.669968Z",
     "start_time": "2024-05-17T16:21:13.657392Z"
    }
   },
   "id": "6145c1cf9a9094b"
  },
  {
   "cell_type": "markdown",
   "source": [
    "Text preprocessing"
   ],
   "metadata": {
    "collapsed": false
   },
   "id": "ede81ebcb518efff"
  },
  {
   "cell_type": "code",
   "execution_count": 6,
   "outputs": [
    {
     "name": "stderr",
     "output_type": "stream",
     "text": [
      "[nltk_data] Downloading package stopwords to\n",
      "[nltk_data]     C:\\Users\\viksu\\AppData\\Roaming\\nltk_data...\n",
      "[nltk_data]   Package stopwords is already up-to-date!\n",
      "[nltk_data] Downloading package punkt to\n",
      "[nltk_data]     C:\\Users\\viksu\\AppData\\Roaming\\nltk_data...\n",
      "[nltk_data]   Package punkt is already up-to-date!\n"
     ]
    }
   ],
   "source": [
    "import nltk\n",
    "from nltk.corpus import stopwords\n",
    "from nltk.tokenize import word_tokenize\n",
    "\n",
    "# Ensure NLTK data is downloaded\n",
    "nltk.download('stopwords')\n",
    "nltk.download('punkt')\n",
    "stop_words = set(stopwords.words('english'))\n",
    "\n",
    "def preprocess_text(text):\n",
    "    # Tokenize\n",
    "    words = word_tokenize(text.lower())\n",
    "    # Remove stop words\n",
    "    words = [word for word in words if word.isalnum() and word not in stop_words]\n",
    "    return ' '.join(words)\n",
    "\n",
    "preprocessed_docs = raw_docs['document_text'].apply(preprocess_text)"
   ],
   "metadata": {
    "collapsed": false,
    "ExecuteTime": {
     "end_time": "2024-05-17T16:43:31.155105500Z",
     "start_time": "2024-05-17T16:21:13.670473400Z"
    }
   },
   "id": "5b403c52aa9a1c0e"
  },
  {
   "cell_type": "markdown",
   "source": [
    "Topic modeling"
   ],
   "metadata": {
    "collapsed": false
   },
   "id": "ef4581a89986463"
  },
  {
   "cell_type": "code",
   "execution_count": 7,
   "outputs": [
    {
     "name": "stdout",
     "output_type": "stream",
     "text": [
      "    Topic  Count                                               Name  \\\n",
      "0      -1   2183                      -1_fund_investment_may_shares   \n",
      "1       0    685                0_credit_performance_market_returns   \n",
      "2       1    201                     1_may_icav_investment_relevant   \n",
      "3       2    187                2_subscriber_person_entity_investor   \n",
      "4       3    127               3_capital_investment_management_risk   \n",
      "..    ...    ...                                                ...   \n",
      "79     78     11      78_fund_master_master fund_investment manager   \n",
      "80     79     11  79_adviser_segregated_segregated portfolio_shares   \n",
      "81     80     11                   80_company_shares_may_segregated   \n",
      "82     81     11              81_wace_29 sep_marshall wace_marshall   \n",
      "83     82     11              82_subscriber_entity_lackstone_person   \n",
      "\n",
      "                                       Representation  \\\n",
      "0   [fund, investment, may, shares, master, manage...   \n",
      "1   [credit, performance, market, returns, index, ...   \n",
      "2   [may, icav, investment, relevant, shares, fund...   \n",
      "3   [subscriber, person, entity, investor, informa...   \n",
      "4   [capital, investment, management, risk, fund, ...   \n",
      "..                                                ...   \n",
      "79  [fund, master, master fund, investment manager...   \n",
      "80  [adviser, segregated, segregated portfolio, sh...   \n",
      "81  [company, shares, may, segregated, us, feeder ...   \n",
      "82  [wace, 29 sep, marshall wace, marshall, sep mw...   \n",
      "83  [subscriber, entity, lackstone, person, nvesto...   \n",
      "\n",
      "                                  Representative_Docs  \n",
      "0   [r c n ecipient opy istribution ate c p p onfi...  \n",
      "1   [diversified core strategies quarterly letter ...  \n",
      "2   [doubt contents prospectus risks involved inve...  \n",
      "3   [regan credit opportunities fund international...  \n",
      "4   [december 31 2021 standard due diligence quest...  \n",
      "..                                                ...  \n",
      "79  [millburn supplements dated march 15 2021 apri...  \n",
      "80  [exclusive use copy c onfidential ffering emor...  \n",
      "81  [copy amended restated confidential private pl...  \n",
      "82  [cdr systematic absolute return sar fund cdr m...  \n",
      "83  [blackstone custom solutions platform l td ubs...  \n",
      "\n",
      "[84 rows x 5 columns]\n"
     ]
    }
   ],
   "source": [
    "from bertopic import BERTopic\n",
    "\n",
    "# Create a BERTopic model\n",
    "topic_model = BERTopic(n_gram_range=(1, 2))\n",
    "\n",
    "# Fit the model on the documents\n",
    "topics, probabilities = topic_model.fit_transform(preprocessed_docs)\n",
    "# Display topics\n",
    "topics_info = topic_model.get_topic_info()\n",
    "print(topics_info)"
   ],
   "metadata": {
    "collapsed": false,
    "ExecuteTime": {
     "end_time": "2024-05-17T17:00:37.645960700Z",
     "start_time": "2024-05-17T16:43:31.157106500Z"
    }
   },
   "id": "c3d68e74d1443001"
  },
  {
   "cell_type": "code",
   "execution_count": null,
   "outputs": [],
   "source": [
    "# import pickle\n",
    "# pickle.dump(topics_info, open('topics_info.pkl', 'wb'))"
   ],
   "metadata": {
    "collapsed": false
   },
   "id": "aff34ef6edd1c63b"
  },
  {
   "cell_type": "markdown",
   "source": [
    "Evaluation"
   ],
   "metadata": {
    "collapsed": false
   },
   "id": "ac5833e927d23293"
  },
  {
   "cell_type": "code",
   "execution_count": null,
   "outputs": [],
   "source": [
    "# export to csv\n",
    "topics_info.to_csv('topics_info.csv', index=False)"
   ],
   "metadata": {
    "collapsed": false
   },
   "id": "75710f4cb8669871"
  }
 ],
 "metadata": {
  "kernelspec": {
   "display_name": "Python 3",
   "language": "python",
   "name": "python3"
  },
  "language_info": {
   "codemirror_mode": {
    "name": "ipython",
    "version": 2
   },
   "file_extension": ".py",
   "mimetype": "text/x-python",
   "name": "python",
   "nbconvert_exporter": "python",
   "pygments_lexer": "ipython2",
   "version": "2.7.6"
  }
 },
 "nbformat": 4,
 "nbformat_minor": 5
}
