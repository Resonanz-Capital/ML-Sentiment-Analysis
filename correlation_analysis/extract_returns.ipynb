{
 "cells": [
  {
   "cell_type": "code",
   "execution_count": 18,
   "outputs": [
    {
     "name": "stdout",
     "output_type": "stream",
     "text": [
      "Looking in indexes: https://pypi.org/simple, https://****@pkgs.dev.azure.com/ResonanzCapitalWebDev/RCA-AZ-APP-WEB02-Dev/_packaging/rc_models_package/pypi/simple\n",
      "Requirement already satisfied: rc_sqlalchemy_cfg in c:\\users\\viksu\\desktop\\diploma\\topicextractor\\venv\\lib\\site-packages (0.1.177)\n",
      "Requirement already satisfied: sqlalchemy in c:\\users\\viksu\\desktop\\diploma\\topicextractor\\venv\\lib\\site-packages (from rc_sqlalchemy_cfg) (1.4.51)\n",
      "Requirement already satisfied: Deprecated in c:\\users\\viksu\\desktop\\diploma\\topicextractor\\venv\\lib\\site-packages (from rc_sqlalchemy_cfg) (1.2.14)\n",
      "Requirement already satisfied: wrapt<2,>=1.10 in c:\\users\\viksu\\desktop\\diploma\\topicextractor\\venv\\lib\\site-packages (from Deprecated->rc_sqlalchemy_cfg) (1.16.0)\n",
      "Requirement already satisfied: greenlet!=0.4.17 in c:\\users\\viksu\\desktop\\diploma\\topicextractor\\venv\\lib\\site-packages (from sqlalchemy->rc_sqlalchemy_cfg) (3.0.3)\n"
     ]
    }
   ],
   "source": [
    "import dotenv\n",
    "dotenv.load_dotenv('../.secrets', override=True)\n",
    "!pip install rc_sqlalchemy_cfg "
   ],
   "metadata": {
    "collapsed": false,
    "ExecuteTime": {
     "end_time": "2024-06-16T11:35:16.713050700Z",
     "start_time": "2024-06-16T11:35:15.017049900Z"
    }
   },
   "id": "70dc6c73738e710"
  },
  {
   "cell_type": "code",
   "execution_count": 62,
   "outputs": [],
   "source": [
    "import os\n",
    "from sqlalchemy import create_engine\n",
    "from sqlalchemy.orm import scoped_session, sessionmaker\n",
    "from rc_sqlalchemy_cfg.sqlalchemy_cfg import configure_base_model\n",
    "\n",
    "def get_session():\n",
    "    engine = create_engine(os.getenv('ENSEMBLE_DB_URI'))\n",
    "    session_maker = sessionmaker(autocommit=False, autoflush=True, bind=engine)\n",
    "    session = scoped_session(session_maker)\n",
    "    configure_base_model(session)\n",
    "    return session\n",
    "\n",
    "ens_session = get_session()"
   ],
   "metadata": {
    "collapsed": false,
    "ExecuteTime": {
     "end_time": "2024-06-16T12:05:37.186933500Z",
     "start_time": "2024-06-16T12:05:37.183063800Z"
    }
   },
   "id": "d15aec7477075c2a"
  },
  {
   "cell_type": "code",
   "execution_count": 35,
   "outputs": [],
   "source": [
    "import re\n",
    "from rc_sqlalchemy_cfg.models import InvestmentEntityDocument, InvestmentEntity\n",
    "\n",
    "def get_doc_to_product():\n",
    "    doc_product = {int(re.search(r'\"ID\":\\s*(\\d+)', d.object_version).group(1)): d.product_id for d in \n",
    "            ens_session.query(InvestmentEntity.product_id, InvestmentEntityDocument.object_version).join(InvestmentEntityDocument).all()}\n",
    "    return doc_product\n",
    "    \n",
    "doc_to_product = get_doc_to_product()"
   ],
   "metadata": {
    "collapsed": false,
    "ExecuteTime": {
     "end_time": "2024-06-16T11:40:05.025192200Z",
     "start_time": "2024-06-16T11:40:04.440879700Z"
    }
   },
   "id": "fd88a9cc90c93b6c"
  },
  {
   "cell_type": "code",
   "execution_count": 36,
   "outputs": [
    {
     "ename": "KeyError",
     "evalue": "123730",
     "output_type": "error",
     "traceback": [
      "\u001B[1;31m---------------------------------------------------------------------------\u001B[0m",
      "\u001B[1;31mKeyError\u001B[0m                                  Traceback (most recent call last)",
      "Cell \u001B[1;32mIn[36], line 1\u001B[0m\n\u001B[1;32m----> 1\u001B[0m \u001B[43mdoc_to_product\u001B[49m\u001B[43m[\u001B[49m\u001B[38;5;241;43m123730\u001B[39;49m\u001B[43m]\u001B[49m\n",
      "\u001B[1;31mKeyError\u001B[0m: 123730"
     ]
    }
   ],
   "source": [
    "doc_to_product[123730]"
   ],
   "metadata": {
    "collapsed": false,
    "ExecuteTime": {
     "end_time": "2024-06-16T11:40:05.376326600Z",
     "start_time": "2024-06-16T11:40:05.372547400Z"
    }
   },
   "id": "35660e84ded3affa"
  },
  {
   "cell_type": "code",
   "execution_count": 37,
   "outputs": [],
   "source": [
    "import numpy as np\n",
    "import pandas as pd\n",
    "import pyodbc\n",
    "\n",
    "conn = pyodbc.connect(\"DSN=Azure Databricks\", autocommit=True)\n",
    "doc_dates = conn.execute(\n",
    "    \"select document_mf_id, document_type, document_date from fund_document_v3 \"\n",
    "    \"where document_type in ('quarterly_report', 'monthly_report')\").fetchall()\n",
    "\n",
    "doc_dates = pd.DataFrame([list(d) for d in doc_dates],\n",
    "                        columns=['document_mf_id', 'document_type', 'document_date'])\n",
    "doc_dates['end_date'] = pd.to_datetime(doc_dates['document_date'])\n",
    "\n",
    "# start_date is 3 months before end_date for quarterly reports and 1 month before end_date for monthly reports\n",
    "doc_dates['start_date'] = doc_dates['end_date'] - np.where(doc_dates['document_type'] == 'quarterly_report', 3, 1) * np.timedelta64(1, 'M')\n",
    "doc_dates = doc_dates.drop(columns=['document_date', 'document_type'])\n",
    "doc_dates['product_id'] = doc_dates['document_mf_id'].map(doc_to_product)\n",
    "doc_dates = doc_dates.dropna()"
   ],
   "metadata": {
    "collapsed": false,
    "ExecuteTime": {
     "end_time": "2024-06-16T11:40:07.286815Z",
     "start_time": "2024-06-16T11:40:05.955108600Z"
    }
   },
   "id": "8b1e3ffada52649e"
  },
  {
   "cell_type": "code",
   "execution_count": 40,
   "outputs": [
    {
     "data": {
      "text/plain": "     document_mf_id                  end_date                start_date  \\\n0            123952 2024-03-31 00:00:00+00:00 2024-01-01 00:00:00+00:00   \n1            123951 2024-03-31 00:00:00+00:00 2024-01-01 00:00:00+00:00   \n2            123779 2024-03-31 00:00:00+00:00 2024-01-01 00:00:00+00:00   \n4            123731 2024-03-31 00:00:00+00:00 2024-01-01 00:00:00+00:00   \n5            123678 2024-03-31 00:00:00+00:00 2024-01-01 00:00:00+00:00   \n..              ...                       ...                       ...   \n734           89742 2022-09-30 00:00:00+00:00 2022-08-30 00:00:00+00:00   \n735          101535 2023-03-31 00:00:00+00:00 2023-02-28 00:00:00+00:00   \n736          101536 2023-03-31 00:00:00+00:00 2023-02-28 00:00:00+00:00   \n737          101539 2023-03-31 00:00:00+00:00 2023-02-28 00:00:00+00:00   \n738          105059 2023-05-31 00:00:00+00:00 2023-04-30 00:00:00+00:00   \n\n     product_id  \n0         486.0  \n1        6771.0  \n2         203.0  \n4         281.0  \n5         268.0  \n..          ...  \n734      1029.0  \n735       672.0  \n736       674.0  \n737       995.0  \n738        30.0  \n\n[716 rows x 4 columns]",
      "text/html": "<div>\n<style scoped>\n    .dataframe tbody tr th:only-of-type {\n        vertical-align: middle;\n    }\n\n    .dataframe tbody tr th {\n        vertical-align: top;\n    }\n\n    .dataframe thead th {\n        text-align: right;\n    }\n</style>\n<table border=\"1\" class=\"dataframe\">\n  <thead>\n    <tr style=\"text-align: right;\">\n      <th></th>\n      <th>document_mf_id</th>\n      <th>end_date</th>\n      <th>start_date</th>\n      <th>product_id</th>\n    </tr>\n  </thead>\n  <tbody>\n    <tr>\n      <th>0</th>\n      <td>123952</td>\n      <td>2024-03-31 00:00:00+00:00</td>\n      <td>2024-01-01 00:00:00+00:00</td>\n      <td>486.0</td>\n    </tr>\n    <tr>\n      <th>1</th>\n      <td>123951</td>\n      <td>2024-03-31 00:00:00+00:00</td>\n      <td>2024-01-01 00:00:00+00:00</td>\n      <td>6771.0</td>\n    </tr>\n    <tr>\n      <th>2</th>\n      <td>123779</td>\n      <td>2024-03-31 00:00:00+00:00</td>\n      <td>2024-01-01 00:00:00+00:00</td>\n      <td>203.0</td>\n    </tr>\n    <tr>\n      <th>4</th>\n      <td>123731</td>\n      <td>2024-03-31 00:00:00+00:00</td>\n      <td>2024-01-01 00:00:00+00:00</td>\n      <td>281.0</td>\n    </tr>\n    <tr>\n      <th>5</th>\n      <td>123678</td>\n      <td>2024-03-31 00:00:00+00:00</td>\n      <td>2024-01-01 00:00:00+00:00</td>\n      <td>268.0</td>\n    </tr>\n    <tr>\n      <th>...</th>\n      <td>...</td>\n      <td>...</td>\n      <td>...</td>\n      <td>...</td>\n    </tr>\n    <tr>\n      <th>734</th>\n      <td>89742</td>\n      <td>2022-09-30 00:00:00+00:00</td>\n      <td>2022-08-30 00:00:00+00:00</td>\n      <td>1029.0</td>\n    </tr>\n    <tr>\n      <th>735</th>\n      <td>101535</td>\n      <td>2023-03-31 00:00:00+00:00</td>\n      <td>2023-02-28 00:00:00+00:00</td>\n      <td>672.0</td>\n    </tr>\n    <tr>\n      <th>736</th>\n      <td>101536</td>\n      <td>2023-03-31 00:00:00+00:00</td>\n      <td>2023-02-28 00:00:00+00:00</td>\n      <td>674.0</td>\n    </tr>\n    <tr>\n      <th>737</th>\n      <td>101539</td>\n      <td>2023-03-31 00:00:00+00:00</td>\n      <td>2023-02-28 00:00:00+00:00</td>\n      <td>995.0</td>\n    </tr>\n    <tr>\n      <th>738</th>\n      <td>105059</td>\n      <td>2023-05-31 00:00:00+00:00</td>\n      <td>2023-04-30 00:00:00+00:00</td>\n      <td>30.0</td>\n    </tr>\n  </tbody>\n</table>\n<p>716 rows × 4 columns</p>\n</div>"
     },
     "execution_count": 40,
     "metadata": {},
     "output_type": "execute_result"
    }
   ],
   "source": [
    "doc_dates"
   ],
   "metadata": {
    "collapsed": false,
    "ExecuteTime": {
     "end_time": "2024-06-16T11:40:22.560061300Z",
     "start_time": "2024-06-16T11:40:22.558064800Z"
    }
   },
   "id": "f8eee8ea3b4eadb6"
  },
  {
   "cell_type": "code",
   "execution_count": 78,
   "outputs": [],
   "source": [
    "from sqlalchemy import func\n",
    "from rc_sqlalchemy_cfg.models import ProductReturn\n",
    "\n",
    "\n",
    "def query_returns(queries):\n",
    "    \"\"\"\n",
    "    queries: A list of tuples, each containing (parent_id, start_date, end_date)\n",
    "    Returns a list of tuples with the average return for each condition\n",
    "    \"\"\"\n",
    "    results = []\n",
    "    for i, row in queries.iterrows():\n",
    "        avg_return = ens_session.query(func.avg(ProductReturn.value)).filter(\n",
    "            ProductReturn.product_id == row['product_id'],\n",
    "            ProductReturn.value_date >= row['start_date'],\n",
    "            ProductReturn.value_date <= row['end_date']\n",
    "        ).scalar()\n",
    "        results.append((row['document_mf_id'], avg_return))\n",
    "    return results\n",
    "\n",
    "doc_returns = pd.DataFrame(query_returns(doc_dates), columns=['document_mf_id', 'avg_return']).dropna()"
   ],
   "metadata": {
    "collapsed": false,
    "ExecuteTime": {
     "end_time": "2024-06-16T12:14:26.161974500Z",
     "start_time": "2024-06-16T12:13:26.403071200Z"
    }
   },
   "id": "a680bcab34afd7cf"
  },
  {
   "cell_type": "code",
   "execution_count": 79,
   "outputs": [],
   "source": [
    "# pickle result\n",
    "import pickle\n",
    "with open('doc_returns.pkl', 'wb') as f:\n",
    "    pickle.dump(doc_returns, f)"
   ],
   "metadata": {
    "collapsed": false,
    "ExecuteTime": {
     "end_time": "2024-06-16T12:25:49.289605800Z",
     "start_time": "2024-06-16T12:25:49.283078400Z"
    }
   },
   "id": "8df49ec20d033636"
  },
  {
   "cell_type": "code",
   "execution_count": 26,
   "outputs": [],
   "source": [
    "# USE PROD\n"
   ],
   "metadata": {
    "collapsed": false,
    "ExecuteTime": {
     "end_time": "2024-06-16T11:35:58.512421800Z",
     "start_time": "2024-06-16T11:35:58.505409800Z"
    }
   },
   "id": "be7f5ea8476bb42e"
  },
  {
   "cell_type": "code",
   "execution_count": null,
   "outputs": [],
   "source": [],
   "metadata": {
    "collapsed": false
   },
   "id": "845ccb9d8762115b"
  }
 ],
 "metadata": {
  "kernelspec": {
   "display_name": "Python 3",
   "language": "python",
   "name": "python3"
  },
  "language_info": {
   "codemirror_mode": {
    "name": "ipython",
    "version": 2
   },
   "file_extension": ".py",
   "mimetype": "text/x-python",
   "name": "python",
   "nbconvert_exporter": "python",
   "pygments_lexer": "ipython2",
   "version": "2.7.6"
  }
 },
 "nbformat": 4,
 "nbformat_minor": 5
}
