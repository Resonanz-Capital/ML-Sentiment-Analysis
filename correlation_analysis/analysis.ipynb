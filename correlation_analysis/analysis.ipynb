{
 "cells": [
  {
   "cell_type": "code",
   "execution_count": 65,
   "id": "initial_id",
   "metadata": {
    "collapsed": true,
    "ExecuteTime": {
     "end_time": "2024-06-17T11:37:35.738064300Z",
     "start_time": "2024-06-17T11:37:35.726283500Z"
    }
   },
   "outputs": [],
   "source": [
    "import pickle\n",
    "\n",
    "import pandas as pd\n",
    "\n",
    "with open('doc_returns.pkl', 'rb') as f:\n",
    "    doc_returns = pickle.load(f)"
   ]
  },
  {
   "cell_type": "code",
   "execution_count": 66,
   "outputs": [
    {
     "data": {
      "text/plain": "                       123779    123730    123731  123678    123676  123677  \\\ntopic                                                                         \ncredit                    NaN  0.178673 -0.001035     NaN       NaN     NaN   \ndealing terms             NaN -0.005857  0.214961     NaN       NaN     NaN   \nfees                 0.097609  0.166250  0.000069     NaN  0.000074     NaN   \ninvestment approach       NaN       NaN       NaN     NaN       NaN     NaN   \nmarket              -0.142190 -0.001087  0.000067     NaN  0.000006     NaN   \n\n                       123615    123483    123280    123281  ...    66920   \\\ntopic                                                        ...             \ncredit               0.283389  0.033357  0.498359  0.289802  ... -0.498845   \ndealing terms             NaN       NaN       NaN       NaN  ...       NaN   \nfees                 0.000029  0.001532  0.000131  0.000115  ...  0.495658   \ninvestment approach       NaN       NaN       NaN       NaN  ...  0.934497   \nmarket               0.047601 -0.230250  0.123491  0.214307  ...  0.201671   \n\n                       84387     45581     83759     69773     100780  \\\ntopic                                                                   \ncredit                    NaN       NaN  0.249558 -0.026119       NaN   \ndealing terms        0.000111  0.000326       NaN -0.000041  0.001717   \nfees                 0.000237  0.038349       NaN  0.046134  0.000257   \ninvestment approach       NaN       NaN       NaN  0.338085       NaN   \nmarket                    NaN -0.048678 -0.123748  0.041713  0.000032   \n\n                       43397     86265     100779    98672   \ntopic                                                        \ncredit                    NaN       NaN       NaN       NaN  \ndealing terms        0.000390  0.009697  0.001717 -0.164886  \nfees                 0.000098       NaN  0.000257  0.996133  \ninvestment approach       NaN       NaN       NaN       NaN  \nmarket              -0.497505       NaN  0.000032  0.283777  \n\n[5 rows x 820 columns]",
      "text/html": "<div>\n<style scoped>\n    .dataframe tbody tr th:only-of-type {\n        vertical-align: middle;\n    }\n\n    .dataframe tbody tr th {\n        vertical-align: top;\n    }\n\n    .dataframe thead th {\n        text-align: right;\n    }\n</style>\n<table border=\"1\" class=\"dataframe\">\n  <thead>\n    <tr style=\"text-align: right;\">\n      <th></th>\n      <th>123779</th>\n      <th>123730</th>\n      <th>123731</th>\n      <th>123678</th>\n      <th>123676</th>\n      <th>123677</th>\n      <th>123615</th>\n      <th>123483</th>\n      <th>123280</th>\n      <th>123281</th>\n      <th>...</th>\n      <th>66920</th>\n      <th>84387</th>\n      <th>45581</th>\n      <th>83759</th>\n      <th>69773</th>\n      <th>100780</th>\n      <th>43397</th>\n      <th>86265</th>\n      <th>100779</th>\n      <th>98672</th>\n    </tr>\n    <tr>\n      <th>topic</th>\n      <th></th>\n      <th></th>\n      <th></th>\n      <th></th>\n      <th></th>\n      <th></th>\n      <th></th>\n      <th></th>\n      <th></th>\n      <th></th>\n      <th></th>\n      <th></th>\n      <th></th>\n      <th></th>\n      <th></th>\n      <th></th>\n      <th></th>\n      <th></th>\n      <th></th>\n      <th></th>\n      <th></th>\n    </tr>\n  </thead>\n  <tbody>\n    <tr>\n      <th>credit</th>\n      <td>NaN</td>\n      <td>0.178673</td>\n      <td>-0.001035</td>\n      <td>NaN</td>\n      <td>NaN</td>\n      <td>NaN</td>\n      <td>0.283389</td>\n      <td>0.033357</td>\n      <td>0.498359</td>\n      <td>0.289802</td>\n      <td>...</td>\n      <td>-0.498845</td>\n      <td>NaN</td>\n      <td>NaN</td>\n      <td>0.249558</td>\n      <td>-0.026119</td>\n      <td>NaN</td>\n      <td>NaN</td>\n      <td>NaN</td>\n      <td>NaN</td>\n      <td>NaN</td>\n    </tr>\n    <tr>\n      <th>dealing terms</th>\n      <td>NaN</td>\n      <td>-0.005857</td>\n      <td>0.214961</td>\n      <td>NaN</td>\n      <td>NaN</td>\n      <td>NaN</td>\n      <td>NaN</td>\n      <td>NaN</td>\n      <td>NaN</td>\n      <td>NaN</td>\n      <td>...</td>\n      <td>NaN</td>\n      <td>0.000111</td>\n      <td>0.000326</td>\n      <td>NaN</td>\n      <td>-0.000041</td>\n      <td>0.001717</td>\n      <td>0.000390</td>\n      <td>0.009697</td>\n      <td>0.001717</td>\n      <td>-0.164886</td>\n    </tr>\n    <tr>\n      <th>fees</th>\n      <td>0.097609</td>\n      <td>0.166250</td>\n      <td>0.000069</td>\n      <td>NaN</td>\n      <td>0.000074</td>\n      <td>NaN</td>\n      <td>0.000029</td>\n      <td>0.001532</td>\n      <td>0.000131</td>\n      <td>0.000115</td>\n      <td>...</td>\n      <td>0.495658</td>\n      <td>0.000237</td>\n      <td>0.038349</td>\n      <td>NaN</td>\n      <td>0.046134</td>\n      <td>0.000257</td>\n      <td>0.000098</td>\n      <td>NaN</td>\n      <td>0.000257</td>\n      <td>0.996133</td>\n    </tr>\n    <tr>\n      <th>investment approach</th>\n      <td>NaN</td>\n      <td>NaN</td>\n      <td>NaN</td>\n      <td>NaN</td>\n      <td>NaN</td>\n      <td>NaN</td>\n      <td>NaN</td>\n      <td>NaN</td>\n      <td>NaN</td>\n      <td>NaN</td>\n      <td>...</td>\n      <td>0.934497</td>\n      <td>NaN</td>\n      <td>NaN</td>\n      <td>NaN</td>\n      <td>0.338085</td>\n      <td>NaN</td>\n      <td>NaN</td>\n      <td>NaN</td>\n      <td>NaN</td>\n      <td>NaN</td>\n    </tr>\n    <tr>\n      <th>market</th>\n      <td>-0.142190</td>\n      <td>-0.001087</td>\n      <td>0.000067</td>\n      <td>NaN</td>\n      <td>0.000006</td>\n      <td>NaN</td>\n      <td>0.047601</td>\n      <td>-0.230250</td>\n      <td>0.123491</td>\n      <td>0.214307</td>\n      <td>...</td>\n      <td>0.201671</td>\n      <td>NaN</td>\n      <td>-0.048678</td>\n      <td>-0.123748</td>\n      <td>0.041713</td>\n      <td>0.000032</td>\n      <td>-0.497505</td>\n      <td>NaN</td>\n      <td>0.000032</td>\n      <td>0.283777</td>\n    </tr>\n  </tbody>\n</table>\n<p>5 rows × 820 columns</p>\n</div>"
     },
     "execution_count": 66,
     "metadata": {},
     "output_type": "execute_result"
    }
   ],
   "source": [
    "with open('../sentiment_analysis/topic_sentiment_analysis.pkl', 'rb') as f:\n",
    "    topic_sentiment_analysis = pickle.load(f)\n",
    "topic_sentiment_analysis.dropna(inplace=True, how='all')\n",
    "topic_sentiment_analysis.head()"
   ],
   "metadata": {
    "collapsed": false,
    "ExecuteTime": {
     "end_time": "2024-06-17T11:37:35.751392Z",
     "start_time": "2024-06-17T11:37:35.729550300Z"
    }
   },
   "id": "6f0bdd6f731c58ea"
  },
  {
   "cell_type": "code",
   "execution_count": 67,
   "outputs": [
    {
     "data": {
      "text/plain": "        avg_return    credit  dealing terms      fees  investment approach  \\\n123779     -0.0009       NaN            NaN  0.097609                  NaN   \n123731      2.6349 -0.001035       0.214961  0.000069                  NaN   \n123678      0.1000       NaN            NaN       NaN                  NaN   \n123676      0.3317       NaN            NaN  0.000074                  NaN   \n123677      1.5650       NaN            NaN       NaN                  NaN   \n\n          market  organization  performance  portfolio  stress      team  \n123779 -0.142190           NaN    -0.017482   0.273391     NaN  0.000031  \n123731  0.000067           NaN     0.080113   0.246493     NaN  0.000324  \n123678       NaN     -0.000028          NaN        NaN     NaN       NaN  \n123676  0.000006           NaN    -0.083941  -0.103765     NaN  0.002166  \n123677       NaN     -0.000028          NaN        NaN     NaN       NaN  ",
      "text/html": "<div>\n<style scoped>\n    .dataframe tbody tr th:only-of-type {\n        vertical-align: middle;\n    }\n\n    .dataframe tbody tr th {\n        vertical-align: top;\n    }\n\n    .dataframe thead th {\n        text-align: right;\n    }\n</style>\n<table border=\"1\" class=\"dataframe\">\n  <thead>\n    <tr style=\"text-align: right;\">\n      <th></th>\n      <th>avg_return</th>\n      <th>credit</th>\n      <th>dealing terms</th>\n      <th>fees</th>\n      <th>investment approach</th>\n      <th>market</th>\n      <th>organization</th>\n      <th>performance</th>\n      <th>portfolio</th>\n      <th>stress</th>\n      <th>team</th>\n    </tr>\n  </thead>\n  <tbody>\n    <tr>\n      <th>123779</th>\n      <td>-0.0009</td>\n      <td>NaN</td>\n      <td>NaN</td>\n      <td>0.097609</td>\n      <td>NaN</td>\n      <td>-0.142190</td>\n      <td>NaN</td>\n      <td>-0.017482</td>\n      <td>0.273391</td>\n      <td>NaN</td>\n      <td>0.000031</td>\n    </tr>\n    <tr>\n      <th>123731</th>\n      <td>2.6349</td>\n      <td>-0.001035</td>\n      <td>0.214961</td>\n      <td>0.000069</td>\n      <td>NaN</td>\n      <td>0.000067</td>\n      <td>NaN</td>\n      <td>0.080113</td>\n      <td>0.246493</td>\n      <td>NaN</td>\n      <td>0.000324</td>\n    </tr>\n    <tr>\n      <th>123678</th>\n      <td>0.1000</td>\n      <td>NaN</td>\n      <td>NaN</td>\n      <td>NaN</td>\n      <td>NaN</td>\n      <td>NaN</td>\n      <td>-0.000028</td>\n      <td>NaN</td>\n      <td>NaN</td>\n      <td>NaN</td>\n      <td>NaN</td>\n    </tr>\n    <tr>\n      <th>123676</th>\n      <td>0.3317</td>\n      <td>NaN</td>\n      <td>NaN</td>\n      <td>0.000074</td>\n      <td>NaN</td>\n      <td>0.000006</td>\n      <td>NaN</td>\n      <td>-0.083941</td>\n      <td>-0.103765</td>\n      <td>NaN</td>\n      <td>0.002166</td>\n    </tr>\n    <tr>\n      <th>123677</th>\n      <td>1.5650</td>\n      <td>NaN</td>\n      <td>NaN</td>\n      <td>NaN</td>\n      <td>NaN</td>\n      <td>NaN</td>\n      <td>-0.000028</td>\n      <td>NaN</td>\n      <td>NaN</td>\n      <td>NaN</td>\n      <td>NaN</td>\n    </tr>\n  </tbody>\n</table>\n</div>"
     },
     "execution_count": 67,
     "metadata": {},
     "output_type": "execute_result"
    }
   ],
   "source": [
    "results = pd.merge(doc_returns, topic_sentiment_analysis.T, left_index=True, right_index=True, how='inner')\n",
    "factor_cols = [col for col in results.columns if col != 'avg_return']\n",
    "results.head()"
   ],
   "metadata": {
    "collapsed": false,
    "ExecuteTime": {
     "end_time": "2024-06-17T11:37:35.764159800Z",
     "start_time": "2024-06-17T11:37:35.740965Z"
    }
   },
   "id": "8518627a8f7ef57a"
  },
  {
   "cell_type": "code",
   "execution_count": 68,
   "outputs": [
    {
     "data": {
      "text/plain": "        avg_return    credit  dealing terms      fees  investment approach  \\\n123779     -0.0009       NaN            NaN  0.098464                  NaN   \n123731      2.6349 -0.000540       0.215199  0.000614                  NaN   \n123678      0.1000       NaN            NaN       NaN                  NaN   \n123676      0.3317       NaN            NaN  0.000619                  NaN   \n123677      1.5650       NaN            NaN       NaN                  NaN   \n...            ...       ...            ...       ...                  ...   \n89742      -0.0700  0.000087      -0.000038 -0.021486                  NaN   \n101535      1.7600       NaN            NaN       NaN                  NaN   \n101536      3.4600       NaN            NaN       NaN                  NaN   \n101539     -5.8500       NaN            NaN       NaN                  NaN   \n105059      2.4100       NaN            NaN  0.021231            -0.602821   \n\n          market  organization  performance  portfolio  stress      team  \n123779 -0.141847           NaN    -0.017069   0.274342     NaN  0.000484  \n123731  0.000708           NaN     0.080721   0.247390     NaN  0.000778  \n123678       NaN      0.000497          NaN        NaN     NaN       NaN  \n123676  0.000647           NaN    -0.083660  -0.103564     NaN  0.002623  \n123677       NaN      0.000497          NaN        NaN     NaN       NaN  \n...          ...           ...          ...        ...     ...       ...  \n89742  -0.091618      0.000940    -0.049858  -0.032302     NaN  0.000528  \n101535 -0.323449           NaN     0.195782   0.000438     NaN  0.000487  \n101536 -0.323449           NaN     0.195782   0.000438     NaN  0.000487  \n101539 -0.323449           NaN     0.195782   0.000438     NaN  0.000487  \n105059  0.000670           NaN    -0.034806   0.035079     NaN  0.001149  \n\n[610 rows x 11 columns]",
      "text/html": "<div>\n<style scoped>\n    .dataframe tbody tr th:only-of-type {\n        vertical-align: middle;\n    }\n\n    .dataframe tbody tr th {\n        vertical-align: top;\n    }\n\n    .dataframe thead th {\n        text-align: right;\n    }\n</style>\n<table border=\"1\" class=\"dataframe\">\n  <thead>\n    <tr style=\"text-align: right;\">\n      <th></th>\n      <th>avg_return</th>\n      <th>credit</th>\n      <th>dealing terms</th>\n      <th>fees</th>\n      <th>investment approach</th>\n      <th>market</th>\n      <th>organization</th>\n      <th>performance</th>\n      <th>portfolio</th>\n      <th>stress</th>\n      <th>team</th>\n    </tr>\n  </thead>\n  <tbody>\n    <tr>\n      <th>123779</th>\n      <td>-0.0009</td>\n      <td>NaN</td>\n      <td>NaN</td>\n      <td>0.098464</td>\n      <td>NaN</td>\n      <td>-0.141847</td>\n      <td>NaN</td>\n      <td>-0.017069</td>\n      <td>0.274342</td>\n      <td>NaN</td>\n      <td>0.000484</td>\n    </tr>\n    <tr>\n      <th>123731</th>\n      <td>2.6349</td>\n      <td>-0.000540</td>\n      <td>0.215199</td>\n      <td>0.000614</td>\n      <td>NaN</td>\n      <td>0.000708</td>\n      <td>NaN</td>\n      <td>0.080721</td>\n      <td>0.247390</td>\n      <td>NaN</td>\n      <td>0.000778</td>\n    </tr>\n    <tr>\n      <th>123678</th>\n      <td>0.1000</td>\n      <td>NaN</td>\n      <td>NaN</td>\n      <td>NaN</td>\n      <td>NaN</td>\n      <td>NaN</td>\n      <td>0.000497</td>\n      <td>NaN</td>\n      <td>NaN</td>\n      <td>NaN</td>\n      <td>NaN</td>\n    </tr>\n    <tr>\n      <th>123676</th>\n      <td>0.3317</td>\n      <td>NaN</td>\n      <td>NaN</td>\n      <td>0.000619</td>\n      <td>NaN</td>\n      <td>0.000647</td>\n      <td>NaN</td>\n      <td>-0.083660</td>\n      <td>-0.103564</td>\n      <td>NaN</td>\n      <td>0.002623</td>\n    </tr>\n    <tr>\n      <th>123677</th>\n      <td>1.5650</td>\n      <td>NaN</td>\n      <td>NaN</td>\n      <td>NaN</td>\n      <td>NaN</td>\n      <td>NaN</td>\n      <td>0.000497</td>\n      <td>NaN</td>\n      <td>NaN</td>\n      <td>NaN</td>\n      <td>NaN</td>\n    </tr>\n    <tr>\n      <th>...</th>\n      <td>...</td>\n      <td>...</td>\n      <td>...</td>\n      <td>...</td>\n      <td>...</td>\n      <td>...</td>\n      <td>...</td>\n      <td>...</td>\n      <td>...</td>\n      <td>...</td>\n      <td>...</td>\n    </tr>\n    <tr>\n      <th>89742</th>\n      <td>-0.0700</td>\n      <td>0.000087</td>\n      <td>-0.000038</td>\n      <td>-0.021486</td>\n      <td>NaN</td>\n      <td>-0.091618</td>\n      <td>0.000940</td>\n      <td>-0.049858</td>\n      <td>-0.032302</td>\n      <td>NaN</td>\n      <td>0.000528</td>\n    </tr>\n    <tr>\n      <th>101535</th>\n      <td>1.7600</td>\n      <td>NaN</td>\n      <td>NaN</td>\n      <td>NaN</td>\n      <td>NaN</td>\n      <td>-0.323449</td>\n      <td>NaN</td>\n      <td>0.195782</td>\n      <td>0.000438</td>\n      <td>NaN</td>\n      <td>0.000487</td>\n    </tr>\n    <tr>\n      <th>101536</th>\n      <td>3.4600</td>\n      <td>NaN</td>\n      <td>NaN</td>\n      <td>NaN</td>\n      <td>NaN</td>\n      <td>-0.323449</td>\n      <td>NaN</td>\n      <td>0.195782</td>\n      <td>0.000438</td>\n      <td>NaN</td>\n      <td>0.000487</td>\n    </tr>\n    <tr>\n      <th>101539</th>\n      <td>-5.8500</td>\n      <td>NaN</td>\n      <td>NaN</td>\n      <td>NaN</td>\n      <td>NaN</td>\n      <td>-0.323449</td>\n      <td>NaN</td>\n      <td>0.195782</td>\n      <td>0.000438</td>\n      <td>NaN</td>\n      <td>0.000487</td>\n    </tr>\n    <tr>\n      <th>105059</th>\n      <td>2.4100</td>\n      <td>NaN</td>\n      <td>NaN</td>\n      <td>0.021231</td>\n      <td>-0.602821</td>\n      <td>0.000670</td>\n      <td>NaN</td>\n      <td>-0.034806</td>\n      <td>0.035079</td>\n      <td>NaN</td>\n      <td>0.001149</td>\n    </tr>\n  </tbody>\n</table>\n<p>610 rows × 11 columns</p>\n</div>"
     },
     "execution_count": 68,
     "metadata": {},
     "output_type": "execute_result"
    }
   ],
   "source": [
    "from sklearn.preprocessing import MinMaxScaler\n",
    "scaler = MinMaxScaler(feature_range=(-1, 1))\n",
    "results_cp = results.copy()\n",
    "\n",
    "results_cp[factor_cols] = scaler.fit_transform(results[factor_cols])\n",
    "results_cp"
   ],
   "metadata": {
    "collapsed": false,
    "ExecuteTime": {
     "end_time": "2024-06-17T11:37:35.793349100Z",
     "start_time": "2024-06-17T11:37:35.749393400Z"
    }
   },
   "id": "861b5294fb9650cc"
  },
  {
   "cell_type": "code",
   "execution_count": 69,
   "outputs": [
    {
     "name": "stdout",
     "output_type": "stream",
     "text": [
      "Factor: credit, N: 186\n",
      "Factor: dealing terms, N: 196\n",
      "Factor: fees, N: 299\n",
      "Factor: investment approach, N: 84\n",
      "Factor: market, N: 274\n",
      "Factor: organization, N: 158\n",
      "Factor: performance, N: 304\n",
      "Factor: portfolio, N: 347\n",
      "Factor: stress, N: 35\n",
      "Factor: team, N: 328\n"
     ]
    },
    {
     "data": {
      "text/plain": "                            p         r\ncredit              -0.034087  0.644166\ndealing terms        0.058710  0.413710\nfees                -0.070377  0.224997\ninvestment approach -0.029637  0.788993\nmarket               0.047856  0.430121\norganization         0.092813  0.246094\nperformance          0.023400  0.684472\nportfolio            0.034314  0.524068\nstress               0.230613  0.182589\nteam                 0.007175  0.897008",
      "text/html": "<div>\n<style scoped>\n    .dataframe tbody tr th:only-of-type {\n        vertical-align: middle;\n    }\n\n    .dataframe tbody tr th {\n        vertical-align: top;\n    }\n\n    .dataframe thead th {\n        text-align: right;\n    }\n</style>\n<table border=\"1\" class=\"dataframe\">\n  <thead>\n    <tr style=\"text-align: right;\">\n      <th></th>\n      <th>p</th>\n      <th>r</th>\n    </tr>\n  </thead>\n  <tbody>\n    <tr>\n      <th>credit</th>\n      <td>-0.034087</td>\n      <td>0.644166</td>\n    </tr>\n    <tr>\n      <th>dealing terms</th>\n      <td>0.058710</td>\n      <td>0.413710</td>\n    </tr>\n    <tr>\n      <th>fees</th>\n      <td>-0.070377</td>\n      <td>0.224997</td>\n    </tr>\n    <tr>\n      <th>investment approach</th>\n      <td>-0.029637</td>\n      <td>0.788993</td>\n    </tr>\n    <tr>\n      <th>market</th>\n      <td>0.047856</td>\n      <td>0.430121</td>\n    </tr>\n    <tr>\n      <th>organization</th>\n      <td>0.092813</td>\n      <td>0.246094</td>\n    </tr>\n    <tr>\n      <th>performance</th>\n      <td>0.023400</td>\n      <td>0.684472</td>\n    </tr>\n    <tr>\n      <th>portfolio</th>\n      <td>0.034314</td>\n      <td>0.524068</td>\n    </tr>\n    <tr>\n      <th>stress</th>\n      <td>0.230613</td>\n      <td>0.182589</td>\n    </tr>\n    <tr>\n      <th>team</th>\n      <td>0.007175</td>\n      <td>0.897008</td>\n    </tr>\n  </tbody>\n</table>\n</div>"
     },
     "execution_count": 69,
     "metadata": {},
     "output_type": "execute_result"
    }
   ],
   "source": [
    "# Old approach\n",
    "from scipy.stats import pearsonr\n",
    "\n",
    "# results.corr()\n",
    "corr = pd.DataFrame(columns=['p', 'r'])\n",
    "for col in results.columns:\n",
    "    if col != 'avg_return':\n",
    "        factor = results[results[col] > 0]\n",
    "        print(f'Factor: {col}, N: {len(factor)}')\n",
    "        p,r = pearsonr(factor['avg_return'], factor[col])\n",
    "        corr.loc[col] = [p, r]\n",
    "corr"
   ],
   "metadata": {
    "collapsed": false,
    "ExecuteTime": {
     "end_time": "2024-06-17T11:37:35.840415600Z",
     "start_time": "2024-06-17T11:37:35.761160600Z"
    }
   },
   "id": "94dacd4ea39000a4"
  },
  {
   "cell_type": "code",
   "execution_count": 70,
   "outputs": [],
   "source": [
    "x = results_cp[factor_cols].fillna(0)\n",
    "y = results_cp['avg_return']"
   ],
   "metadata": {
    "collapsed": false,
    "ExecuteTime": {
     "end_time": "2024-06-17T11:37:35.840415600Z",
     "start_time": "2024-06-17T11:37:35.777693300Z"
    }
   },
   "id": "c6dddfa25bf61a32"
  },
  {
   "cell_type": "code",
   "execution_count": 71,
   "outputs": [
    {
     "data": {
      "text/plain": "                     coefficient\ncredit                 -0.677262\ndealing terms           0.202756\nfees                   -1.408873\ninvestment approach    -0.137089\nmarket                  0.195091\norganization            0.633069\nperformance             0.486382\nportfolio               0.401551\nstress                  0.622487\nteam                    0.571358",
      "text/html": "<div>\n<style scoped>\n    .dataframe tbody tr th:only-of-type {\n        vertical-align: middle;\n    }\n\n    .dataframe tbody tr th {\n        vertical-align: top;\n    }\n\n    .dataframe thead th {\n        text-align: right;\n    }\n</style>\n<table border=\"1\" class=\"dataframe\">\n  <thead>\n    <tr style=\"text-align: right;\">\n      <th></th>\n      <th>coefficient</th>\n    </tr>\n  </thead>\n  <tbody>\n    <tr>\n      <th>credit</th>\n      <td>-0.677262</td>\n    </tr>\n    <tr>\n      <th>dealing terms</th>\n      <td>0.202756</td>\n    </tr>\n    <tr>\n      <th>fees</th>\n      <td>-1.408873</td>\n    </tr>\n    <tr>\n      <th>investment approach</th>\n      <td>-0.137089</td>\n    </tr>\n    <tr>\n      <th>market</th>\n      <td>0.195091</td>\n    </tr>\n    <tr>\n      <th>organization</th>\n      <td>0.633069</td>\n    </tr>\n    <tr>\n      <th>performance</th>\n      <td>0.486382</td>\n    </tr>\n    <tr>\n      <th>portfolio</th>\n      <td>0.401551</td>\n    </tr>\n    <tr>\n      <th>stress</th>\n      <td>0.622487</td>\n    </tr>\n    <tr>\n      <th>team</th>\n      <td>0.571358</td>\n    </tr>\n  </tbody>\n</table>\n</div>"
     },
     "execution_count": 71,
     "metadata": {},
     "output_type": "execute_result"
    }
   ],
   "source": [
    "from sklearn import linear_model\n",
    "reg = linear_model.LinearRegression()\n",
    "reg.fit(x, y)\n",
    "coefficients = pd.DataFrame(reg.coef_, index=results_cp.columns[1:], columns=['coefficient'])\n",
    "coefficients"
   ],
   "metadata": {
    "collapsed": false,
    "ExecuteTime": {
     "end_time": "2024-06-17T11:37:35.866438700Z",
     "start_time": "2024-06-17T11:37:35.780103900Z"
    }
   },
   "id": "7daac743569a9209"
  },
  {
   "cell_type": "code",
   "execution_count": 72,
   "outputs": [
    {
     "data": {
      "text/plain": "                     coefficient\ncredit                 -0.427301\ndealing terms          -0.000000\nfees                   -1.201518\ninvestment approach    -0.563320\nmarket                  0.000000\norganization            0.720108\nperformance             0.260454\nportfolio               0.669705\nstress                  0.758092\nteam                    0.437804",
      "text/html": "<div>\n<style scoped>\n    .dataframe tbody tr th:only-of-type {\n        vertical-align: middle;\n    }\n\n    .dataframe tbody tr th {\n        vertical-align: top;\n    }\n\n    .dataframe thead th {\n        text-align: right;\n    }\n</style>\n<table border=\"1\" class=\"dataframe\">\n  <thead>\n    <tr style=\"text-align: right;\">\n      <th></th>\n      <th>coefficient</th>\n    </tr>\n  </thead>\n  <tbody>\n    <tr>\n      <th>credit</th>\n      <td>-0.427301</td>\n    </tr>\n    <tr>\n      <th>dealing terms</th>\n      <td>-0.000000</td>\n    </tr>\n    <tr>\n      <th>fees</th>\n      <td>-1.201518</td>\n    </tr>\n    <tr>\n      <th>investment approach</th>\n      <td>-0.563320</td>\n    </tr>\n    <tr>\n      <th>market</th>\n      <td>0.000000</td>\n    </tr>\n    <tr>\n      <th>organization</th>\n      <td>0.720108</td>\n    </tr>\n    <tr>\n      <th>performance</th>\n      <td>0.260454</td>\n    </tr>\n    <tr>\n      <th>portfolio</th>\n      <td>0.669705</td>\n    </tr>\n    <tr>\n      <th>stress</th>\n      <td>0.758092</td>\n    </tr>\n    <tr>\n      <th>team</th>\n      <td>0.437804</td>\n    </tr>\n  </tbody>\n</table>\n</div>"
     },
     "execution_count": 72,
     "metadata": {},
     "output_type": "execute_result"
    }
   ],
   "source": [
    "from sklearn.linear_model import Lasso\n",
    "from sklearn.model_selection import train_test_split\n",
    "X_train, X_test, y_train, y_test = train_test_split(x, y, test_size=0.2, random_state=0)\n",
    "lasso = Lasso(alpha=0.01)\n",
    "lasso.fit(X_train, y_train)\n",
    "coefficients = pd.DataFrame(lasso.coef_, index=results_cp.columns[1:], columns=['coefficient'])\n",
    "coefficients"
   ],
   "metadata": {
    "collapsed": false,
    "ExecuteTime": {
     "end_time": "2024-06-17T11:37:35.867439Z",
     "start_time": "2024-06-17T11:37:35.788349Z"
    }
   },
   "id": "296efdecaccc4acf"
  }
 ],
 "metadata": {
  "kernelspec": {
   "display_name": "Python 3",
   "language": "python",
   "name": "python3"
  },
  "language_info": {
   "codemirror_mode": {
    "name": "ipython",
    "version": 2
   },
   "file_extension": ".py",
   "mimetype": "text/x-python",
   "name": "python",
   "nbconvert_exporter": "python",
   "pygments_lexer": "ipython2",
   "version": "2.7.6"
  }
 },
 "nbformat": 4,
 "nbformat_minor": 5
}
