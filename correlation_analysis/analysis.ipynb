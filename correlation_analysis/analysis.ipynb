{
 "cells": [
  {
   "cell_type": "code",
   "execution_count": 104,
   "id": "initial_id",
   "metadata": {
    "collapsed": true,
    "ExecuteTime": {
     "end_time": "2024-06-16T13:01:59.136421300Z",
     "start_time": "2024-06-16T13:01:59.124121200Z"
    }
   },
   "outputs": [],
   "source": [
    "import pickle\n",
    "import pandas as pd\n",
    "\n",
    "with open('doc_returns.pkl', 'rb') as f:\n",
    "    doc_returns = pickle.load(f)\n",
    "doc_returns.set_index('document_mf_id', inplace=True)\n",
    "doc_returns.head()\n",
    "doc_returns['avg_return'] = doc_returns['avg_return'].astype(float)"
   ]
  },
  {
   "cell_type": "code",
   "execution_count": 105,
   "outputs": [
    {
     "data": {
      "text/plain": "                       123779    123730    123731  123678    123676  123677  \\\ntopic                                                                         \ncredit                    NaN  0.178673 -0.001035     NaN       NaN     NaN   \ndealing terms             NaN -0.005857  0.214961     NaN       NaN     NaN   \nfees                 0.097609  0.166250  0.000069     NaN  0.000074     NaN   \ninvestment approach       NaN       NaN       NaN     NaN       NaN     NaN   \nmarket              -0.142190 -0.001087  0.000067     NaN  0.000006     NaN   \n\n                       123615    123483    123280    123281  ...    66920   \\\ntopic                                                        ...             \ncredit               0.283389  0.033357  0.498359  0.289802  ... -0.498845   \ndealing terms             NaN       NaN       NaN       NaN  ...       NaN   \nfees                 0.000029  0.001532  0.000131  0.000115  ...  0.495658   \ninvestment approach       NaN       NaN       NaN       NaN  ...  0.934497   \nmarket               0.047601 -0.230250  0.123491  0.214307  ...  0.201671   \n\n                       84387     45581     83759     69773     100780  \\\ntopic                                                                   \ncredit                    NaN       NaN  0.249558 -0.026119       NaN   \ndealing terms        0.000111  0.000326       NaN -0.000041  0.001717   \nfees                 0.000237  0.038349       NaN  0.046134  0.000257   \ninvestment approach       NaN       NaN       NaN  0.338085       NaN   \nmarket                    NaN -0.048678 -0.123748  0.041713  0.000032   \n\n                       43397     86265     100779    98672   \ntopic                                                        \ncredit                    NaN       NaN       NaN       NaN  \ndealing terms        0.000390  0.009697  0.001717 -0.164886  \nfees                 0.000098       NaN  0.000257  0.996133  \ninvestment approach       NaN       NaN       NaN       NaN  \nmarket              -0.497505       NaN  0.000032  0.283777  \n\n[5 rows x 820 columns]",
      "text/html": "<div>\n<style scoped>\n    .dataframe tbody tr th:only-of-type {\n        vertical-align: middle;\n    }\n\n    .dataframe tbody tr th {\n        vertical-align: top;\n    }\n\n    .dataframe thead th {\n        text-align: right;\n    }\n</style>\n<table border=\"1\" class=\"dataframe\">\n  <thead>\n    <tr style=\"text-align: right;\">\n      <th></th>\n      <th>123779</th>\n      <th>123730</th>\n      <th>123731</th>\n      <th>123678</th>\n      <th>123676</th>\n      <th>123677</th>\n      <th>123615</th>\n      <th>123483</th>\n      <th>123280</th>\n      <th>123281</th>\n      <th>...</th>\n      <th>66920</th>\n      <th>84387</th>\n      <th>45581</th>\n      <th>83759</th>\n      <th>69773</th>\n      <th>100780</th>\n      <th>43397</th>\n      <th>86265</th>\n      <th>100779</th>\n      <th>98672</th>\n    </tr>\n    <tr>\n      <th>topic</th>\n      <th></th>\n      <th></th>\n      <th></th>\n      <th></th>\n      <th></th>\n      <th></th>\n      <th></th>\n      <th></th>\n      <th></th>\n      <th></th>\n      <th></th>\n      <th></th>\n      <th></th>\n      <th></th>\n      <th></th>\n      <th></th>\n      <th></th>\n      <th></th>\n      <th></th>\n      <th></th>\n      <th></th>\n    </tr>\n  </thead>\n  <tbody>\n    <tr>\n      <th>credit</th>\n      <td>NaN</td>\n      <td>0.178673</td>\n      <td>-0.001035</td>\n      <td>NaN</td>\n      <td>NaN</td>\n      <td>NaN</td>\n      <td>0.283389</td>\n      <td>0.033357</td>\n      <td>0.498359</td>\n      <td>0.289802</td>\n      <td>...</td>\n      <td>-0.498845</td>\n      <td>NaN</td>\n      <td>NaN</td>\n      <td>0.249558</td>\n      <td>-0.026119</td>\n      <td>NaN</td>\n      <td>NaN</td>\n      <td>NaN</td>\n      <td>NaN</td>\n      <td>NaN</td>\n    </tr>\n    <tr>\n      <th>dealing terms</th>\n      <td>NaN</td>\n      <td>-0.005857</td>\n      <td>0.214961</td>\n      <td>NaN</td>\n      <td>NaN</td>\n      <td>NaN</td>\n      <td>NaN</td>\n      <td>NaN</td>\n      <td>NaN</td>\n      <td>NaN</td>\n      <td>...</td>\n      <td>NaN</td>\n      <td>0.000111</td>\n      <td>0.000326</td>\n      <td>NaN</td>\n      <td>-0.000041</td>\n      <td>0.001717</td>\n      <td>0.000390</td>\n      <td>0.009697</td>\n      <td>0.001717</td>\n      <td>-0.164886</td>\n    </tr>\n    <tr>\n      <th>fees</th>\n      <td>0.097609</td>\n      <td>0.166250</td>\n      <td>0.000069</td>\n      <td>NaN</td>\n      <td>0.000074</td>\n      <td>NaN</td>\n      <td>0.000029</td>\n      <td>0.001532</td>\n      <td>0.000131</td>\n      <td>0.000115</td>\n      <td>...</td>\n      <td>0.495658</td>\n      <td>0.000237</td>\n      <td>0.038349</td>\n      <td>NaN</td>\n      <td>0.046134</td>\n      <td>0.000257</td>\n      <td>0.000098</td>\n      <td>NaN</td>\n      <td>0.000257</td>\n      <td>0.996133</td>\n    </tr>\n    <tr>\n      <th>investment approach</th>\n      <td>NaN</td>\n      <td>NaN</td>\n      <td>NaN</td>\n      <td>NaN</td>\n      <td>NaN</td>\n      <td>NaN</td>\n      <td>NaN</td>\n      <td>NaN</td>\n      <td>NaN</td>\n      <td>NaN</td>\n      <td>...</td>\n      <td>0.934497</td>\n      <td>NaN</td>\n      <td>NaN</td>\n      <td>NaN</td>\n      <td>0.338085</td>\n      <td>NaN</td>\n      <td>NaN</td>\n      <td>NaN</td>\n      <td>NaN</td>\n      <td>NaN</td>\n    </tr>\n    <tr>\n      <th>market</th>\n      <td>-0.142190</td>\n      <td>-0.001087</td>\n      <td>0.000067</td>\n      <td>NaN</td>\n      <td>0.000006</td>\n      <td>NaN</td>\n      <td>0.047601</td>\n      <td>-0.230250</td>\n      <td>0.123491</td>\n      <td>0.214307</td>\n      <td>...</td>\n      <td>0.201671</td>\n      <td>NaN</td>\n      <td>-0.048678</td>\n      <td>-0.123748</td>\n      <td>0.041713</td>\n      <td>0.000032</td>\n      <td>-0.497505</td>\n      <td>NaN</td>\n      <td>0.000032</td>\n      <td>0.283777</td>\n    </tr>\n  </tbody>\n</table>\n<p>5 rows × 820 columns</p>\n</div>"
     },
     "execution_count": 105,
     "metadata": {},
     "output_type": "execute_result"
    }
   ],
   "source": [
    "with open('../sentiment_analysis/topic_sentiment_analysis.pkl', 'rb') as f:\n",
    "    topic_sentiment_analysis = pickle.load(f)\n",
    "topic_sentiment_analysis.dropna(inplace=True, how='all')\n",
    "topic_sentiment_analysis.head()"
   ],
   "metadata": {
    "collapsed": false,
    "ExecuteTime": {
     "end_time": "2024-06-16T13:02:00.665480700Z",
     "start_time": "2024-06-16T13:02:00.654192200Z"
    }
   },
   "id": "6f0bdd6f731c58ea"
  },
  {
   "cell_type": "code",
   "execution_count": 106,
   "outputs": [
    {
     "data": {
      "text/plain": "        avg_return    credit  dealing terms      fees  investment approach  \\\n123779    1.692367       NaN            NaN  0.097609                  NaN   \n123731    4.677267 -0.001035       0.214961  0.000069                  NaN   \n123678    2.908633       NaN            NaN       NaN                  NaN   \n123676    1.636867       NaN            NaN  0.000074                  NaN   \n123677    3.053700       NaN            NaN       NaN                  NaN   \n\n          market  organization  performance  portfolio  stress      team  \n123779 -0.142190           NaN    -0.017482   0.273391     NaN  0.000031  \n123731  0.000067           NaN     0.080113   0.246493     NaN  0.000324  \n123678       NaN     -0.000028          NaN        NaN     NaN       NaN  \n123676  0.000006           NaN    -0.083941  -0.103765     NaN  0.002166  \n123677       NaN     -0.000028          NaN        NaN     NaN       NaN  ",
      "text/html": "<div>\n<style scoped>\n    .dataframe tbody tr th:only-of-type {\n        vertical-align: middle;\n    }\n\n    .dataframe tbody tr th {\n        vertical-align: top;\n    }\n\n    .dataframe thead th {\n        text-align: right;\n    }\n</style>\n<table border=\"1\" class=\"dataframe\">\n  <thead>\n    <tr style=\"text-align: right;\">\n      <th></th>\n      <th>avg_return</th>\n      <th>credit</th>\n      <th>dealing terms</th>\n      <th>fees</th>\n      <th>investment approach</th>\n      <th>market</th>\n      <th>organization</th>\n      <th>performance</th>\n      <th>portfolio</th>\n      <th>stress</th>\n      <th>team</th>\n    </tr>\n  </thead>\n  <tbody>\n    <tr>\n      <th>123779</th>\n      <td>1.692367</td>\n      <td>NaN</td>\n      <td>NaN</td>\n      <td>0.097609</td>\n      <td>NaN</td>\n      <td>-0.142190</td>\n      <td>NaN</td>\n      <td>-0.017482</td>\n      <td>0.273391</td>\n      <td>NaN</td>\n      <td>0.000031</td>\n    </tr>\n    <tr>\n      <th>123731</th>\n      <td>4.677267</td>\n      <td>-0.001035</td>\n      <td>0.214961</td>\n      <td>0.000069</td>\n      <td>NaN</td>\n      <td>0.000067</td>\n      <td>NaN</td>\n      <td>0.080113</td>\n      <td>0.246493</td>\n      <td>NaN</td>\n      <td>0.000324</td>\n    </tr>\n    <tr>\n      <th>123678</th>\n      <td>2.908633</td>\n      <td>NaN</td>\n      <td>NaN</td>\n      <td>NaN</td>\n      <td>NaN</td>\n      <td>NaN</td>\n      <td>-0.000028</td>\n      <td>NaN</td>\n      <td>NaN</td>\n      <td>NaN</td>\n      <td>NaN</td>\n    </tr>\n    <tr>\n      <th>123676</th>\n      <td>1.636867</td>\n      <td>NaN</td>\n      <td>NaN</td>\n      <td>0.000074</td>\n      <td>NaN</td>\n      <td>0.000006</td>\n      <td>NaN</td>\n      <td>-0.083941</td>\n      <td>-0.103765</td>\n      <td>NaN</td>\n      <td>0.002166</td>\n    </tr>\n    <tr>\n      <th>123677</th>\n      <td>3.053700</td>\n      <td>NaN</td>\n      <td>NaN</td>\n      <td>NaN</td>\n      <td>NaN</td>\n      <td>NaN</td>\n      <td>-0.000028</td>\n      <td>NaN</td>\n      <td>NaN</td>\n      <td>NaN</td>\n      <td>NaN</td>\n    </tr>\n  </tbody>\n</table>\n</div>"
     },
     "execution_count": 106,
     "metadata": {},
     "output_type": "execute_result"
    }
   ],
   "source": [
    "results = pd.merge(doc_returns, topic_sentiment_analysis.T, left_index=True, right_index=True, how='inner')\n",
    "results.head()"
   ],
   "metadata": {
    "collapsed": false,
    "ExecuteTime": {
     "end_time": "2024-06-16T13:02:01.478918Z",
     "start_time": "2024-06-16T13:02:01.471079500Z"
    }
   },
   "id": "8518627a8f7ef57a"
  },
  {
   "cell_type": "code",
   "execution_count": 140,
   "outputs": [
    {
     "name": "stdout",
     "output_type": "stream",
     "text": [
      "Factor: credit, N: 197\n",
      "Factor: dealing terms, N: 202\n",
      "Factor: fees, N: 307\n",
      "Factor: investment approach, N: 86\n",
      "Factor: market, N: 286\n",
      "Factor: organization, N: 167\n",
      "Factor: performance, N: 326\n",
      "Factor: portfolio, N: 361\n",
      "Factor: stress, N: 35\n",
      "Factor: team, N: 339\n"
     ]
    },
    {
     "data": {
      "text/plain": "                            p         r\ncredit               0.046249  0.518697\ndealing terms        0.038660  0.584894\nfees                 0.030663  0.592514\ninvestment approach -0.137201  0.207779\nmarket              -0.017470  0.768620\norganization        -0.054381  0.485182\nperformance          0.009642  0.862323\nportfolio           -0.060649  0.250390\nstress               0.231624  0.180625\nteam                 0.049210  0.366390",
      "text/html": "<div>\n<style scoped>\n    .dataframe tbody tr th:only-of-type {\n        vertical-align: middle;\n    }\n\n    .dataframe tbody tr th {\n        vertical-align: top;\n    }\n\n    .dataframe thead th {\n        text-align: right;\n    }\n</style>\n<table border=\"1\" class=\"dataframe\">\n  <thead>\n    <tr style=\"text-align: right;\">\n      <th></th>\n      <th>p</th>\n      <th>r</th>\n    </tr>\n  </thead>\n  <tbody>\n    <tr>\n      <th>credit</th>\n      <td>0.046249</td>\n      <td>0.518697</td>\n    </tr>\n    <tr>\n      <th>dealing terms</th>\n      <td>0.038660</td>\n      <td>0.584894</td>\n    </tr>\n    <tr>\n      <th>fees</th>\n      <td>0.030663</td>\n      <td>0.592514</td>\n    </tr>\n    <tr>\n      <th>investment approach</th>\n      <td>-0.137201</td>\n      <td>0.207779</td>\n    </tr>\n    <tr>\n      <th>market</th>\n      <td>-0.017470</td>\n      <td>0.768620</td>\n    </tr>\n    <tr>\n      <th>organization</th>\n      <td>-0.054381</td>\n      <td>0.485182</td>\n    </tr>\n    <tr>\n      <th>performance</th>\n      <td>0.009642</td>\n      <td>0.862323</td>\n    </tr>\n    <tr>\n      <th>portfolio</th>\n      <td>-0.060649</td>\n      <td>0.250390</td>\n    </tr>\n    <tr>\n      <th>stress</th>\n      <td>0.231624</td>\n      <td>0.180625</td>\n    </tr>\n    <tr>\n      <th>team</th>\n      <td>0.049210</td>\n      <td>0.366390</td>\n    </tr>\n  </tbody>\n</table>\n</div>"
     },
     "execution_count": 140,
     "metadata": {},
     "output_type": "execute_result"
    }
   ],
   "source": [
    "from scipy.stats import pearsonr\n",
    "\n",
    "# results.corr()\n",
    "corr = pd.DataFrame(columns=['p', 'r'])\n",
    "for col in results.columns:\n",
    "    if col != 'avg_return':\n",
    "        factor = results[results[col] > 0]\n",
    "        print(f'Factor: {col}, N: {len(factor)}')\n",
    "        p,r = pearsonr(factor['avg_return'], factor[col])\n",
    "        corr.loc[col] = [p, r]\n",
    "corr"
   ],
   "metadata": {
    "collapsed": false,
    "ExecuteTime": {
     "end_time": "2024-06-16T13:22:00.892701100Z",
     "start_time": "2024-06-16T13:22:00.877626400Z"
    }
   },
   "id": "94dacd4ea39000a4"
  },
  {
   "cell_type": "code",
   "execution_count": null,
   "outputs": [],
   "source": [],
   "metadata": {
    "collapsed": false
   },
   "id": "7daac743569a9209"
  }
 ],
 "metadata": {
  "kernelspec": {
   "display_name": "Python 3",
   "language": "python",
   "name": "python3"
  },
  "language_info": {
   "codemirror_mode": {
    "name": "ipython",
    "version": 2
   },
   "file_extension": ".py",
   "mimetype": "text/x-python",
   "name": "python",
   "nbconvert_exporter": "python",
   "pygments_lexer": "ipython2",
   "version": "2.7.6"
  }
 },
 "nbformat": 4,
 "nbformat_minor": 5
}
