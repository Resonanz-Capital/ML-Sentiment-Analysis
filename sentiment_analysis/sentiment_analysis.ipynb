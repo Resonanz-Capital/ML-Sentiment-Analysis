{
 "cells": [
  {
   "cell_type": "markdown",
   "source": [
    "Prepare the Data"
   ],
   "metadata": {
    "collapsed": false
   },
   "id": "aa83962ea457df25"
  },
  {
   "cell_type": "code",
   "execution_count": 2,
   "id": "initial_id",
   "metadata": {
    "collapsed": true,
    "ExecuteTime": {
     "end_time": "2024-06-12T15:05:46.909268600Z",
     "start_time": "2024-06-12T15:05:46.391106300Z"
    }
   },
   "outputs": [],
   "source": [
    "import pickle\n",
    "docs = pickle.load(open('raw_docs_filtered.pkl', 'rb'))"
   ]
  },
  {
   "cell_type": "code",
   "execution_count": 36,
   "outputs": [],
   "source": [
    "import pandas as pd\n",
    "import nltk\n",
    "from nltk.tokenize import sent_tokenize\n",
    "\n",
    "def split_in_segments(text):\n",
    "    tokens = 0\n",
    "    mystring = list()\n",
    "    segments = []\n",
    "    for sent in sent_tokenize(text):\n",
    "        newtokens = len(sent.split())\n",
    "        tokens += newtokens\n",
    "        mystring.append(str(sent).strip())\n",
    "        if tokens > 512:\n",
    "            segments.append(\" \".join(mystring))\n",
    "            mystring = []\n",
    "            tokens = 0\n",
    "    if mystring:\n",
    "        segments.append(\" \".join(mystring))\n",
    "    return segments\n",
    "texts = []\n",
    "for i, row in docs.iterrows():\n",
    "    texts.extend(split_in_segments(row['document_text']))"
   ],
   "metadata": {
    "collapsed": false,
    "ExecuteTime": {
     "end_time": "2024-06-13T05:14:41.853227500Z",
     "start_time": "2024-06-13T05:14:37.539653300Z"
    }
   },
   "id": "dc35f37b4f19a79f"
  },
  {
   "cell_type": "code",
   "execution_count": 37,
   "outputs": [
    {
     "name": "stderr",
     "output_type": "stream",
     "text": [
      "C:\\Users\\viksu\\Desktop\\Diploma\\TopicExtractor\\venv\\Lib\\site-packages\\huggingface_hub\\file_download.py:1132: FutureWarning: `resume_download` is deprecated and will be removed in version 1.0.0. Downloads always resume when possible. If you want to force a new download, use `force_download=True`.\n",
      "  warnings.warn(\n"
     ]
    }
   ],
   "source": [
    "from transformers import AutoModelForSequenceClassification\n",
    "from transformers import TFAutoModelForSequenceClassification\n",
    "from transformers import AutoTokenizer, AutoConfig\n",
    "from scipy.special import softmax\n",
    "\n",
    "MODEL = f\"soleimanian/financial-roberta-large-sentiment\"\n",
    "tokenizer = AutoTokenizer.from_pretrained(MODEL)\n",
    "model = AutoModelForSequenceClassification.from_pretrained(MODEL)\n",
    "\n",
    "text = [\"\"\" While the equity market had a positive\n",
    "            month, mainly driven by a handful of IT, high growth stocks,\n",
    "            (i.e. Nvidia).\"\"\",\n",
    "        \"\"\"\n",
    "        the bond market ended in negative territory, as\n",
    "            rates’ cuts expectations moved further out into the year.\n",
    "        \"\"\"]\n",
    "\n",
    "encoded_input = tokenizer(text, return_tensors='pt', padding=True, truncation=True, max_length=512)\n",
    "output = model(**encoded_input)\n",
    "scores = [softmax(x.detach().numpy()) for x in output.logits]"
   ],
   "metadata": {
    "collapsed": false,
    "ExecuteTime": {
     "end_time": "2024-06-13T05:14:44.670267600Z",
     "start_time": "2024-06-13T05:14:41.856453100Z"
    }
   },
   "id": "a72cf9ed397baf15"
  },
  {
   "cell_type": "code",
   "execution_count": 38,
   "outputs": [
    {
     "data": {
      "text/plain": "   negative   neutral  positive  \\\n0  0.001701  0.197782  0.800518   \n1  0.998345  0.001080  0.000575   \n\n                                                text  \n0   While the equity market had a positive\\n     ...  \n1  \\n        the bond market ended in negative te...  ",
      "text/html": "<div>\n<style scoped>\n    .dataframe tbody tr th:only-of-type {\n        vertical-align: middle;\n    }\n\n    .dataframe tbody tr th {\n        vertical-align: top;\n    }\n\n    .dataframe thead th {\n        text-align: right;\n    }\n</style>\n<table border=\"1\" class=\"dataframe\">\n  <thead>\n    <tr style=\"text-align: right;\">\n      <th></th>\n      <th>negative</th>\n      <th>neutral</th>\n      <th>positive</th>\n      <th>text</th>\n    </tr>\n  </thead>\n  <tbody>\n    <tr>\n      <th>0</th>\n      <td>0.001701</td>\n      <td>0.197782</td>\n      <td>0.800518</td>\n      <td>While the equity market had a positive\\n     ...</td>\n    </tr>\n    <tr>\n      <th>1</th>\n      <td>0.998345</td>\n      <td>0.001080</td>\n      <td>0.000575</td>\n      <td>\\n        the bond market ended in negative te...</td>\n    </tr>\n  </tbody>\n</table>\n</div>"
     },
     "execution_count": 38,
     "metadata": {},
     "output_type": "execute_result"
    }
   ],
   "source": [
    "df = pd.DataFrame(scores, columns=['negative', 'neutral', 'positive'])\n",
    "df['text'] = text\n",
    "df.head()"
   ],
   "metadata": {
    "collapsed": false,
    "ExecuteTime": {
     "end_time": "2024-06-13T05:14:44.683209400Z",
     "start_time": "2024-06-13T05:14:44.675268500Z"
    }
   },
   "id": "66343535862bb8e4"
  },
  {
   "cell_type": "code",
   "execution_count": 49,
   "outputs": [
    {
     "name": "stdout",
     "output_type": "stream",
     "text": [
      "Sentiment score: positive\n"
     ]
    }
   ],
   "source": [
    "from transformers import AutoTokenizer, AutoModelForSequenceClassification\n",
    "import torch\n",
    "\n",
    "# Initialize the tokenizer and model\n",
    "tokenizer = AutoTokenizer.from_pretrained('distilbert-base-uncased')\n",
    "model = AutoModelForSequenceClassification.from_pretrained('distilbert-base-uncased-finetuned-sst-2-english')\n",
    "\n",
    "# Define the topic list\n",
    "topic_list = [\"bond\", \"bonds\"]\n",
    "\n",
    "# Input text\n",
    "text = \"\"\"\n",
    "While the equity market had a positive month, mainly driven by a handful of IT, high growth stocks,\n",
    "(i.e. Nvidia), the bond market ended in negative territory, as rates’ cuts expectations moved further out into the year.\n",
    "\"\"\"\n",
    "\n",
    "# Tokenize the text\n",
    "tokens = tokenizer(text, return_tensors='pt')\n",
    "input_ids = tokens['input_ids']\n",
    "\n",
    "# Identify topic-related tokens\n",
    "topic_token_ids = [tokenizer.encode(topic, add_special_tokens=False) for topic in topic_list]\n",
    "\n",
    "# Convert input_ids to a list for easier manipulation\n",
    "input_ids_list = input_ids[0].tolist()\n",
    "\n",
    "# Find the indices of the topic-related tokens\n",
    "topic_indices = []\n",
    "for i in range(len(input_ids_list)):\n",
    "    for topic_id in topic_token_ids:\n",
    "        if input_ids_list[i:i+len(topic_id)] == topic_id:\n",
    "            topic_indices.extend(range(i, i+len(topic_id)))\n",
    "\n",
    "# Create an attention mask focusing on topic-related tokens\n",
    "attention_mask = torch.zeros_like(input_ids)\n",
    "attention_mask[0, topic_indices] = 1\n",
    "\n",
    "# Ensure there's at least one topic-related token; otherwise, use the default attention mask\n",
    "if len(topic_indices) == 0:\n",
    "    attention_mask = torch.ones_like(input_ids)\n",
    "\n",
    "# Get model predictions with attention focused on topic words\n",
    "with torch.no_grad():\n",
    "    outputs = model(input_ids, attention_mask=attention_mask)\n",
    "    sentiment_scores = outputs.logits\n",
    "\n",
    "# Interpret the results\n",
    "sentiment = torch.softmax(sentiment_scores, dim=1)\n",
    "sentiment_label = torch.argmax(sentiment, dim=1).item()\n",
    "\n",
    "print(f\"Sentiment score: {'negative' if sentiment_label == 0 else 'positive'}\")\n"
   ],
   "metadata": {
    "collapsed": false,
    "ExecuteTime": {
     "end_time": "2024-06-13T06:17:13.333172900Z",
     "start_time": "2024-06-13T06:17:12.910644800Z"
    }
   },
   "id": "4915bf8ad4f9c584"
  },
  {
   "cell_type": "code",
   "execution_count": 50,
   "outputs": [
    {
     "data": {
      "text/plain": "tensor([[-0.8049,  0.9601]])"
     },
     "execution_count": 50,
     "metadata": {},
     "output_type": "execute_result"
    }
   ],
   "source": [
    "sentiment_scores"
   ],
   "metadata": {
    "collapsed": false,
    "ExecuteTime": {
     "end_time": "2024-06-13T06:17:13.802584300Z",
     "start_time": "2024-06-13T06:17:13.792054Z"
    }
   },
   "id": "e010ccefdbce087a"
  }
 ],
 "metadata": {
  "kernelspec": {
   "display_name": "Python 3",
   "language": "python",
   "name": "python3"
  },
  "language_info": {
   "codemirror_mode": {
    "name": "ipython",
    "version": 2
   },
   "file_extension": ".py",
   "mimetype": "text/x-python",
   "name": "python",
   "nbconvert_exporter": "python",
   "pygments_lexer": "ipython2",
   "version": "2.7.6"
  }
 },
 "nbformat": 4,
 "nbformat_minor": 5
}
