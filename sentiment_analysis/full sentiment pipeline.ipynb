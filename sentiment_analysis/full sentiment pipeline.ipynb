{
 "cells": [
  {
   "cell_type": "code",
   "execution_count": 3,
   "outputs": [
    {
     "name": "stdout",
     "output_type": "stream",
     "text": [
      "Requirement already satisfied: transformers in c:\\users\\viksu\\desktop\\diploma\\topicextractor\\venv\\lib\\site-packages (4.40.2)\n",
      "Requirement already satisfied: torch in c:\\users\\viksu\\desktop\\diploma\\topicextractor\\venv\\lib\\site-packages (2.3.0+cu121)\n",
      "Requirement already satisfied: filelock in c:\\users\\viksu\\desktop\\diploma\\topicextractor\\venv\\lib\\site-packages (from transformers) (3.13.4)\n",
      "Requirement already satisfied: huggingface-hub<1.0,>=0.19.3 in c:\\users\\viksu\\desktop\\diploma\\topicextractor\\venv\\lib\\site-packages (from transformers) (0.23.0)\n",
      "Requirement already satisfied: numpy>=1.17 in c:\\users\\viksu\\desktop\\diploma\\topicextractor\\venv\\lib\\site-packages (from transformers) (1.23.4)\n",
      "Requirement already satisfied: packaging>=20.0 in c:\\users\\viksu\\desktop\\diploma\\topicextractor\\venv\\lib\\site-packages (from transformers) (24.0)\n",
      "Requirement already satisfied: pyyaml>=5.1 in c:\\users\\viksu\\desktop\\diploma\\topicextractor\\venv\\lib\\site-packages (from transformers) (6.0.1)\n",
      "Requirement already satisfied: regex!=2019.12.17 in c:\\users\\viksu\\desktop\\diploma\\topicextractor\\venv\\lib\\site-packages (from transformers) (2024.4.16)\n",
      "Requirement already satisfied: requests in c:\\users\\viksu\\desktop\\diploma\\topicextractor\\venv\\lib\\site-packages (from transformers) (2.31.0)\n",
      "Requirement already satisfied: tokenizers<0.20,>=0.19 in c:\\users\\viksu\\desktop\\diploma\\topicextractor\\venv\\lib\\site-packages (from transformers) (0.19.1)\n",
      "Requirement already satisfied: safetensors>=0.4.1 in c:\\users\\viksu\\desktop\\diploma\\topicextractor\\venv\\lib\\site-packages (from transformers) (0.4.3)\n",
      "Requirement already satisfied: tqdm>=4.27 in c:\\users\\viksu\\desktop\\diploma\\topicextractor\\venv\\lib\\site-packages (from transformers) (4.66.2)\n",
      "Requirement already satisfied: typing-extensions>=4.8.0 in c:\\users\\viksu\\desktop\\diploma\\topicextractor\\venv\\lib\\site-packages (from torch) (4.10.0)\n",
      "Requirement already satisfied: sympy in c:\\users\\viksu\\desktop\\diploma\\topicextractor\\venv\\lib\\site-packages (from torch) (1.12)\n",
      "Requirement already satisfied: networkx in c:\\users\\viksu\\desktop\\diploma\\topicextractor\\venv\\lib\\site-packages (from torch) (3.3)\n",
      "Requirement already satisfied: jinja2 in c:\\users\\viksu\\desktop\\diploma\\topicextractor\\venv\\lib\\site-packages (from torch) (3.1.3)\n",
      "Requirement already satisfied: fsspec in c:\\users\\viksu\\desktop\\diploma\\topicextractor\\venv\\lib\\site-packages (from torch) (2024.3.1)\n",
      "Requirement already satisfied: mkl<=2021.4.0,>=2021.1.1 in c:\\users\\viksu\\desktop\\diploma\\topicextractor\\venv\\lib\\site-packages (from torch) (2021.4.0)\n",
      "Requirement already satisfied: intel-openmp==2021.* in c:\\users\\viksu\\desktop\\diploma\\topicextractor\\venv\\lib\\site-packages (from mkl<=2021.4.0,>=2021.1.1->torch) (2021.4.0)\n",
      "Requirement already satisfied: tbb==2021.* in c:\\users\\viksu\\desktop\\diploma\\topicextractor\\venv\\lib\\site-packages (from mkl<=2021.4.0,>=2021.1.1->torch) (2021.12.0)\n",
      "Requirement already satisfied: colorama in c:\\users\\viksu\\desktop\\diploma\\topicextractor\\venv\\lib\\site-packages (from tqdm>=4.27->transformers) (0.4.6)\n",
      "Requirement already satisfied: MarkupSafe>=2.0 in c:\\users\\viksu\\desktop\\diploma\\topicextractor\\venv\\lib\\site-packages (from jinja2->torch) (2.1.5)\n",
      "Requirement already satisfied: charset-normalizer<4,>=2 in c:\\users\\viksu\\desktop\\diploma\\topicextractor\\venv\\lib\\site-packages (from requests->transformers) (3.3.2)\n",
      "Requirement already satisfied: idna<4,>=2.5 in c:\\users\\viksu\\desktop\\diploma\\topicextractor\\venv\\lib\\site-packages (from requests->transformers) (3.6)\n",
      "Requirement already satisfied: urllib3<3,>=1.21.1 in c:\\users\\viksu\\desktop\\diploma\\topicextractor\\venv\\lib\\site-packages (from requests->transformers) (2.2.1)\n",
      "Requirement already satisfied: certifi>=2017.4.17 in c:\\users\\viksu\\desktop\\diploma\\topicextractor\\venv\\lib\\site-packages (from requests->transformers) (2024.2.2)\n",
      "Requirement already satisfied: mpmath>=0.19 in c:\\users\\viksu\\desktop\\diploma\\topicextractor\\venv\\lib\\site-packages (from sympy->torch) (1.3.0)\n"
     ]
    }
   ],
   "source": [
    "!pip install transformers torch"
   ],
   "metadata": {
    "collapsed": false,
    "ExecuteTime": {
     "end_time": "2024-06-15T20:02:08.219935600Z",
     "start_time": "2024-06-15T20:02:06.095918Z"
    }
   },
   "id": "1cd5dee47abad950"
  },
  {
   "cell_type": "code",
   "execution_count": 4,
   "outputs": [],
   "source": [
    "import warnings\n",
    "warnings.simplefilter(action='ignore', category=FutureWarning)\n",
    "import pandas as pd\n",
    "import spacy\n",
    "nlp = spacy.load('en_core_web_sm')"
   ],
   "metadata": {
    "collapsed": false,
    "ExecuteTime": {
     "end_time": "2024-06-15T20:02:10.541214Z",
     "start_time": "2024-06-15T20:02:08.219935600Z"
    }
   },
   "id": "initial_id"
  },
  {
   "cell_type": "code",
   "execution_count": 5,
   "outputs": [],
   "source": [
    "import pickle\n",
    "docs = pickle.load(open('raw_docs_filtered.pkl', 'rb'))"
   ],
   "metadata": {
    "collapsed": false,
    "ExecuteTime": {
     "end_time": "2024-06-15T20:02:10.605531800Z",
     "start_time": "2024-06-15T20:02:10.541214Z"
    }
   },
   "id": "f314f3a6709591c2"
  },
  {
   "cell_type": "code",
   "execution_count": 6,
   "outputs": [],
   "source": [
    "topics = {\n",
    "    \"credit\": [\"credit\"],\n",
    "    \"performance\": [\"performance\", \"long term performance\", \"returns\", \"style drift\", \"systematic risks\", \"loss\", \"tail risks\", \"maximum drawdown\", \"track record\", \"long term\"],\n",
    "    \"market\": [\"market\"],\n",
    "    \"investment approach\": [\"investment approach\", \"sources of alpha\", \"investment process\"],\n",
    "    \"portfolio\": [\"portfolio\", \"portfolio implementation\", \"risk management\", \"risk management system\", \"stop-loss limit\", \"liquidity\", \"leverage\", \"hedging\", \"risk\"],\n",
    "    \"stress\": [\"stress\", \"performance short term\", \"stress test\", \"scenario analysis\", \"manager's outlook\"],\n",
    "    \"team\": [\"team\", \"decision making\", \"staffing\", \"employees\", \"investment professionals\", \"investment teams\", \"incentive\", \"compensation\", \"investment manager\"],\n",
    "    \"organization\": [\"organization\", \"esg policies\", \"administrator\", \"auditor\", \"prime broker\", \"trading system\", \"compliance\", \"IT infrastructure\", \"business continuity\"],\n",
    "    \"fees\": [\"fees\", \"pass through fee\", \"management fee\", \"incentive fee\"],\n",
    "    \"dealing terms\": [\"dealing terms\", \"lock-up\", \"pay-out ratio\", \"subscription\", \"redemption\"],\n",
    "    \"asia\": [\"asia\", \"china\", \"csi\"]\n",
    "}\n"
   ],
   "metadata": {
    "collapsed": false,
    "ExecuteTime": {
     "end_time": "2024-06-15T20:02:10.606535400Z",
     "start_time": "2024-06-15T20:02:10.605027800Z"
    }
   },
   "id": "5855ad4a337a853c"
  },
  {
   "cell_type": "code",
   "execution_count": 7,
   "outputs": [],
   "source": [
    "def extract_context(text, topics, window_size=5):\n",
    "    \"\"\"\n",
    "    Extract context of given topics from text using token-based approach.\n",
    "    \n",
    "    Parameters:\n",
    "    - text (str): The input text.\n",
    "    - topics (dict): Dictionary with topics as keys and lists of keywords as values.\n",
    "    - window_size (int): Number of tokens to include before and after the topic keyword.\n",
    "    \n",
    "    Returns:\n",
    "    - dict: Dictionary with topics as keys and list of contexts as values.\n",
    "    \"\"\"\n",
    "    # Process the text\n",
    "    doc = nlp(text)\n",
    "    tokens = [token.text for token in doc]\n",
    "    topic_positions = {topic: set() for topic in topics}\n",
    "    \n",
    "    for topic, phrases in topics.items():\n",
    "        for phrase in phrases:\n",
    "            phrase_tokens = phrase.split()\n",
    "            n = len(phrase_tokens)\n",
    "            \n",
    "            for i in range(len(tokens) - n + 1):\n",
    "                ngram_tokens = tokens[i:i + n]\n",
    "                \n",
    "                if ngram_tokens == phrase_tokens:\n",
    "                    start = max(0, i - window_size)\n",
    "                    end = min(len(doc), i + window_size + 1)\n",
    "                    context = tokens[start:end]\n",
    "                    context_text = ' '.join(context)\n",
    "                    topic_positions[topic].add(context_text)\n",
    "                    \n",
    "    \n",
    "    return topic_positions"
   ],
   "metadata": {
    "collapsed": false,
    "ExecuteTime": {
     "end_time": "2024-06-15T20:02:10.612556300Z",
     "start_time": "2024-06-15T20:02:10.608536900Z"
    }
   },
   "id": "495b0b63e1748d93"
  },
  {
   "cell_type": "code",
   "execution_count": 8,
   "outputs": [
    {
     "data": {
      "text/plain": "   fund_mf_id  document_mf_id  \\\n0        3253          123779   \n1        2014          123730   \n2        3113          123731   \n3         936          123678   \n4        2780          123676   \n\n                                           fund_name     document_type  \\\n0                      Candlestick Cayman Feeder Ltd  quarterly_report   \n1  Davidson Kempner Long-Term Distressed Opportun...  quarterly_report   \n2  Davidson Kempner Long-Term Distressed Opportun...  quarterly_report   \n3            D.E. Shaw Valence International Fund LP  quarterly_report   \n4             D.E. Shaw Composite International Fund  quarterly_report   \n\n                                       document_text  \n0  Q1 2024\\nC A N D L E S T I C K C A P I T A L\\n...  \n1  confidential\\nDanuta Neumann\\nHedge Pole\\nMay ...  \n2  confidential\\nDanuta Neumann\\nHedge Pole\\nMay ...  \n3  1166 Avenue of the Americas\\nNinth Floor\\nNew ...  \n4  SM\\nCOMPOSITE\\nQUARTERLY PERFORMANCE SUMMARY M...  ",
      "text/html": "<div>\n<style scoped>\n    .dataframe tbody tr th:only-of-type {\n        vertical-align: middle;\n    }\n\n    .dataframe tbody tr th {\n        vertical-align: top;\n    }\n\n    .dataframe thead th {\n        text-align: right;\n    }\n</style>\n<table border=\"1\" class=\"dataframe\">\n  <thead>\n    <tr style=\"text-align: right;\">\n      <th></th>\n      <th>fund_mf_id</th>\n      <th>document_mf_id</th>\n      <th>fund_name</th>\n      <th>document_type</th>\n      <th>document_text</th>\n    </tr>\n  </thead>\n  <tbody>\n    <tr>\n      <th>0</th>\n      <td>3253</td>\n      <td>123779</td>\n      <td>Candlestick Cayman Feeder Ltd</td>\n      <td>quarterly_report</td>\n      <td>Q1 2024\\nC A N D L E S T I C K C A P I T A L\\n...</td>\n    </tr>\n    <tr>\n      <th>1</th>\n      <td>2014</td>\n      <td>123730</td>\n      <td>Davidson Kempner Long-Term Distressed Opportun...</td>\n      <td>quarterly_report</td>\n      <td>confidential\\nDanuta Neumann\\nHedge Pole\\nMay ...</td>\n    </tr>\n    <tr>\n      <th>2</th>\n      <td>3113</td>\n      <td>123731</td>\n      <td>Davidson Kempner Long-Term Distressed Opportun...</td>\n      <td>quarterly_report</td>\n      <td>confidential\\nDanuta Neumann\\nHedge Pole\\nMay ...</td>\n    </tr>\n    <tr>\n      <th>3</th>\n      <td>936</td>\n      <td>123678</td>\n      <td>D.E. Shaw Valence International Fund LP</td>\n      <td>quarterly_report</td>\n      <td>1166 Avenue of the Americas\\nNinth Floor\\nNew ...</td>\n    </tr>\n    <tr>\n      <th>4</th>\n      <td>2780</td>\n      <td>123676</td>\n      <td>D.E. Shaw Composite International Fund</td>\n      <td>quarterly_report</td>\n      <td>SM\\nCOMPOSITE\\nQUARTERLY PERFORMANCE SUMMARY M...</td>\n    </tr>\n  </tbody>\n</table>\n</div>"
     },
     "execution_count": 8,
     "metadata": {},
     "output_type": "execute_result"
    }
   ],
   "source": [
    "docs.head()"
   ],
   "metadata": {
    "collapsed": false,
    "ExecuteTime": {
     "end_time": "2024-06-15T20:02:10.625979Z",
     "start_time": "2024-06-15T20:02:10.612556300Z"
    }
   },
   "id": "ff4c9d110775cfc0"
  },
  {
   "cell_type": "code",
   "execution_count": 9,
   "outputs": [],
   "source": [
    "def get_context(s):\n",
    "    return extract_context(s['document_text'], topics, window_size=5)\n",
    "\n",
    "def add_context(df):\n",
    "    df['contexts'] = df['document_text'].apply(lambda x: extract_context(x, topics, window_size=5))\n",
    "    return df"
   ],
   "metadata": {
    "collapsed": false,
    "ExecuteTime": {
     "end_time": "2024-06-15T20:02:10.627121100Z",
     "start_time": "2024-06-15T20:02:10.624979700Z"
    }
   },
   "id": "2ad834916c15c864"
  },
  {
   "cell_type": "code",
   "execution_count": 10,
   "outputs": [
    {
     "name": "stderr",
     "output_type": "stream",
     "text": [
      "C:\\Users\\viksu\\AppData\\Local\\Temp\\ipykernel_88856\\92542519.py:5: SettingWithCopyWarning: \n",
      "A value is trying to be set on a copy of a slice from a DataFrame.\n",
      "Try using .loc[row_indexer,col_indexer] = value instead\n",
      "\n",
      "See the caveats in the documentation: https://pandas.pydata.org/pandas-docs/stable/user_guide/indexing.html#returning-a-view-versus-a-copy\n",
      "  df['contexts'] = df['document_text'].apply(lambda x: extract_context(x, topics, window_size=5))\n"
     ]
    }
   ],
   "source": [
    "tmp = add_context(docs[:1])"
   ],
   "metadata": {
    "collapsed": false,
    "ExecuteTime": {
     "end_time": "2024-06-15T20:02:11.624717200Z",
     "start_time": "2024-06-15T20:02:10.627121100Z"
    }
   },
   "id": "b717d97446f6d8b4"
  },
  {
   "cell_type": "code",
   "execution_count": 11,
   "outputs": [
    {
     "data": {
      "text/plain": "{'credit': set(),\n 'performance': {'\\n allocation . The net returns are calculated based on a',\n  '\\n indication of the broader performance of the markets among which',\n  '\\n largest contributors to our performance in the quarter , while',\n  '\\n r \\n QTD \\n returns in Q1 equated to 5.1%-5.2',\n  '\\n t \\n L \\n returns include “ new issue ”',\n  ', struggling to earn economic returns . It became \\n clear',\n  '- level , unaudited monthly performance information for \\n r \\n',\n  'As such , the net returns include “ new issue ”',\n  'Estate sectors detracted from our returns . \\n See Notes and',\n  'To the extent we quote returns on this index , such',\n  'allocation . Furthermore , gross performance is \\n i \\n r',\n  'any \\n time . The performance information presented in this summary',\n  'are unable to generate economic returns , absent \\n a \\n',\n  'calculate the \\n c \\n performance information set forth in this',\n  'equated to 5.1%-5.2 % net returns for new issue eligible investors',\n  'in this update . The performance information in this \\n t',\n  'individual investor . The cumulative returns for a \\n p \\n',\n  'of \\n market activity and performance . It is presented as',\n  'offering \\n documents . Net returns of other investors may vary',\n  'on this index , such returns are inclusive \\n of dividends',\n  'or financial trends or \\n performance , which information is based',\n  'provides a breakdown of our performance by sector . \\n R',\n  's \\n u \\n blended performance and high - water mark',\n  'to compare the Funds ’ performance . There arre many significant',\n  'water mark . The cumulative returns for a \\n i \\n',\n  'water mark . The cumulative returns for a period are compounded',\n  'which may affect their blended performance and high- \\n water mark',\n  '’ offering documents . Net returns of other investors may vary',\n  '” \\n means profit and loss including all income items ,'},\n 'market': {'\\n t \\n s \\n market that we are observing that',\n  ', unmanaged index of \\n market activity and performance . It',\n  'Exposure ” \\n means the market value for single - name',\n  'not make it into the market , even as \\n demand',\n  'other equity derivatives and \\n market value for all other ‘',\n  'the difference between the total market value ( absolute value )',\n  'the sum of the total market values ( absolute value )'},\n 'investment approach': set(),\n 'portfolio': {'A investors will have equal liquidity \\n rights – in short',\n  'L \\n successful or that risk mitigation techniques used by Candlestick',\n  'aggregate , is at immediate risk . Household balance sheets \\n',\n  'interest rates and availability of leverage , \\n changes in legislation',\n  'rights – in short , liquidity for investors will be provided',\n  'y \\n investors from thde risk of significant investment losses .'},\n 'stress': set(),\n 'team': {', the \\n o \\n incentive allocation is accrued for (',\n  'fees of 2 % and incentive \\n y \\n allocations ranging',\n  'fees of 2 % and incentive allocations ranging from \\n 20%-30',\n  'limitation , management fees and incentive \\n allocation . The net',\n  'monthly net return , the incentive allocation is accrued \\n for',\n  'not include any accrual of incentive allocation . Furthermore , gross',\n  'subscriptions , transfers or \\n incentive reallocations . \\n “ Master'},\n 'organization': set(),\n 'fees': {'\\n income , annualized management fees of 2 % and incentive',\n  'ding without limitation , management fees and incentive \\n allocation .',\n  'fund expenses , including management fees . For the avoidance of',\n  'including without limitation , management fees and incentive \\n allocation .',\n  '” income , annualized management fees of 2 % and incentive'},\n 'dealing terms': set(),\n 'asia': set()}"
     },
     "execution_count": 11,
     "metadata": {},
     "output_type": "execute_result"
    }
   ],
   "source": [
    "tmp['contexts'][0]"
   ],
   "metadata": {
    "collapsed": false,
    "ExecuteTime": {
     "end_time": "2024-06-15T20:02:11.627490400Z",
     "start_time": "2024-06-15T20:02:11.624717200Z"
    }
   },
   "id": "9e0502bf930ec964"
  },
  {
   "cell_type": "code",
   "execution_count": 12,
   "outputs": [],
   "source": [
    "from transformers import AutoModelForSequenceClassification\n",
    "from transformers import AutoTokenizer\n",
    "from scipy.special import softmax\n",
    "\n",
    "MODEL = f\"soleimanian/financial-roberta-large-sentiment\"\n",
    "tokenizer = AutoTokenizer.from_pretrained(MODEL)\n",
    "model = AutoModelForSequenceClassification.from_pretrained(MODEL)\n",
    "\n",
    "\n",
    "def get_sentiments(contexts):\n",
    "    df = pd.DataFrame(columns=['negative', 'neutral', 'positive'])\n",
    "    for topic, context_list in contexts.items():\n",
    "        if not context_list:\n",
    "            continue\n",
    "        context_list = [f\"{context}\" for context in context_list]\n",
    "        encoded_input = tokenizer(context_list, return_tensors='pt', padding=True, truncation=True, max_length=512)\n",
    "        output = model(**encoded_input)\n",
    "        scores = [softmax(x.detach().numpy()) for x in output.logits]\n",
    "        df2 = pd.DataFrame(scores, columns=['negative', 'neutral', 'positive'])\n",
    "        df2['text'] = context_list\n",
    "        df2['topic'] = topic\n",
    "        df = pd.concat([df, df2], ignore_index=True)\n",
    "    return df"
   ],
   "metadata": {
    "collapsed": false,
    "ExecuteTime": {
     "end_time": "2024-06-15T20:02:16.045726400Z",
     "start_time": "2024-06-15T20:02:11.628491600Z"
    }
   },
   "id": "ed6abc13e83fec2b"
  },
  {
   "cell_type": "code",
   "execution_count": 13,
   "outputs": [
    {
     "data": {
      "text/plain": "    negative   neutral  positive  \\\n0   0.000491  0.998991  0.000518   \n1   0.000790  0.998585  0.000625   \n2   0.000209  0.999596  0.000195   \n3   0.000210  0.999625  0.000165   \n4   0.000351  0.999497  0.000152   \n5   0.000277  0.999568  0.000155   \n6   0.000197  0.999602  0.000200   \n7   0.000240  0.999613  0.000148   \n8   0.000208  0.999580  0.000212   \n9   0.000756  0.001121  0.998123   \n10  0.000242  0.999589  0.000169   \n11  0.000206  0.999612  0.000182   \n12  0.000229  0.999618  0.000153   \n13  0.000360  0.165676  0.833964   \n14  0.000170  0.999533  0.000298   \n15  0.000194  0.999592  0.000213   \n16  0.000971  0.380781  0.618248   \n17  0.000193  0.999537  0.000270   \n18  0.998439  0.001256  0.000305   \n19  0.000587  0.998696  0.000717   \n20  0.000142  0.999623  0.000235   \n21  0.015583  0.984005  0.000412   \n22  0.000365  0.999499  0.000135   \n23  0.000183  0.999594  0.000223   \n24  0.000178  0.999562  0.000260   \n25  0.000221  0.999617  0.000162   \n26  0.944283  0.054302  0.001415   \n27  0.000211  0.999578  0.000211   \n28  0.998816  0.000917  0.000267   \n29  0.000272  0.999578  0.000149   \n30  0.000404  0.999266  0.000330   \n31  0.995165  0.004573  0.000261   \n32  0.000222  0.999447  0.000331   \n33  0.000307  0.999542  0.000152   \n34  0.000305  0.999521  0.000174   \n35  0.000252  0.999546  0.000202   \n36  0.001281  0.998114  0.000605   \n37  0.000185  0.986039  0.013776   \n38  0.998963  0.000784  0.000254   \n39  0.000166  0.073018  0.926816   \n40  0.008951  0.277543  0.713506   \n41  0.000336  0.004394  0.995271   \n42  0.000237  0.999574  0.000189   \n43  0.000212  0.999552  0.000236   \n44  0.000198  0.999420  0.000382   \n45  0.000179  0.999563  0.000259   \n46  0.000222  0.999609  0.000170   \n47  0.000253  0.999517  0.000230   \n48  0.000202  0.999541  0.000258   \n49  0.000215  0.999552  0.000233   \n50  0.000221  0.999406  0.000374   \n51  0.000201  0.999527  0.000272   \n52  0.000425  0.511674  0.487901   \n53  0.000202  0.999274  0.000524   \n\n                                                 text        topic  \n0   ’ offering documents . Net returns of other in...  performance  \n1   offering \\n documents . Net returns of other i...  performance  \n2   any \\n time . The performance information pres...  performance  \n3   \\n allocation . The net returns are calculated...  performance  \n4   \\n indication of the broader performance of th...  performance  \n5   or financial trends or \\n performance , which ...  performance  \n6   provides a breakdown of our performance by sec...  performance  \n7   of \\n market activity and performance . It is ...  performance  \n8          \\n t \\n L \\n returns include “ new issue ”  performance  \n9   s \\n u \\n blended performance and high - water...  performance  \n10  calculate the \\n c \\n performance information ...  performance  \n11  allocation . Furthermore , gross performance i...  performance  \n12  To the extent we quote returns on this index ,...  performance  \n13  equated to 5.1%-5.2 % net returns for new issu...  performance  \n14    As such , the net returns include “ new issue ”  performance  \n15  in this update . The performance information i...  performance  \n16   \\n r \\n QTD \\n returns in Q1 equated to 5.1%-5.2  performance  \n17  water mark . The cumulative returns for a \\n i \\n  performance  \n18  Estate sectors detracted from our returns . \\n...  performance  \n19  \\n largest contributors to our performance in ...  performance  \n20  - level , unaudited monthly performance inform...  performance  \n21  are unable to generate economic returns , abse...  performance  \n22  ” \\n means profit and loss including all incom...  performance  \n23  individual investor . The cumulative returns f...  performance  \n24  water mark . The cumulative returns for a peri...  performance  \n25  on this index , such returns are inclusive \\n ...  performance  \n26  which may affect their blended performance and...  performance  \n27  to compare the Funds ’ performance . There arr...  performance  \n28  , struggling to earn economic returns . It bec...  performance  \n29  , unmanaged index of \\n market activity and pe...       market  \n30     \\n t \\n s \\n market that we are observing that       market  \n31    not make it into the market , even as \\n demand       market  \n32  other equity derivatives and \\n market value f...       market  \n33  Exposure ” \\n means the market value for singl...       market  \n34  the difference between the total market value ...       market  \n35  the sum of the total market values ( absolute ...       market  \n36  interest rates and availability of leverage , ...    portfolio  \n37  A investors will have equal liquidity \\n right...    portfolio  \n38  aggregate , is at immediate risk . Household b...    portfolio  \n39  rights – in short , liquidity for investors wi...    portfolio  \n40  L \\n successful or that risk mitigation techni...    portfolio  \n41  y \\n investors from thde risk of significant i...    portfolio  \n42  monthly net return , the incentive allocation ...         team  \n43  fees of 2 % and incentive allocations ranging ...         team  \n44  fees of 2 % and incentive \\n y \\n allocations ...         team  \n45  subscriptions , transfers or \\n incentive real...         team  \n46  not include any accrual of incentive allocatio...         team  \n47  , the \\n o \\n incentive allocation is accrued ...         team  \n48  limitation , management fees and incentive \\n ...         team  \n49  ding without limitation , management fees and ...         fees  \n50  ” income , annualized management fees of 2 % a...         fees  \n51  including without limitation , management fees...         fees  \n52  fund expenses , including management fees . Fo...         fees  \n53  \\n income , annualized management fees of 2 % ...         fees  ",
      "text/html": "<div>\n<style scoped>\n    .dataframe tbody tr th:only-of-type {\n        vertical-align: middle;\n    }\n\n    .dataframe tbody tr th {\n        vertical-align: top;\n    }\n\n    .dataframe thead th {\n        text-align: right;\n    }\n</style>\n<table border=\"1\" class=\"dataframe\">\n  <thead>\n    <tr style=\"text-align: right;\">\n      <th></th>\n      <th>negative</th>\n      <th>neutral</th>\n      <th>positive</th>\n      <th>text</th>\n      <th>topic</th>\n    </tr>\n  </thead>\n  <tbody>\n    <tr>\n      <th>0</th>\n      <td>0.000491</td>\n      <td>0.998991</td>\n      <td>0.000518</td>\n      <td>’ offering documents . Net returns of other in...</td>\n      <td>performance</td>\n    </tr>\n    <tr>\n      <th>1</th>\n      <td>0.000790</td>\n      <td>0.998585</td>\n      <td>0.000625</td>\n      <td>offering \\n documents . Net returns of other i...</td>\n      <td>performance</td>\n    </tr>\n    <tr>\n      <th>2</th>\n      <td>0.000209</td>\n      <td>0.999596</td>\n      <td>0.000195</td>\n      <td>any \\n time . The performance information pres...</td>\n      <td>performance</td>\n    </tr>\n    <tr>\n      <th>3</th>\n      <td>0.000210</td>\n      <td>0.999625</td>\n      <td>0.000165</td>\n      <td>\\n allocation . The net returns are calculated...</td>\n      <td>performance</td>\n    </tr>\n    <tr>\n      <th>4</th>\n      <td>0.000351</td>\n      <td>0.999497</td>\n      <td>0.000152</td>\n      <td>\\n indication of the broader performance of th...</td>\n      <td>performance</td>\n    </tr>\n    <tr>\n      <th>5</th>\n      <td>0.000277</td>\n      <td>0.999568</td>\n      <td>0.000155</td>\n      <td>or financial trends or \\n performance , which ...</td>\n      <td>performance</td>\n    </tr>\n    <tr>\n      <th>6</th>\n      <td>0.000197</td>\n      <td>0.999602</td>\n      <td>0.000200</td>\n      <td>provides a breakdown of our performance by sec...</td>\n      <td>performance</td>\n    </tr>\n    <tr>\n      <th>7</th>\n      <td>0.000240</td>\n      <td>0.999613</td>\n      <td>0.000148</td>\n      <td>of \\n market activity and performance . It is ...</td>\n      <td>performance</td>\n    </tr>\n    <tr>\n      <th>8</th>\n      <td>0.000208</td>\n      <td>0.999580</td>\n      <td>0.000212</td>\n      <td>\\n t \\n L \\n returns include “ new issue ”</td>\n      <td>performance</td>\n    </tr>\n    <tr>\n      <th>9</th>\n      <td>0.000756</td>\n      <td>0.001121</td>\n      <td>0.998123</td>\n      <td>s \\n u \\n blended performance and high - water...</td>\n      <td>performance</td>\n    </tr>\n    <tr>\n      <th>10</th>\n      <td>0.000242</td>\n      <td>0.999589</td>\n      <td>0.000169</td>\n      <td>calculate the \\n c \\n performance information ...</td>\n      <td>performance</td>\n    </tr>\n    <tr>\n      <th>11</th>\n      <td>0.000206</td>\n      <td>0.999612</td>\n      <td>0.000182</td>\n      <td>allocation . Furthermore , gross performance i...</td>\n      <td>performance</td>\n    </tr>\n    <tr>\n      <th>12</th>\n      <td>0.000229</td>\n      <td>0.999618</td>\n      <td>0.000153</td>\n      <td>To the extent we quote returns on this index ,...</td>\n      <td>performance</td>\n    </tr>\n    <tr>\n      <th>13</th>\n      <td>0.000360</td>\n      <td>0.165676</td>\n      <td>0.833964</td>\n      <td>equated to 5.1%-5.2 % net returns for new issu...</td>\n      <td>performance</td>\n    </tr>\n    <tr>\n      <th>14</th>\n      <td>0.000170</td>\n      <td>0.999533</td>\n      <td>0.000298</td>\n      <td>As such , the net returns include “ new issue ”</td>\n      <td>performance</td>\n    </tr>\n    <tr>\n      <th>15</th>\n      <td>0.000194</td>\n      <td>0.999592</td>\n      <td>0.000213</td>\n      <td>in this update . The performance information i...</td>\n      <td>performance</td>\n    </tr>\n    <tr>\n      <th>16</th>\n      <td>0.000971</td>\n      <td>0.380781</td>\n      <td>0.618248</td>\n      <td>\\n r \\n QTD \\n returns in Q1 equated to 5.1%-5.2</td>\n      <td>performance</td>\n    </tr>\n    <tr>\n      <th>17</th>\n      <td>0.000193</td>\n      <td>0.999537</td>\n      <td>0.000270</td>\n      <td>water mark . The cumulative returns for a \\n i \\n</td>\n      <td>performance</td>\n    </tr>\n    <tr>\n      <th>18</th>\n      <td>0.998439</td>\n      <td>0.001256</td>\n      <td>0.000305</td>\n      <td>Estate sectors detracted from our returns . \\n...</td>\n      <td>performance</td>\n    </tr>\n    <tr>\n      <th>19</th>\n      <td>0.000587</td>\n      <td>0.998696</td>\n      <td>0.000717</td>\n      <td>\\n largest contributors to our performance in ...</td>\n      <td>performance</td>\n    </tr>\n    <tr>\n      <th>20</th>\n      <td>0.000142</td>\n      <td>0.999623</td>\n      <td>0.000235</td>\n      <td>- level , unaudited monthly performance inform...</td>\n      <td>performance</td>\n    </tr>\n    <tr>\n      <th>21</th>\n      <td>0.015583</td>\n      <td>0.984005</td>\n      <td>0.000412</td>\n      <td>are unable to generate economic returns , abse...</td>\n      <td>performance</td>\n    </tr>\n    <tr>\n      <th>22</th>\n      <td>0.000365</td>\n      <td>0.999499</td>\n      <td>0.000135</td>\n      <td>” \\n means profit and loss including all incom...</td>\n      <td>performance</td>\n    </tr>\n    <tr>\n      <th>23</th>\n      <td>0.000183</td>\n      <td>0.999594</td>\n      <td>0.000223</td>\n      <td>individual investor . The cumulative returns f...</td>\n      <td>performance</td>\n    </tr>\n    <tr>\n      <th>24</th>\n      <td>0.000178</td>\n      <td>0.999562</td>\n      <td>0.000260</td>\n      <td>water mark . The cumulative returns for a peri...</td>\n      <td>performance</td>\n    </tr>\n    <tr>\n      <th>25</th>\n      <td>0.000221</td>\n      <td>0.999617</td>\n      <td>0.000162</td>\n      <td>on this index , such returns are inclusive \\n ...</td>\n      <td>performance</td>\n    </tr>\n    <tr>\n      <th>26</th>\n      <td>0.944283</td>\n      <td>0.054302</td>\n      <td>0.001415</td>\n      <td>which may affect their blended performance and...</td>\n      <td>performance</td>\n    </tr>\n    <tr>\n      <th>27</th>\n      <td>0.000211</td>\n      <td>0.999578</td>\n      <td>0.000211</td>\n      <td>to compare the Funds ’ performance . There arr...</td>\n      <td>performance</td>\n    </tr>\n    <tr>\n      <th>28</th>\n      <td>0.998816</td>\n      <td>0.000917</td>\n      <td>0.000267</td>\n      <td>, struggling to earn economic returns . It bec...</td>\n      <td>performance</td>\n    </tr>\n    <tr>\n      <th>29</th>\n      <td>0.000272</td>\n      <td>0.999578</td>\n      <td>0.000149</td>\n      <td>, unmanaged index of \\n market activity and pe...</td>\n      <td>market</td>\n    </tr>\n    <tr>\n      <th>30</th>\n      <td>0.000404</td>\n      <td>0.999266</td>\n      <td>0.000330</td>\n      <td>\\n t \\n s \\n market that we are observing that</td>\n      <td>market</td>\n    </tr>\n    <tr>\n      <th>31</th>\n      <td>0.995165</td>\n      <td>0.004573</td>\n      <td>0.000261</td>\n      <td>not make it into the market , even as \\n demand</td>\n      <td>market</td>\n    </tr>\n    <tr>\n      <th>32</th>\n      <td>0.000222</td>\n      <td>0.999447</td>\n      <td>0.000331</td>\n      <td>other equity derivatives and \\n market value f...</td>\n      <td>market</td>\n    </tr>\n    <tr>\n      <th>33</th>\n      <td>0.000307</td>\n      <td>0.999542</td>\n      <td>0.000152</td>\n      <td>Exposure ” \\n means the market value for singl...</td>\n      <td>market</td>\n    </tr>\n    <tr>\n      <th>34</th>\n      <td>0.000305</td>\n      <td>0.999521</td>\n      <td>0.000174</td>\n      <td>the difference between the total market value ...</td>\n      <td>market</td>\n    </tr>\n    <tr>\n      <th>35</th>\n      <td>0.000252</td>\n      <td>0.999546</td>\n      <td>0.000202</td>\n      <td>the sum of the total market values ( absolute ...</td>\n      <td>market</td>\n    </tr>\n    <tr>\n      <th>36</th>\n      <td>0.001281</td>\n      <td>0.998114</td>\n      <td>0.000605</td>\n      <td>interest rates and availability of leverage , ...</td>\n      <td>portfolio</td>\n    </tr>\n    <tr>\n      <th>37</th>\n      <td>0.000185</td>\n      <td>0.986039</td>\n      <td>0.013776</td>\n      <td>A investors will have equal liquidity \\n right...</td>\n      <td>portfolio</td>\n    </tr>\n    <tr>\n      <th>38</th>\n      <td>0.998963</td>\n      <td>0.000784</td>\n      <td>0.000254</td>\n      <td>aggregate , is at immediate risk . Household b...</td>\n      <td>portfolio</td>\n    </tr>\n    <tr>\n      <th>39</th>\n      <td>0.000166</td>\n      <td>0.073018</td>\n      <td>0.926816</td>\n      <td>rights – in short , liquidity for investors wi...</td>\n      <td>portfolio</td>\n    </tr>\n    <tr>\n      <th>40</th>\n      <td>0.008951</td>\n      <td>0.277543</td>\n      <td>0.713506</td>\n      <td>L \\n successful or that risk mitigation techni...</td>\n      <td>portfolio</td>\n    </tr>\n    <tr>\n      <th>41</th>\n      <td>0.000336</td>\n      <td>0.004394</td>\n      <td>0.995271</td>\n      <td>y \\n investors from thde risk of significant i...</td>\n      <td>portfolio</td>\n    </tr>\n    <tr>\n      <th>42</th>\n      <td>0.000237</td>\n      <td>0.999574</td>\n      <td>0.000189</td>\n      <td>monthly net return , the incentive allocation ...</td>\n      <td>team</td>\n    </tr>\n    <tr>\n      <th>43</th>\n      <td>0.000212</td>\n      <td>0.999552</td>\n      <td>0.000236</td>\n      <td>fees of 2 % and incentive allocations ranging ...</td>\n      <td>team</td>\n    </tr>\n    <tr>\n      <th>44</th>\n      <td>0.000198</td>\n      <td>0.999420</td>\n      <td>0.000382</td>\n      <td>fees of 2 % and incentive \\n y \\n allocations ...</td>\n      <td>team</td>\n    </tr>\n    <tr>\n      <th>45</th>\n      <td>0.000179</td>\n      <td>0.999563</td>\n      <td>0.000259</td>\n      <td>subscriptions , transfers or \\n incentive real...</td>\n      <td>team</td>\n    </tr>\n    <tr>\n      <th>46</th>\n      <td>0.000222</td>\n      <td>0.999609</td>\n      <td>0.000170</td>\n      <td>not include any accrual of incentive allocatio...</td>\n      <td>team</td>\n    </tr>\n    <tr>\n      <th>47</th>\n      <td>0.000253</td>\n      <td>0.999517</td>\n      <td>0.000230</td>\n      <td>, the \\n o \\n incentive allocation is accrued ...</td>\n      <td>team</td>\n    </tr>\n    <tr>\n      <th>48</th>\n      <td>0.000202</td>\n      <td>0.999541</td>\n      <td>0.000258</td>\n      <td>limitation , management fees and incentive \\n ...</td>\n      <td>team</td>\n    </tr>\n    <tr>\n      <th>49</th>\n      <td>0.000215</td>\n      <td>0.999552</td>\n      <td>0.000233</td>\n      <td>ding without limitation , management fees and ...</td>\n      <td>fees</td>\n    </tr>\n    <tr>\n      <th>50</th>\n      <td>0.000221</td>\n      <td>0.999406</td>\n      <td>0.000374</td>\n      <td>” income , annualized management fees of 2 % a...</td>\n      <td>fees</td>\n    </tr>\n    <tr>\n      <th>51</th>\n      <td>0.000201</td>\n      <td>0.999527</td>\n      <td>0.000272</td>\n      <td>including without limitation , management fees...</td>\n      <td>fees</td>\n    </tr>\n    <tr>\n      <th>52</th>\n      <td>0.000425</td>\n      <td>0.511674</td>\n      <td>0.487901</td>\n      <td>fund expenses , including management fees . Fo...</td>\n      <td>fees</td>\n    </tr>\n    <tr>\n      <th>53</th>\n      <td>0.000202</td>\n      <td>0.999274</td>\n      <td>0.000524</td>\n      <td>\\n income , annualized management fees of 2 % ...</td>\n      <td>fees</td>\n    </tr>\n  </tbody>\n</table>\n</div>"
     },
     "execution_count": 13,
     "metadata": {},
     "output_type": "execute_result"
    }
   ],
   "source": [
    "sent = get_sentiments(tmp['contexts'][0])\n",
    "sent"
   ],
   "metadata": {
    "collapsed": false,
    "ExecuteTime": {
     "end_time": "2024-06-15T20:02:17.847187200Z",
     "start_time": "2024-06-15T20:02:16.045726400Z"
    }
   },
   "id": "ac4aece3e12d2e66"
  },
  {
   "cell_type": "code",
   "execution_count": 14,
   "outputs": [],
   "source": [
    "# find the average sentiment for each topic\n",
    "def average_sentiments(df):\n",
    "    return df[['negative', 'neutral', 'positive', 'topic']].groupby('topic').mean()\n",
    "\n",
    "def aggregate_sentiment(scores) -> pd.Series:\n",
    "    return (\n",
    "        -1 * scores['negative'] +\n",
    "        0 * scores['neutral'] +\n",
    "        1 * scores['positive']\n",
    "    )"
   ],
   "metadata": {
    "collapsed": false,
    "ExecuteTime": {
     "end_time": "2024-06-15T20:02:17.853744800Z",
     "start_time": "2024-06-15T20:02:17.848186900Z"
    }
   },
   "id": "b80d63ce7760d920"
  },
  {
   "cell_type": "code",
   "execution_count": 15,
   "outputs": [
    {
     "data": {
      "text/plain": "             negative   neutral  positive\ntopic                                    \nfees         0.000253  0.901886  0.097861\nmarket       0.142418  0.857353  0.000229\nperformance  0.102252  0.812978  0.084770\nportfolio    0.168314  0.389982  0.441705\nteam         0.000215  0.999539  0.000246",
      "text/html": "<div>\n<style scoped>\n    .dataframe tbody tr th:only-of-type {\n        vertical-align: middle;\n    }\n\n    .dataframe tbody tr th {\n        vertical-align: top;\n    }\n\n    .dataframe thead th {\n        text-align: right;\n    }\n</style>\n<table border=\"1\" class=\"dataframe\">\n  <thead>\n    <tr style=\"text-align: right;\">\n      <th></th>\n      <th>negative</th>\n      <th>neutral</th>\n      <th>positive</th>\n    </tr>\n    <tr>\n      <th>topic</th>\n      <th></th>\n      <th></th>\n      <th></th>\n    </tr>\n  </thead>\n  <tbody>\n    <tr>\n      <th>fees</th>\n      <td>0.000253</td>\n      <td>0.901886</td>\n      <td>0.097861</td>\n    </tr>\n    <tr>\n      <th>market</th>\n      <td>0.142418</td>\n      <td>0.857353</td>\n      <td>0.000229</td>\n    </tr>\n    <tr>\n      <th>performance</th>\n      <td>0.102252</td>\n      <td>0.812978</td>\n      <td>0.084770</td>\n    </tr>\n    <tr>\n      <th>portfolio</th>\n      <td>0.168314</td>\n      <td>0.389982</td>\n      <td>0.441705</td>\n    </tr>\n    <tr>\n      <th>team</th>\n      <td>0.000215</td>\n      <td>0.999539</td>\n      <td>0.000246</td>\n    </tr>\n  </tbody>\n</table>\n</div>"
     },
     "execution_count": 15,
     "metadata": {},
     "output_type": "execute_result"
    }
   ],
   "source": [
    "average_sentiments(sent)"
   ],
   "metadata": {
    "collapsed": false,
    "ExecuteTime": {
     "end_time": "2024-06-15T20:02:17.862062800Z",
     "start_time": "2024-06-15T20:02:17.851742200Z"
    }
   },
   "id": "43fa7734e7ee2a25"
  },
  {
   "cell_type": "markdown",
   "source": [
    "Get all scores"
   ],
   "metadata": {
    "collapsed": false
   },
   "id": "f622596778bc64e1"
  },
  {
   "cell_type": "code",
   "execution_count": 16,
   "outputs": [
    {
     "data": {
      "text/plain": "{'credit': set(),\n 'performance': {'\\n allocation . The net returns are calculated based on a',\n  '\\n indication of the broader performance of the markets among which',\n  '\\n largest contributors to our performance in the quarter , while',\n  '\\n r \\n QTD \\n returns in Q1 equated to 5.1%-5.2',\n  '\\n t \\n L \\n returns include “ new issue ”',\n  ', struggling to earn economic returns . It became \\n clear',\n  '- level , unaudited monthly performance information for \\n r \\n',\n  'As such , the net returns include “ new issue ”',\n  'Estate sectors detracted from our returns . \\n See Notes and',\n  'To the extent we quote returns on this index , such',\n  'allocation . Furthermore , gross performance is \\n i \\n r',\n  'any \\n time . The performance information presented in this summary',\n  'are unable to generate economic returns , absent \\n a \\n',\n  'calculate the \\n c \\n performance information set forth in this',\n  'equated to 5.1%-5.2 % net returns for new issue eligible investors',\n  'in this update . The performance information in this \\n t',\n  'individual investor . The cumulative returns for a \\n p \\n',\n  'of \\n market activity and performance . It is presented as',\n  'offering \\n documents . Net returns of other investors may vary',\n  'on this index , such returns are inclusive \\n of dividends',\n  'or financial trends or \\n performance , which information is based',\n  'provides a breakdown of our performance by sector . \\n R',\n  's \\n u \\n blended performance and high - water mark',\n  'to compare the Funds ’ performance . There arre many significant',\n  'water mark . The cumulative returns for a \\n i \\n',\n  'water mark . The cumulative returns for a period are compounded',\n  'which may affect their blended performance and high- \\n water mark',\n  '’ offering documents . Net returns of other investors may vary',\n  '” \\n means profit and loss including all income items ,'},\n 'market': {'\\n t \\n s \\n market that we are observing that',\n  ', unmanaged index of \\n market activity and performance . It',\n  'Exposure ” \\n means the market value for single - name',\n  'not make it into the market , even as \\n demand',\n  'other equity derivatives and \\n market value for all other ‘',\n  'the difference between the total market value ( absolute value )',\n  'the sum of the total market values ( absolute value )'},\n 'investment approach': set(),\n 'portfolio': {'A investors will have equal liquidity \\n rights – in short',\n  'L \\n successful or that risk mitigation techniques used by Candlestick',\n  'aggregate , is at immediate risk . Household balance sheets \\n',\n  'interest rates and availability of leverage , \\n changes in legislation',\n  'rights – in short , liquidity for investors will be provided',\n  'y \\n investors from thde risk of significant investment losses .'},\n 'stress': set(),\n 'team': {', the \\n o \\n incentive allocation is accrued for (',\n  'fees of 2 % and incentive \\n y \\n allocations ranging',\n  'fees of 2 % and incentive allocations ranging from \\n 20%-30',\n  'limitation , management fees and incentive \\n allocation . The net',\n  'monthly net return , the incentive allocation is accrued \\n for',\n  'not include any accrual of incentive allocation . Furthermore , gross',\n  'subscriptions , transfers or \\n incentive reallocations . \\n “ Master'},\n 'organization': set(),\n 'fees': {'\\n income , annualized management fees of 2 % and incentive',\n  'ding without limitation , management fees and incentive \\n allocation .',\n  'fund expenses , including management fees . For the avoidance of',\n  'including without limitation , management fees and incentive \\n allocation .',\n  '” income , annualized management fees of 2 % and incentive'},\n 'dealing terms': set(),\n 'asia': set()}"
     },
     "execution_count": 16,
     "metadata": {},
     "output_type": "execute_result"
    }
   ],
   "source": [
    "tmp.head()['contexts'][0]"
   ],
   "metadata": {
    "collapsed": false,
    "ExecuteTime": {
     "end_time": "2024-06-15T20:02:17.874736400Z",
     "start_time": "2024-06-15T20:02:17.862062800Z"
    }
   },
   "id": "beb8ee9b2129af61"
  },
  {
   "cell_type": "code",
   "execution_count": 17,
   "outputs": [],
   "source": [
    "from tqdm import tqdm\n",
    "def topic_sentiment_analysis(documents):\n",
    "    scores_dict = {}\n",
    "    for i, doc in tqdm(documents.iterrows(), total=documents.shape[0]):\n",
    "        context = get_context(doc)\n",
    "        scores = get_sentiments(context)\n",
    "        if scores.empty:\n",
    "            continue\n",
    "        scores_dict[doc['document_mf_id']] = aggregate_sentiment(average_sentiments(scores))\n",
    "    return pd.DataFrame(scores_dict)"
   ],
   "metadata": {
    "collapsed": false,
    "ExecuteTime": {
     "end_time": "2024-06-15T20:02:17.874736400Z",
     "start_time": "2024-06-15T20:02:17.869664Z"
    }
   },
   "id": "3c1b6e04e4b7b0db"
  },
  {
   "cell_type": "code",
   "execution_count": 18,
   "outputs": [
    {
     "name": "stderr",
     "output_type": "stream",
     "text": [
      "100%|██████████| 877/877 [55:53<00:00,  3.82s/it]  \n"
     ]
    },
    {
     "data": {
      "text/plain": "                       123779    123730    123731    123678    123676  \\\ntopic                                                                   \ncredit                    NaN  0.178673 -0.001035       NaN       NaN   \ndealing terms             NaN -0.005857  0.214961       NaN       NaN   \nfees                 0.097609  0.166250  0.000069       NaN  0.000074   \ninvestment approach       NaN       NaN       NaN       NaN       NaN   \nmarket              -0.142190 -0.001087  0.000067       NaN  0.000006   \norganization              NaN       NaN       NaN -0.000028       NaN   \nperformance         -0.017482  0.374337  0.080113       NaN -0.083941   \nportfolio            0.273391  0.316954  0.246493       NaN -0.103765   \nstress                    NaN       NaN       NaN       NaN       NaN   \nteam                 0.000031  0.411577  0.000324       NaN  0.002166   \n\n                       123677    123615    123483    123280    123281  ...  \\\ntopic                                                                  ...   \ncredit                    NaN  0.283389  0.033357  0.498359  0.289802  ...   \ndealing terms             NaN       NaN       NaN       NaN       NaN  ...   \nfees                      NaN  0.000029  0.001532  0.000131  0.000115  ...   \ninvestment approach       NaN       NaN       NaN       NaN       NaN  ...   \nmarket                    NaN  0.047601 -0.230250  0.123491  0.214307  ...   \norganization        -0.000028       NaN  0.002151       NaN       NaN  ...   \nperformance               NaN  0.287031 -0.006213 -0.166480  0.013529  ...   \nportfolio                 NaN  0.079394  0.078808  0.181571  0.194602  ...   \nstress                    NaN       NaN -0.618588       NaN -0.000062  ...   \nteam                      NaN  0.332980  0.502923 -0.039150  0.993443  ...   \n\n                           66920     84387     45581     83759     69773   \\\ntopic                                                                       \ncredit              -4.988453e-01       NaN       NaN  0.249558 -0.026119   \ndealing terms                 NaN  0.000111  0.000326       NaN -0.000041   \nfees                 4.956582e-01  0.000237  0.038349       NaN  0.046134   \ninvestment approach  9.344968e-01       NaN       NaN       NaN  0.338085   \nmarket               2.016708e-01       NaN -0.048678 -0.123748  0.041713   \norganization                  NaN       NaN  0.221270       NaN  0.183070   \nperformance          1.576942e-01       NaN -0.137388 -0.073745 -0.031463   \nportfolio           -1.595792e-02       NaN  0.332168  0.006035  0.077594   \nstress               3.247696e-07       NaN       NaN       NaN       NaN   \nteam                 4.685752e-01       NaN  0.106267  0.997403 -0.000006   \n\n                       100780    43397     86265     100779    98672   \ntopic                                                                  \ncredit                    NaN       NaN       NaN       NaN       NaN  \ndealing terms        0.001717  0.000390  0.009697  0.001717 -0.164886  \nfees                 0.000257  0.000098       NaN  0.000257  0.996133  \ninvestment approach       NaN       NaN       NaN       NaN       NaN  \nmarket               0.000032 -0.497505       NaN  0.000032  0.283777  \norganization              NaN       NaN       NaN       NaN -0.000057  \nperformance               NaN -0.199276 -0.000025       NaN  0.002121  \nportfolio            0.546249 -0.083987  0.000035  0.546249       NaN  \nstress                    NaN       NaN       NaN       NaN       NaN  \nteam                      NaN  0.000124  0.000012       NaN  0.000019  \n\n[10 rows x 820 columns]",
      "text/html": "<div>\n<style scoped>\n    .dataframe tbody tr th:only-of-type {\n        vertical-align: middle;\n    }\n\n    .dataframe tbody tr th {\n        vertical-align: top;\n    }\n\n    .dataframe thead th {\n        text-align: right;\n    }\n</style>\n<table border=\"1\" class=\"dataframe\">\n  <thead>\n    <tr style=\"text-align: right;\">\n      <th></th>\n      <th>123779</th>\n      <th>123730</th>\n      <th>123731</th>\n      <th>123678</th>\n      <th>123676</th>\n      <th>123677</th>\n      <th>123615</th>\n      <th>123483</th>\n      <th>123280</th>\n      <th>123281</th>\n      <th>...</th>\n      <th>66920</th>\n      <th>84387</th>\n      <th>45581</th>\n      <th>83759</th>\n      <th>69773</th>\n      <th>100780</th>\n      <th>43397</th>\n      <th>86265</th>\n      <th>100779</th>\n      <th>98672</th>\n    </tr>\n    <tr>\n      <th>topic</th>\n      <th></th>\n      <th></th>\n      <th></th>\n      <th></th>\n      <th></th>\n      <th></th>\n      <th></th>\n      <th></th>\n      <th></th>\n      <th></th>\n      <th></th>\n      <th></th>\n      <th></th>\n      <th></th>\n      <th></th>\n      <th></th>\n      <th></th>\n      <th></th>\n      <th></th>\n      <th></th>\n      <th></th>\n    </tr>\n  </thead>\n  <tbody>\n    <tr>\n      <th>credit</th>\n      <td>NaN</td>\n      <td>0.178673</td>\n      <td>-0.001035</td>\n      <td>NaN</td>\n      <td>NaN</td>\n      <td>NaN</td>\n      <td>0.283389</td>\n      <td>0.033357</td>\n      <td>0.498359</td>\n      <td>0.289802</td>\n      <td>...</td>\n      <td>-4.988453e-01</td>\n      <td>NaN</td>\n      <td>NaN</td>\n      <td>0.249558</td>\n      <td>-0.026119</td>\n      <td>NaN</td>\n      <td>NaN</td>\n      <td>NaN</td>\n      <td>NaN</td>\n      <td>NaN</td>\n    </tr>\n    <tr>\n      <th>dealing terms</th>\n      <td>NaN</td>\n      <td>-0.005857</td>\n      <td>0.214961</td>\n      <td>NaN</td>\n      <td>NaN</td>\n      <td>NaN</td>\n      <td>NaN</td>\n      <td>NaN</td>\n      <td>NaN</td>\n      <td>NaN</td>\n      <td>...</td>\n      <td>NaN</td>\n      <td>0.000111</td>\n      <td>0.000326</td>\n      <td>NaN</td>\n      <td>-0.000041</td>\n      <td>0.001717</td>\n      <td>0.000390</td>\n      <td>0.009697</td>\n      <td>0.001717</td>\n      <td>-0.164886</td>\n    </tr>\n    <tr>\n      <th>fees</th>\n      <td>0.097609</td>\n      <td>0.166250</td>\n      <td>0.000069</td>\n      <td>NaN</td>\n      <td>0.000074</td>\n      <td>NaN</td>\n      <td>0.000029</td>\n      <td>0.001532</td>\n      <td>0.000131</td>\n      <td>0.000115</td>\n      <td>...</td>\n      <td>4.956582e-01</td>\n      <td>0.000237</td>\n      <td>0.038349</td>\n      <td>NaN</td>\n      <td>0.046134</td>\n      <td>0.000257</td>\n      <td>0.000098</td>\n      <td>NaN</td>\n      <td>0.000257</td>\n      <td>0.996133</td>\n    </tr>\n    <tr>\n      <th>investment approach</th>\n      <td>NaN</td>\n      <td>NaN</td>\n      <td>NaN</td>\n      <td>NaN</td>\n      <td>NaN</td>\n      <td>NaN</td>\n      <td>NaN</td>\n      <td>NaN</td>\n      <td>NaN</td>\n      <td>NaN</td>\n      <td>...</td>\n      <td>9.344968e-01</td>\n      <td>NaN</td>\n      <td>NaN</td>\n      <td>NaN</td>\n      <td>0.338085</td>\n      <td>NaN</td>\n      <td>NaN</td>\n      <td>NaN</td>\n      <td>NaN</td>\n      <td>NaN</td>\n    </tr>\n    <tr>\n      <th>market</th>\n      <td>-0.142190</td>\n      <td>-0.001087</td>\n      <td>0.000067</td>\n      <td>NaN</td>\n      <td>0.000006</td>\n      <td>NaN</td>\n      <td>0.047601</td>\n      <td>-0.230250</td>\n      <td>0.123491</td>\n      <td>0.214307</td>\n      <td>...</td>\n      <td>2.016708e-01</td>\n      <td>NaN</td>\n      <td>-0.048678</td>\n      <td>-0.123748</td>\n      <td>0.041713</td>\n      <td>0.000032</td>\n      <td>-0.497505</td>\n      <td>NaN</td>\n      <td>0.000032</td>\n      <td>0.283777</td>\n    </tr>\n    <tr>\n      <th>organization</th>\n      <td>NaN</td>\n      <td>NaN</td>\n      <td>NaN</td>\n      <td>-0.000028</td>\n      <td>NaN</td>\n      <td>-0.000028</td>\n      <td>NaN</td>\n      <td>0.002151</td>\n      <td>NaN</td>\n      <td>NaN</td>\n      <td>...</td>\n      <td>NaN</td>\n      <td>NaN</td>\n      <td>0.221270</td>\n      <td>NaN</td>\n      <td>0.183070</td>\n      <td>NaN</td>\n      <td>NaN</td>\n      <td>NaN</td>\n      <td>NaN</td>\n      <td>-0.000057</td>\n    </tr>\n    <tr>\n      <th>performance</th>\n      <td>-0.017482</td>\n      <td>0.374337</td>\n      <td>0.080113</td>\n      <td>NaN</td>\n      <td>-0.083941</td>\n      <td>NaN</td>\n      <td>0.287031</td>\n      <td>-0.006213</td>\n      <td>-0.166480</td>\n      <td>0.013529</td>\n      <td>...</td>\n      <td>1.576942e-01</td>\n      <td>NaN</td>\n      <td>-0.137388</td>\n      <td>-0.073745</td>\n      <td>-0.031463</td>\n      <td>NaN</td>\n      <td>-0.199276</td>\n      <td>-0.000025</td>\n      <td>NaN</td>\n      <td>0.002121</td>\n    </tr>\n    <tr>\n      <th>portfolio</th>\n      <td>0.273391</td>\n      <td>0.316954</td>\n      <td>0.246493</td>\n      <td>NaN</td>\n      <td>-0.103765</td>\n      <td>NaN</td>\n      <td>0.079394</td>\n      <td>0.078808</td>\n      <td>0.181571</td>\n      <td>0.194602</td>\n      <td>...</td>\n      <td>-1.595792e-02</td>\n      <td>NaN</td>\n      <td>0.332168</td>\n      <td>0.006035</td>\n      <td>0.077594</td>\n      <td>0.546249</td>\n      <td>-0.083987</td>\n      <td>0.000035</td>\n      <td>0.546249</td>\n      <td>NaN</td>\n    </tr>\n    <tr>\n      <th>stress</th>\n      <td>NaN</td>\n      <td>NaN</td>\n      <td>NaN</td>\n      <td>NaN</td>\n      <td>NaN</td>\n      <td>NaN</td>\n      <td>NaN</td>\n      <td>-0.618588</td>\n      <td>NaN</td>\n      <td>-0.000062</td>\n      <td>...</td>\n      <td>3.247696e-07</td>\n      <td>NaN</td>\n      <td>NaN</td>\n      <td>NaN</td>\n      <td>NaN</td>\n      <td>NaN</td>\n      <td>NaN</td>\n      <td>NaN</td>\n      <td>NaN</td>\n      <td>NaN</td>\n    </tr>\n    <tr>\n      <th>team</th>\n      <td>0.000031</td>\n      <td>0.411577</td>\n      <td>0.000324</td>\n      <td>NaN</td>\n      <td>0.002166</td>\n      <td>NaN</td>\n      <td>0.332980</td>\n      <td>0.502923</td>\n      <td>-0.039150</td>\n      <td>0.993443</td>\n      <td>...</td>\n      <td>4.685752e-01</td>\n      <td>NaN</td>\n      <td>0.106267</td>\n      <td>0.997403</td>\n      <td>-0.000006</td>\n      <td>NaN</td>\n      <td>0.000124</td>\n      <td>0.000012</td>\n      <td>NaN</td>\n      <td>0.000019</td>\n    </tr>\n  </tbody>\n</table>\n<p>10 rows × 820 columns</p>\n</div>"
     },
     "execution_count": 18,
     "metadata": {},
     "output_type": "execute_result"
    }
   ],
   "source": [
    "res = topic_sentiment_analysis(docs)\n",
    "res"
   ],
   "metadata": {
    "collapsed": false,
    "ExecuteTime": {
     "end_time": "2024-06-15T20:58:11.383159500Z",
     "start_time": "2024-06-15T20:02:17.873732900Z"
    }
   },
   "id": "241beb79a86998e"
  },
  {
   "cell_type": "code",
   "execution_count": 19,
   "outputs": [],
   "source": [
    "import pickle\n",
    "with open('topic_sentiment_analysis.pkl', 'wb') as f:\n",
    "    pickle.dump(res, f)"
   ],
   "metadata": {
    "collapsed": false,
    "ExecuteTime": {
     "end_time": "2024-06-15T20:58:11.389874800Z",
     "start_time": "2024-06-15T20:58:11.388875Z"
    }
   },
   "id": "f4ca4c26e3e9ac29"
  },
  {
   "cell_type": "code",
   "execution_count": 19,
   "outputs": [],
   "source": [],
   "metadata": {
    "collapsed": false,
    "ExecuteTime": {
     "end_time": "2024-06-15T20:58:11.392049900Z",
     "start_time": "2024-06-15T20:58:11.389874800Z"
    }
   },
   "id": "ffd164874f20d31e"
  }
 ],
 "metadata": {
  "kernelspec": {
   "display_name": "Python 3",
   "language": "python",
   "name": "python3"
  },
  "language_info": {
   "codemirror_mode": {
    "name": "ipython",
    "version": 2
   },
   "file_extension": ".py",
   "mimetype": "text/x-python",
   "name": "python",
   "nbconvert_exporter": "python",
   "pygments_lexer": "ipython2",
   "version": "2.7.6"
  }
 },
 "nbformat": 4,
 "nbformat_minor": 5
}
