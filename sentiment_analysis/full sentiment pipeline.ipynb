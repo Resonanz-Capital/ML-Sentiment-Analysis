{
 "cells": [
  {
   "cell_type": "code",
   "execution_count": 112,
   "outputs": [
    {
     "name": "stdout",
     "output_type": "stream",
     "text": [
      "Requirement already satisfied: transformers in c:\\users\\viksu\\desktop\\diploma\\topicextractor\\venv\\lib\\site-packages (4.40.2)\n",
      "Requirement already satisfied: torch in c:\\users\\viksu\\desktop\\diploma\\topicextractor\\venv\\lib\\site-packages (2.3.0+cu121)\n",
      "Requirement already satisfied: filelock in c:\\users\\viksu\\desktop\\diploma\\topicextractor\\venv\\lib\\site-packages (from transformers) (3.13.4)\n",
      "Requirement already satisfied: huggingface-hub<1.0,>=0.19.3 in c:\\users\\viksu\\desktop\\diploma\\topicextractor\\venv\\lib\\site-packages (from transformers) (0.23.0)\n",
      "Requirement already satisfied: numpy>=1.17 in c:\\users\\viksu\\desktop\\diploma\\topicextractor\\venv\\lib\\site-packages (from transformers) (1.23.4)\n",
      "Requirement already satisfied: packaging>=20.0 in c:\\users\\viksu\\desktop\\diploma\\topicextractor\\venv\\lib\\site-packages (from transformers) (24.0)\n",
      "Requirement already satisfied: pyyaml>=5.1 in c:\\users\\viksu\\desktop\\diploma\\topicextractor\\venv\\lib\\site-packages (from transformers) (6.0.1)\n",
      "Requirement already satisfied: regex!=2019.12.17 in c:\\users\\viksu\\desktop\\diploma\\topicextractor\\venv\\lib\\site-packages (from transformers) (2024.4.16)\n",
      "Requirement already satisfied: requests in c:\\users\\viksu\\desktop\\diploma\\topicextractor\\venv\\lib\\site-packages (from transformers) (2.31.0)\n",
      "Requirement already satisfied: tokenizers<0.20,>=0.19 in c:\\users\\viksu\\desktop\\diploma\\topicextractor\\venv\\lib\\site-packages (from transformers) (0.19.1)\n",
      "Requirement already satisfied: safetensors>=0.4.1 in c:\\users\\viksu\\desktop\\diploma\\topicextractor\\venv\\lib\\site-packages (from transformers) (0.4.3)\n",
      "Requirement already satisfied: tqdm>=4.27 in c:\\users\\viksu\\desktop\\diploma\\topicextractor\\venv\\lib\\site-packages (from transformers) (4.66.2)\n",
      "Requirement already satisfied: typing-extensions>=4.8.0 in c:\\users\\viksu\\desktop\\diploma\\topicextractor\\venv\\lib\\site-packages (from torch) (4.10.0)\n",
      "Requirement already satisfied: sympy in c:\\users\\viksu\\desktop\\diploma\\topicextractor\\venv\\lib\\site-packages (from torch) (1.12)\n",
      "Requirement already satisfied: networkx in c:\\users\\viksu\\desktop\\diploma\\topicextractor\\venv\\lib\\site-packages (from torch) (3.3)\n",
      "Requirement already satisfied: jinja2 in c:\\users\\viksu\\desktop\\diploma\\topicextractor\\venv\\lib\\site-packages (from torch) (3.1.3)\n",
      "Requirement already satisfied: fsspec in c:\\users\\viksu\\desktop\\diploma\\topicextractor\\venv\\lib\\site-packages (from torch) (2024.3.1)\n",
      "Requirement already satisfied: mkl<=2021.4.0,>=2021.1.1 in c:\\users\\viksu\\desktop\\diploma\\topicextractor\\venv\\lib\\site-packages (from torch) (2021.4.0)\n",
      "Requirement already satisfied: intel-openmp==2021.* in c:\\users\\viksu\\desktop\\diploma\\topicextractor\\venv\\lib\\site-packages (from mkl<=2021.4.0,>=2021.1.1->torch) (2021.4.0)\n",
      "Requirement already satisfied: tbb==2021.* in c:\\users\\viksu\\desktop\\diploma\\topicextractor\\venv\\lib\\site-packages (from mkl<=2021.4.0,>=2021.1.1->torch) (2021.12.0)\n",
      "Requirement already satisfied: colorama in c:\\users\\viksu\\desktop\\diploma\\topicextractor\\venv\\lib\\site-packages (from tqdm>=4.27->transformers) (0.4.6)\n",
      "Requirement already satisfied: MarkupSafe>=2.0 in c:\\users\\viksu\\desktop\\diploma\\topicextractor\\venv\\lib\\site-packages (from jinja2->torch) (2.1.5)\n",
      "Requirement already satisfied: charset-normalizer<4,>=2 in c:\\users\\viksu\\desktop\\diploma\\topicextractor\\venv\\lib\\site-packages (from requests->transformers) (3.3.2)\n",
      "Requirement already satisfied: idna<4,>=2.5 in c:\\users\\viksu\\desktop\\diploma\\topicextractor\\venv\\lib\\site-packages (from requests->transformers) (3.6)\n",
      "Requirement already satisfied: urllib3<3,>=1.21.1 in c:\\users\\viksu\\desktop\\diploma\\topicextractor\\venv\\lib\\site-packages (from requests->transformers) (2.2.1)\n",
      "Requirement already satisfied: certifi>=2017.4.17 in c:\\users\\viksu\\desktop\\diploma\\topicextractor\\venv\\lib\\site-packages (from requests->transformers) (2024.2.2)\n",
      "Requirement already satisfied: mpmath>=0.19 in c:\\users\\viksu\\desktop\\diploma\\topicextractor\\venv\\lib\\site-packages (from sympy->torch) (1.3.0)\n"
     ]
    }
   ],
   "source": [
    "!pip install transformers torch"
   ],
   "metadata": {
    "collapsed": false,
    "ExecuteTime": {
     "end_time": "2024-06-14T09:56:24.669590300Z",
     "start_time": "2024-06-14T09:56:22.282758Z"
    }
   },
   "id": "1cd5dee47abad950"
  },
  {
   "cell_type": "code",
   "execution_count": 113,
   "outputs": [],
   "source": [
    "import pandas as pd\n",
    "import spacy\n",
    "nlp = spacy.load('en_core_web_sm')"
   ],
   "metadata": {
    "collapsed": false,
    "ExecuteTime": {
     "end_time": "2024-06-14T09:56:24.889708100Z",
     "start_time": "2024-06-14T09:56:24.665077Z"
    }
   },
   "id": "initial_id"
  },
  {
   "cell_type": "code",
   "execution_count": 114,
   "outputs": [],
   "source": [
    "import pickle\n",
    "docs = pickle.load(open('raw_docs_filtered.pkl', 'rb'))"
   ],
   "metadata": {
    "collapsed": false,
    "ExecuteTime": {
     "end_time": "2024-06-14T09:56:24.943242600Z",
     "start_time": "2024-06-14T09:56:24.890709Z"
    }
   },
   "id": "f314f3a6709591c2"
  },
  {
   "cell_type": "code",
   "execution_count": 115,
   "outputs": [],
   "source": [
    "topics = {\n",
    "    \"credit\": [\"credit\"],\n",
    "    \"performance\": [\"performance\", \"long term performance\", \"returns\", \"style drift\", \"systematic risks\", \"loss\", \"tail risks\", \"maximum drawdown\", \"track record\", \"long term\"],\n",
    "    \"market\": [\"market\"],\n",
    "    \"investment approach\": [\"investment approach\", \"sources of alpha\", \"investment process\"],\n",
    "    \"portfolio\": [\"portfolio\", \"portfolio implementation\", \"risk management\", \"risk management system\", \"stop-loss limit\", \"liquidity\", \"leverage\", \"hedging\", \"risk\"],\n",
    "    \"stress\": [\"stress\", \"performance short term\", \"stress test\", \"scenario analysis\", \"manager's outlook\"],\n",
    "    \"team\": [\"team\", \"decision making\", \"staffing\", \"employees\", \"investment professionals\", \"investment teams\", \"incentive\", \"compensation\", \"investment manager\"],\n",
    "    \"organization\": [\"organization\", \"esg policies\", \"administrator\", \"auditor\", \"prime broker\", \"trading system\", \"compliance\", \"IT infrastructure\", \"business continuity\"],\n",
    "    \"fees\": [\"fees\", \"pass through fee\", \"management fee\", \"incentive fee\"],\n",
    "    \"dealing terms\": [\"dealing terms\", \"lock-up\", \"pay-out ratio\", \"subscription\", \"redemption\"],\n",
    "    \"asia\": [\"asia\", \"china\", \"csi\"]\n",
    "}\n"
   ],
   "metadata": {
    "collapsed": false,
    "ExecuteTime": {
     "end_time": "2024-06-14T09:56:24.950389900Z",
     "start_time": "2024-06-14T09:56:24.944876800Z"
    }
   },
   "id": "5855ad4a337a853c"
  },
  {
   "cell_type": "code",
   "execution_count": 116,
   "outputs": [],
   "source": [
    "def extract_context(text, topics, window_size=5):\n",
    "    \"\"\"\n",
    "    Extract context of given topics from text using token-based approach.\n",
    "    \n",
    "    Parameters:\n",
    "    - text (str): The input text.\n",
    "    - topics (dict): Dictionary with topics as keys and lists of keywords as values.\n",
    "    - window_size (int): Number of tokens to include before and after the topic keyword.\n",
    "    \n",
    "    Returns:\n",
    "    - dict: Dictionary with topics as keys and list of contexts as values.\n",
    "    \"\"\"\n",
    "    # Process the text\n",
    "    doc = nlp(text)\n",
    "    tokens = [token.text for token in doc]\n",
    "    topic_positions = {topic: set() for topic in topics}\n",
    "    \n",
    "    for topic, phrases in topics.items():\n",
    "        for phrase in phrases:\n",
    "            phrase_tokens = phrase.split()\n",
    "            n = len(phrase_tokens)\n",
    "            \n",
    "            for i in range(len(tokens) - n + 1):\n",
    "                ngram_tokens = tokens[i:i + n]\n",
    "                \n",
    "                if ngram_tokens == phrase_tokens:\n",
    "                    start = max(0, i - window_size)\n",
    "                    end = min(len(doc), i + window_size + 1)\n",
    "                    context = tokens[start:end]\n",
    "                    context_text = ' '.join(context)\n",
    "                    topic_positions[topic].add(context_text)\n",
    "                    \n",
    "    \n",
    "    return topic_positions"
   ],
   "metadata": {
    "collapsed": false,
    "ExecuteTime": {
     "end_time": "2024-06-14T09:56:24.956413300Z",
     "start_time": "2024-06-14T09:56:24.946390800Z"
    }
   },
   "id": "495b0b63e1748d93"
  },
  {
   "cell_type": "code",
   "execution_count": 117,
   "outputs": [
    {
     "data": {
      "text/plain": "     fund_mf_id  document_mf_id  \\\n0          3253          123779   \n1          2014          123730   \n2          3113          123731   \n3           936          123678   \n4          2780          123676   \n..          ...             ...   \n902        4000           76164   \n903        4011          100779   \n904        4022          106079   \n905        3380          106079   \n906        4033           98672   \n\n                                             fund_name     document_type  \\\n0                        Candlestick Cayman Feeder Ltd  quarterly_report   \n1    Davidson Kempner Long-Term Distressed Opportun...  quarterly_report   \n2    Davidson Kempner Long-Term Distressed Opportun...  quarterly_report   \n3              D.E. Shaw Valence International Fund LP  quarterly_report   \n4               D.E. Shaw Composite International Fund  quarterly_report   \n..                                                 ...               ...   \n902  Marshall Wace Funds PLC - MW Systematic Alpha ...   investor_letter   \n903  Marshall Wace UCITS Funds PLC - MW Systematic ...   investor_letter   \n904                         Millburn Multi-Markets Ltd   investor_letter   \n905           Millburn Resource Opportunities Fund Ltd   investor_letter   \n906                       Millennium International Ltd   investor_letter   \n\n                                         document_text  \n0    Q1 2024\\nC A N D L E S T I C K C A P I T A L\\n...  \n1    confidential\\nDanuta Neumann\\nHedge Pole\\nMay ...  \n2    confidential\\nDanuta Neumann\\nHedge Pole\\nMay ...  \n3    1166 Avenue of the Americas\\nNinth Floor\\nNew ...  \n4    SM\\nCOMPOSITE\\nQUARTERLY PERFORMANCE SUMMARY M...  \n..                                                 ...  \n902  Marshall Wace Funds plc\\n32 Molesworth Street\\...  \n903  LUMYNA-MARSHALL WACE UCITS SICAV\\nSociété d’In...  \n904  Quant Millburn Hires Irina Bogacheva\\nas Direc...  \n905  Quant Millburn Hires Irina Bogacheva\\nas Direc...  \n906  February 21, 2023\\nDear Shareholder:\\nWe are w...  \n\n[877 rows x 5 columns]",
      "text/html": "<div>\n<style scoped>\n    .dataframe tbody tr th:only-of-type {\n        vertical-align: middle;\n    }\n\n    .dataframe tbody tr th {\n        vertical-align: top;\n    }\n\n    .dataframe thead th {\n        text-align: right;\n    }\n</style>\n<table border=\"1\" class=\"dataframe\">\n  <thead>\n    <tr style=\"text-align: right;\">\n      <th></th>\n      <th>fund_mf_id</th>\n      <th>document_mf_id</th>\n      <th>fund_name</th>\n      <th>document_type</th>\n      <th>document_text</th>\n    </tr>\n  </thead>\n  <tbody>\n    <tr>\n      <th>0</th>\n      <td>3253</td>\n      <td>123779</td>\n      <td>Candlestick Cayman Feeder Ltd</td>\n      <td>quarterly_report</td>\n      <td>Q1 2024\\nC A N D L E S T I C K C A P I T A L\\n...</td>\n    </tr>\n    <tr>\n      <th>1</th>\n      <td>2014</td>\n      <td>123730</td>\n      <td>Davidson Kempner Long-Term Distressed Opportun...</td>\n      <td>quarterly_report</td>\n      <td>confidential\\nDanuta Neumann\\nHedge Pole\\nMay ...</td>\n    </tr>\n    <tr>\n      <th>2</th>\n      <td>3113</td>\n      <td>123731</td>\n      <td>Davidson Kempner Long-Term Distressed Opportun...</td>\n      <td>quarterly_report</td>\n      <td>confidential\\nDanuta Neumann\\nHedge Pole\\nMay ...</td>\n    </tr>\n    <tr>\n      <th>3</th>\n      <td>936</td>\n      <td>123678</td>\n      <td>D.E. Shaw Valence International Fund LP</td>\n      <td>quarterly_report</td>\n      <td>1166 Avenue of the Americas\\nNinth Floor\\nNew ...</td>\n    </tr>\n    <tr>\n      <th>4</th>\n      <td>2780</td>\n      <td>123676</td>\n      <td>D.E. Shaw Composite International Fund</td>\n      <td>quarterly_report</td>\n      <td>SM\\nCOMPOSITE\\nQUARTERLY PERFORMANCE SUMMARY M...</td>\n    </tr>\n    <tr>\n      <th>...</th>\n      <td>...</td>\n      <td>...</td>\n      <td>...</td>\n      <td>...</td>\n      <td>...</td>\n    </tr>\n    <tr>\n      <th>902</th>\n      <td>4000</td>\n      <td>76164</td>\n      <td>Marshall Wace Funds PLC - MW Systematic Alpha ...</td>\n      <td>investor_letter</td>\n      <td>Marshall Wace Funds plc\\n32 Molesworth Street\\...</td>\n    </tr>\n    <tr>\n      <th>903</th>\n      <td>4011</td>\n      <td>100779</td>\n      <td>Marshall Wace UCITS Funds PLC - MW Systematic ...</td>\n      <td>investor_letter</td>\n      <td>LUMYNA-MARSHALL WACE UCITS SICAV\\nSociété d’In...</td>\n    </tr>\n    <tr>\n      <th>904</th>\n      <td>4022</td>\n      <td>106079</td>\n      <td>Millburn Multi-Markets Ltd</td>\n      <td>investor_letter</td>\n      <td>Quant Millburn Hires Irina Bogacheva\\nas Direc...</td>\n    </tr>\n    <tr>\n      <th>905</th>\n      <td>3380</td>\n      <td>106079</td>\n      <td>Millburn Resource Opportunities Fund Ltd</td>\n      <td>investor_letter</td>\n      <td>Quant Millburn Hires Irina Bogacheva\\nas Direc...</td>\n    </tr>\n    <tr>\n      <th>906</th>\n      <td>4033</td>\n      <td>98672</td>\n      <td>Millennium International Ltd</td>\n      <td>investor_letter</td>\n      <td>February 21, 2023\\nDear Shareholder:\\nWe are w...</td>\n    </tr>\n  </tbody>\n</table>\n<p>877 rows × 5 columns</p>\n</div>"
     },
     "execution_count": 117,
     "metadata": {},
     "output_type": "execute_result"
    }
   ],
   "source": [
    "docs"
   ],
   "metadata": {
    "collapsed": false,
    "ExecuteTime": {
     "end_time": "2024-06-14T09:56:24.964516500Z",
     "start_time": "2024-06-14T09:56:24.952900100Z"
    }
   },
   "id": "ff4c9d110775cfc0"
  },
  {
   "cell_type": "code",
   "execution_count": 118,
   "outputs": [],
   "source": [
    "def add_context(df):\n",
    "    df['contexts'] = df['document_text'].apply(lambda x: extract_context(x, topics, window_size=5))\n",
    "    return df"
   ],
   "metadata": {
    "collapsed": false,
    "ExecuteTime": {
     "end_time": "2024-06-14T09:56:24.978910500Z",
     "start_time": "2024-06-14T09:56:24.962002800Z"
    }
   },
   "id": "2ad834916c15c864"
  },
  {
   "cell_type": "code",
   "execution_count": 119,
   "outputs": [
    {
     "name": "stderr",
     "output_type": "stream",
     "text": [
      "C:\\Users\\viksu\\AppData\\Local\\Temp\\ipykernel_45724\\2045900086.py:2: SettingWithCopyWarning: \n",
      "A value is trying to be set on a copy of a slice from a DataFrame.\n",
      "Try using .loc[row_indexer,col_indexer] = value instead\n",
      "\n",
      "See the caveats in the documentation: https://pandas.pydata.org/pandas-docs/stable/user_guide/indexing.html#returning-a-view-versus-a-copy\n",
      "  df['contexts'] = df['document_text'].apply(lambda x: extract_context(x, topics, window_size=5))\n"
     ]
    }
   ],
   "source": [
    "tmp = add_context(docs[:1])"
   ],
   "metadata": {
    "collapsed": false,
    "ExecuteTime": {
     "end_time": "2024-06-14T09:56:25.877710100Z",
     "start_time": "2024-06-14T09:56:24.966887500Z"
    }
   },
   "id": "c73e63863871dc11"
  },
  {
   "cell_type": "code",
   "execution_count": 120,
   "outputs": [
    {
     "name": "stderr",
     "output_type": "stream",
     "text": [
      "C:\\Users\\viksu\\Desktop\\Diploma\\TopicExtractor\\venv\\Lib\\site-packages\\huggingface_hub\\file_download.py:1132: FutureWarning: `resume_download` is deprecated and will be removed in version 1.0.0. Downloads always resume when possible. If you want to force a new download, use `force_download=True`.\n",
      "  warnings.warn(\n"
     ]
    }
   ],
   "source": [
    "from transformers import AutoModelForSequenceClassification\n",
    "from transformers import AutoTokenizer\n",
    "from scipy.special import softmax\n",
    "\n",
    "MODEL = f\"soleimanian/financial-roberta-large-sentiment\"\n",
    "tokenizer = AutoTokenizer.from_pretrained(MODEL)\n",
    "model = AutoModelForSequenceClassification.from_pretrained(MODEL)\n",
    "\n",
    "\n",
    "def get_sentiments(contexts):\n",
    "    df = pd.DataFrame(columns=['negative', 'neutral', 'positive'])\n",
    "    for topic, context_list in contexts.items():\n",
    "        if not context_list:\n",
    "            continue\n",
    "        context_list = [f\"{context}\" for context in context_list]\n",
    "        encoded_input = tokenizer(context_list, return_tensors='pt', padding=True, truncation=True, max_length=512)\n",
    "        output = model(**encoded_input)\n",
    "        scores = [softmax(x.detach().numpy()) for x in output.logits]\n",
    "        df2 = pd.DataFrame(scores, columns=['negative', 'neutral', 'positive'])\n",
    "        df2['text'] = context_list\n",
    "        df2['topic'] = topic\n",
    "        df = pd.concat([df, df2], ignore_index=True)\n",
    "    return df"
   ],
   "metadata": {
    "collapsed": false,
    "ExecuteTime": {
     "end_time": "2024-06-14T09:56:28.124471800Z",
     "start_time": "2024-06-14T09:56:25.876710Z"
    }
   },
   "id": "ed6abc13e83fec2b"
  },
  {
   "cell_type": "code",
   "execution_count": 121,
   "outputs": [
    {
     "name": "stderr",
     "output_type": "stream",
     "text": [
      "C:\\Users\\viksu\\AppData\\Local\\Temp\\ipykernel_45724\\1809251817.py:22: FutureWarning: The behavior of DataFrame concatenation with empty or all-NA entries is deprecated. In a future version, this will no longer exclude empty or all-NA columns when determining the result dtypes. To retain the old behavior, exclude the relevant entries before the concat operation.\n",
      "  df = pd.concat([df, df2], ignore_index=True)\n"
     ]
    },
    {
     "data": {
      "text/plain": "   negative   neutral  positive  \\\n0  0.000142  0.999623  0.000235   \n1  0.000229  0.999618  0.000153   \n2  0.000351  0.999497  0.000152   \n3  0.000170  0.999533  0.000298   \n4  0.000790  0.998585  0.000625   \n\n                                                text        topic  \n0  - level , unaudited monthly performance inform...  performance  \n1  To the extent we quote returns on this index ,...  performance  \n2  \\n indication of the broader performance of th...  performance  \n3    As such , the net returns include “ new issue ”  performance  \n4  offering \\n documents . Net returns of other i...  performance  ",
      "text/html": "<div>\n<style scoped>\n    .dataframe tbody tr th:only-of-type {\n        vertical-align: middle;\n    }\n\n    .dataframe tbody tr th {\n        vertical-align: top;\n    }\n\n    .dataframe thead th {\n        text-align: right;\n    }\n</style>\n<table border=\"1\" class=\"dataframe\">\n  <thead>\n    <tr style=\"text-align: right;\">\n      <th></th>\n      <th>negative</th>\n      <th>neutral</th>\n      <th>positive</th>\n      <th>text</th>\n      <th>topic</th>\n    </tr>\n  </thead>\n  <tbody>\n    <tr>\n      <th>0</th>\n      <td>0.000142</td>\n      <td>0.999623</td>\n      <td>0.000235</td>\n      <td>- level , unaudited monthly performance inform...</td>\n      <td>performance</td>\n    </tr>\n    <tr>\n      <th>1</th>\n      <td>0.000229</td>\n      <td>0.999618</td>\n      <td>0.000153</td>\n      <td>To the extent we quote returns on this index ,...</td>\n      <td>performance</td>\n    </tr>\n    <tr>\n      <th>2</th>\n      <td>0.000351</td>\n      <td>0.999497</td>\n      <td>0.000152</td>\n      <td>\\n indication of the broader performance of th...</td>\n      <td>performance</td>\n    </tr>\n    <tr>\n      <th>3</th>\n      <td>0.000170</td>\n      <td>0.999533</td>\n      <td>0.000298</td>\n      <td>As such , the net returns include “ new issue ”</td>\n      <td>performance</td>\n    </tr>\n    <tr>\n      <th>4</th>\n      <td>0.000790</td>\n      <td>0.998585</td>\n      <td>0.000625</td>\n      <td>offering \\n documents . Net returns of other i...</td>\n      <td>performance</td>\n    </tr>\n  </tbody>\n</table>\n</div>"
     },
     "execution_count": 121,
     "metadata": {},
     "output_type": "execute_result"
    }
   ],
   "source": [
    "sent = get_sentiments(tmp['contexts'][0])\n",
    "sent.head()"
   ],
   "metadata": {
    "collapsed": false,
    "ExecuteTime": {
     "end_time": "2024-06-14T09:56:29.828149Z",
     "start_time": "2024-06-14T09:56:28.119453Z"
    }
   },
   "id": "ac4aece3e12d2e66"
  },
  {
   "cell_type": "code",
   "execution_count": 122,
   "outputs": [],
   "source": [
    "# find the average sentiment for each topic\n",
    "def average_sentiments(df):\n",
    "    del df['text']\n",
    "    df = df.groupby('topic').mean()\n",
    "    return df"
   ],
   "metadata": {
    "collapsed": false,
    "ExecuteTime": {
     "end_time": "2024-06-14T09:56:29.835263200Z",
     "start_time": "2024-06-14T09:56:29.830151400Z"
    }
   },
   "id": "b80d63ce7760d920"
  },
  {
   "cell_type": "code",
   "execution_count": 123,
   "outputs": [
    {
     "data": {
      "text/plain": "             negative   neutral  positive\ntopic                                    \nfees         0.000253  0.901887  0.097861\nmarket       0.142418  0.857353  0.000229\nperformance  0.102252  0.812978  0.084770\nportfolio    0.168314  0.389982  0.441705\nteam         0.000215  0.999539  0.000246",
      "text/html": "<div>\n<style scoped>\n    .dataframe tbody tr th:only-of-type {\n        vertical-align: middle;\n    }\n\n    .dataframe tbody tr th {\n        vertical-align: top;\n    }\n\n    .dataframe thead th {\n        text-align: right;\n    }\n</style>\n<table border=\"1\" class=\"dataframe\">\n  <thead>\n    <tr style=\"text-align: right;\">\n      <th></th>\n      <th>negative</th>\n      <th>neutral</th>\n      <th>positive</th>\n    </tr>\n    <tr>\n      <th>topic</th>\n      <th></th>\n      <th></th>\n      <th></th>\n    </tr>\n  </thead>\n  <tbody>\n    <tr>\n      <th>fees</th>\n      <td>0.000253</td>\n      <td>0.901887</td>\n      <td>0.097861</td>\n    </tr>\n    <tr>\n      <th>market</th>\n      <td>0.142418</td>\n      <td>0.857353</td>\n      <td>0.000229</td>\n    </tr>\n    <tr>\n      <th>performance</th>\n      <td>0.102252</td>\n      <td>0.812978</td>\n      <td>0.084770</td>\n    </tr>\n    <tr>\n      <th>portfolio</th>\n      <td>0.168314</td>\n      <td>0.389982</td>\n      <td>0.441705</td>\n    </tr>\n    <tr>\n      <th>team</th>\n      <td>0.000215</td>\n      <td>0.999539</td>\n      <td>0.000246</td>\n    </tr>\n  </tbody>\n</table>\n</div>"
     },
     "execution_count": 123,
     "metadata": {},
     "output_type": "execute_result"
    }
   ],
   "source": [
    "average_sentiments(sent)"
   ],
   "metadata": {
    "collapsed": false,
    "ExecuteTime": {
     "end_time": "2024-06-14T09:56:29.844108900Z",
     "start_time": "2024-06-14T09:56:29.832746600Z"
    }
   },
   "id": "43fa7734e7ee2a25"
  },
  {
   "cell_type": "code",
   "execution_count": 123,
   "outputs": [],
   "source": [],
   "metadata": {
    "collapsed": false,
    "ExecuteTime": {
     "end_time": "2024-06-14T09:56:29.845113900Z",
     "start_time": "2024-06-14T09:56:29.842094700Z"
    }
   },
   "id": "3c1b6e04e4b7b0db"
  }
 ],
 "metadata": {
  "kernelspec": {
   "display_name": "Python 3",
   "language": "python",
   "name": "python3"
  },
  "language_info": {
   "codemirror_mode": {
    "name": "ipython",
    "version": 2
   },
   "file_extension": ".py",
   "mimetype": "text/x-python",
   "name": "python",
   "nbconvert_exporter": "python",
   "pygments_lexer": "ipython2",
   "version": "2.7.6"
  }
 },
 "nbformat": 4,
 "nbformat_minor": 5
}
