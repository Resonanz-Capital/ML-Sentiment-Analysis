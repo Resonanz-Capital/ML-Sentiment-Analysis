{
 "cells": [
  {
   "cell_type": "markdown",
   "source": [
    "Prepare the Data"
   ],
   "metadata": {
    "collapsed": false
   },
   "id": "aa83962ea457df25"
  },
  {
   "cell_type": "code",
   "execution_count": 2,
   "id": "initial_id",
   "metadata": {
    "collapsed": true,
    "ExecuteTime": {
     "end_time": "2024-06-12T15:05:46.909268600Z",
     "start_time": "2024-06-12T15:05:46.391106300Z"
    }
   },
   "outputs": [],
   "source": [
    "import pickle\n",
    "docs = pickle.load(open('raw_docs_filtered.pkl', 'rb'))"
   ]
  },
  {
   "cell_type": "code",
   "execution_count": 3,
   "outputs": [],
   "source": [
    "import pandas as pd\n",
    "import nltk\n",
    "from nltk.tokenize import sent_tokenize\n",
    "\n",
    "def split_in_segments(text):\n",
    "    tokens = 0\n",
    "    mystring = list()\n",
    "    segments = []\n",
    "    for sent in sent_tokenize(text):\n",
    "        newtokens = len(sent.split())\n",
    "        tokens += newtokens\n",
    "        mystring.append(str(sent).strip())\n",
    "        if tokens > 22:\n",
    "            segments.append(\" \".join(mystring))\n",
    "            mystring = []\n",
    "            tokens = 0\n",
    "    if mystring:\n",
    "        segments.append(\" \".join(mystring))\n",
    "    return segments\n",
    "texts = []\n",
    "for i, row in docs.iterrows():\n",
    "    texts.extend(split_in_segments(row['document_text']))"
   ],
   "metadata": {
    "collapsed": false,
    "ExecuteTime": {
     "end_time": "2024-06-12T15:05:51.504897500Z",
     "start_time": "2024-06-12T15:05:46.912272200Z"
    }
   },
   "id": "dc35f37b4f19a79f"
  },
  {
   "cell_type": "code",
   "execution_count": 24,
   "outputs": [],
   "source": [
    "from transformers import AutoModelForSequenceClassification\n",
    "from transformers import TFAutoModelForSequenceClassification\n",
    "from transformers import AutoTokenizer, AutoConfig\n",
    "from scipy.special import softmax\n",
    "\n",
    "MODEL = f\"soleimanian/financial-roberta-large-sentiment\"\n",
    "tokenizer = AutoTokenizer.from_pretrained(MODEL)\n",
    "config = AutoConfig.from_pretrained(MODEL)\n",
    "# PT\n",
    "model = AutoModelForSequenceClassification.from_pretrained(MODEL)\n",
    "\n",
    "text = [\"\"\" While the equity market had a positive\n",
    "            month, mainly driven by a handful of IT, high growth stocks,\n",
    "            (i.e. Nvidia).\"\"\",\n",
    "        \"\"\"\n",
    "        the bond market ended in negative territory, as\n",
    "            rates’ cuts expectations moved further out into the year.\n",
    "        \"\"\"]\n",
    "\n",
    "encoded_input = tokenizer(text, return_tensors='pt', padding=True, truncation=True, max_length=512)\n",
    "output = model(**encoded_input)\n",
    "scores = output[0][0].detach().numpy()\n",
    "scores = softmax(scores)"
   ],
   "metadata": {
    "collapsed": false,
    "ExecuteTime": {
     "end_time": "2024-06-13T05:05:15.978612900Z",
     "start_time": "2024-06-13T05:05:13.673920100Z"
    }
   },
   "id": "a72cf9ed397baf15"
  },
  {
   "cell_type": "code",
   "execution_count": 25,
   "outputs": [
    {
     "data": {
      "text/plain": "array([0.00170091, 0.19778153, 0.80051756], dtype=float32)"
     },
     "execution_count": 25,
     "metadata": {},
     "output_type": "execute_result"
    }
   ],
   "source": [
    "softmax(output[0][0].detach().numpy())"
   ],
   "metadata": {
    "collapsed": false,
    "ExecuteTime": {
     "end_time": "2024-06-13T05:05:17.874118700Z",
     "start_time": "2024-06-13T05:05:17.866848Z"
    }
   },
   "id": "2d838031baffd97f"
  },
  {
   "cell_type": "code",
   "execution_count": 26,
   "outputs": [
    {
     "data": {
      "text/plain": "   negative   neutral  positive\n0  0.001701  0.197782  0.800518\n1  0.998345  0.001080  0.000575",
      "text/html": "<div>\n<style scoped>\n    .dataframe tbody tr th:only-of-type {\n        vertical-align: middle;\n    }\n\n    .dataframe tbody tr th {\n        vertical-align: top;\n    }\n\n    .dataframe thead th {\n        text-align: right;\n    }\n</style>\n<table border=\"1\" class=\"dataframe\">\n  <thead>\n    <tr style=\"text-align: right;\">\n      <th></th>\n      <th>negative</th>\n      <th>neutral</th>\n      <th>positive</th>\n    </tr>\n  </thead>\n  <tbody>\n    <tr>\n      <th>0</th>\n      <td>0.001701</td>\n      <td>0.197782</td>\n      <td>0.800518</td>\n    </tr>\n    <tr>\n      <th>1</th>\n      <td>0.998345</td>\n      <td>0.001080</td>\n      <td>0.000575</td>\n    </tr>\n  </tbody>\n</table>\n</div>"
     },
     "execution_count": 26,
     "metadata": {},
     "output_type": "execute_result"
    }
   ],
   "source": [
    "df = pd.DataFrame([softmax(x.detach().numpy()) for x in output[0]], columns=['negative', 'neutral', 'positive'])\n",
    "df.head()"
   ],
   "metadata": {
    "collapsed": false,
    "ExecuteTime": {
     "end_time": "2024-06-13T05:05:20.079469200Z",
     "start_time": "2024-06-13T05:05:20.072452700Z"
    }
   },
   "id": "66343535862bb8e4"
  },
  {
   "cell_type": "code",
   "execution_count": 28,
   "outputs": [
    {
     "data": {
      "text/plain": "   negative   neutral  positive  \\\n0  0.001701  0.197782  0.800518   \n1  0.998345  0.001080  0.000575   \n\n                                                text  \n0   While the equity market had a positive\\n     ...  \n1  \\n        the bond market ended in negative te...  ",
      "text/html": "<div>\n<style scoped>\n    .dataframe tbody tr th:only-of-type {\n        vertical-align: middle;\n    }\n\n    .dataframe tbody tr th {\n        vertical-align: top;\n    }\n\n    .dataframe thead th {\n        text-align: right;\n    }\n</style>\n<table border=\"1\" class=\"dataframe\">\n  <thead>\n    <tr style=\"text-align: right;\">\n      <th></th>\n      <th>negative</th>\n      <th>neutral</th>\n      <th>positive</th>\n      <th>text</th>\n    </tr>\n  </thead>\n  <tbody>\n    <tr>\n      <th>0</th>\n      <td>0.001701</td>\n      <td>0.197782</td>\n      <td>0.800518</td>\n      <td>While the equity market had a positive\\n     ...</td>\n    </tr>\n    <tr>\n      <th>1</th>\n      <td>0.998345</td>\n      <td>0.001080</td>\n      <td>0.000575</td>\n      <td>\\n        the bond market ended in negative te...</td>\n    </tr>\n  </tbody>\n</table>\n</div>"
     },
     "execution_count": 28,
     "metadata": {},
     "output_type": "execute_result"
    }
   ],
   "source": [
    "df['text'] = text\n",
    "df.head() "
   ],
   "metadata": {
    "collapsed": false,
    "ExecuteTime": {
     "end_time": "2024-06-13T05:05:38.053079300Z",
     "start_time": "2024-06-13T05:05:38.045417800Z"
    }
   },
   "id": "95d078cb79a1f6f4"
  }
 ],
 "metadata": {
  "kernelspec": {
   "display_name": "Python 3",
   "language": "python",
   "name": "python3"
  },
  "language_info": {
   "codemirror_mode": {
    "name": "ipython",
    "version": 2
   },
   "file_extension": ".py",
   "mimetype": "text/x-python",
   "name": "python",
   "nbconvert_exporter": "python",
   "pygments_lexer": "ipython2",
   "version": "2.7.6"
  }
 },
 "nbformat": 4,
 "nbformat_minor": 5
}
